{
 "cells": [
  {
   "cell_type": "code",
   "execution_count": 59,
   "metadata": {},
   "outputs": [],
   "source": [
    "import numpy as np\n",
    "from scipy.integrate import solve_ivp\n",
    "import pandas as pd"
   ]
  },
  {
   "cell_type": "markdown",
   "metadata": {},
   "source": [
    "Fixed Model Parameters"
   ]
  },
  {
   "cell_type": "code",
   "execution_count": 60,
   "metadata": {},
   "outputs": [],
   "source": [
    "alpha_1 = 1e-3\n",
    "alpha_2 = 1.44\n",
    "fk_max = 1\n",
    "R_k = 0.5\n",
    "v_1 = 1.2e2\n",
    "v_2 = 14.4 "
   ]
  },
  {
   "cell_type": "markdown",
   "metadata": {},
   "source": [
    "Kill Function and Dimensionless ODE Model"
   ]
  },
  {
   "cell_type": "code",
   "execution_count": 61,
   "metadata": {},
   "outputs": [],
   "source": [
    "def kill_function(R):\n",
    "     f = fk_max*(R/(R + R_k))\n",
    "\n",
    "     return f\n",
    "\n",
    "def model(t, z, gamma, mu):\n",
    "\n",
    "    dAdt = -alpha_1*(1 - z[1])*z[0]*z[2] + alpha_2*gamma*z[1]*z[2]\n",
    "    dRdt = (alpha_1/gamma)*(1 - z[1])*z[0] - alpha_2*z[1]\n",
    "    dSdt = -kill_function(z[1])*z[3]\n",
    "    dCdt = v_1*(mu - z[3])*(z[2] - z[3]) - v_2*z[3] - kill_function(z[1])*z[3]\n",
    "    dzdt = [dAdt, dRdt, dSdt, dCdt]\n",
    "\n",
    "    return dzdt"
   ]
  },
  {
   "cell_type": "markdown",
   "metadata": {},
   "source": [
    "ICs and Simulation Parameters"
   ]
  },
  {
   "cell_type": "code",
   "execution_count": 62,
   "metadata": {},
   "outputs": [],
   "source": [
    "z0 = [1, 0, 1, 0] \n",
    "t = np.arange(0, 1.1, 0.1)\n",
    "t_span = [0, 1]\n",
    "mu_vals = [1.25, 2.5, 5, 10, 20]\n",
    "gamma_vals = [1, 1e-1, 1e-2, 1e-3, 1e-4, 1e-5, 1e-6, 1e-7, 1e-8]\n",
    "noise_vals = [0.01, 0.05, 0.1, 0.2]"
   ]
  },
  {
   "cell_type": "markdown",
   "metadata": {},
   "source": [
    "Create Dataframe"
   ]
  },
  {
   "cell_type": "code",
   "execution_count": 63,
   "metadata": {},
   "outputs": [],
   "source": [
    "df = pd.DataFrame(columns=['t', 'mu', 'gamma', 'noise level', 'A', 'R', 'S', 'C'])\n"
   ]
  },
  {
   "cell_type": "code",
   "execution_count": 64,
   "metadata": {},
   "outputs": [],
   "source": [
    "\n",
    "for gamma in gamma_vals:\n",
    "    for mu in mu_vals:\n",
    "        for noise_level in noise_vals:\n",
    "            z = solve_ivp(model, t_span, z0, args = (gamma, mu), method ='Radau', t_eval = t)\n",
    "\n",
    "            # add noise\n",
    "            A_array = z.y[0]\n",
    "            R_array = z.y[1]\n",
    "            S_array = z.y[2]\n",
    "            C_array = z.y[3]\n",
    "\n",
    "            for i in range(len(A_array)):\n",
    "                A_array[i] = A_array[i]*(1 + np.random.uniform(-noise_level, noise_level))\n",
    "                R_array[i] = R_array[i]*(1 + np.random.uniform(-noise_level, noise_level))\n",
    "                S_array[i] = S_array[i]*(1 + np.random.uniform(-noise_level, noise_level))\n",
    "                C_array[i] = C_array[i]*(1 + np.random.uniform(-noise_level, noise_level))\n",
    "\n",
    "            # add data to dataframe\n",
    "            for i in range(len(A_array)):\n",
    "                df = df.append({'t' : t[i],\n",
    "                                'mu' : mu,\n",
    "                                'gamma' : gamma,\n",
    "                                'noise level' : noise_level,\n",
    "                                'A' : A_array[i],\n",
    "                                'R' : R_array[i],\n",
    "                                'S' : S_array[i],\n",
    "                                'C' : C_array[i]}, ignore_index=True)\n",
    "\n",
    "        "
   ]
  },
  {
   "cell_type": "code",
   "execution_count": 65,
   "metadata": {},
   "outputs": [
    {
     "name": "stdout",
     "output_type": "stream",
     "text": [
      "        t     mu         gamma  noise level         A         R         S  \\\n",
      "0     0.0   1.25  1.000000e+00         0.01  0.998606  0.000000  1.000346   \n",
      "1     0.1   1.25  1.000000e+00         0.01  1.007527  0.000093  0.998793   \n",
      "2     0.2   1.25  1.000000e+00         0.01  1.002289  0.000174  1.009234   \n",
      "3     0.3   1.25  1.000000e+00         0.01  0.990457  0.000242  0.995423   \n",
      "4     0.4   1.25  1.000000e+00         0.01  0.990199  0.000307  1.000282   \n",
      "...   ...    ...           ...          ...       ...       ...       ...   \n",
      "1975  0.6  20.00  1.000000e-08         0.20  0.832006  0.854553  0.569774   \n",
      "1976  0.7  20.00  1.000000e-08         0.20  0.867716  1.165525  0.514345   \n",
      "1977  0.8  20.00  1.000000e-08         0.20  0.938947  0.967067  0.646961   \n",
      "1978  0.9  20.00  1.000000e-08         0.20  0.867210  1.142501  0.495335   \n",
      "1979  1.0  20.00  1.000000e-08         0.20  1.053632  0.964812  0.415522   \n",
      "\n",
      "             C  \n",
      "0     0.000000  \n",
      "1     0.791728  \n",
      "2     0.790517  \n",
      "3     0.795162  \n",
      "4     0.788440  \n",
      "...        ...  \n",
      "1975  0.540617  \n",
      "1976  0.507308  \n",
      "1977  0.527921  \n",
      "1978  0.458579  \n",
      "1979  0.605027  \n",
      "\n",
      "[1980 rows x 8 columns]\n"
     ]
    }
   ],
   "source": [
    "print(df)"
   ]
  },
  {
   "cell_type": "markdown",
   "metadata": {},
   "source": [
    "Write Dataframe to CSV"
   ]
  },
  {
   "cell_type": "code",
   "execution_count": 66,
   "metadata": {},
   "outputs": [],
   "source": [
    "df.to_csv('basic_model_synthetic_data.csv')"
   ]
  }
 ],
 "metadata": {
  "interpreter": {
   "hash": "916dbcbb3f70747c44a77c7bcd40155683ae19c65e1c03b4aa3499c5328201f1"
  },
  "kernelspec": {
   "display_name": "Python 3.8.10 64-bit",
   "language": "python",
   "name": "python3"
  },
  "language_info": {
   "codemirror_mode": {
    "name": "ipython",
    "version": 3
   },
   "file_extension": ".py",
   "mimetype": "text/x-python",
   "name": "python",
   "nbconvert_exporter": "python",
   "pygments_lexer": "ipython3",
   "version": "3.8.10"
  },
  "orig_nbformat": 4
 },
 "nbformat": 4,
 "nbformat_minor": 2
}
