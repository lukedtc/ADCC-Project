{
 "cells": [
  {
   "cell_type": "code",
   "execution_count": 299,
   "metadata": {},
   "outputs": [],
   "source": [
    "import numpy as np\n",
    "import matplotlib.pyplot as plt\n",
    "import seaborn as sns\n",
    "from sympy import *\n",
    "from scipy.optimize import fsolve\n",
    "from scipy.integrate import solve_ivp\n",
    "from SALib.sample import saltelli\n",
    "from SALib.analyze import sobol"
   ]
  },
  {
   "cell_type": "code",
   "execution_count": 300,
   "metadata": {},
   "outputs": [],
   "source": [
    "Ainit = 1e-5\n",
    "kon = 1e5\n",
    "k = Ainit*kon\n",
    "koff = 1e-4\n",
    "qon = 6.5e3\n",
    "q = qon*Ainit\n",
    "qoff = 4.7e-3\n",
    "\n",
    "delta2 = 10\n",
    "delta4 = 10\n",
    "delta7 = 10\n",
    "delta5 = delta4*delta7/delta2\n",
    "delta6 = delta4\n",
    "k1 = 2*k\n",
    "k1off = koff\n",
    "k2 = delta2*k\n",
    "k2off = 2*koff\n",
    "k3 = q\n",
    "k3off = qoff\n",
    "k4 = delta4*q\n",
    "k4off = qoff\n",
    "k5 = delta5*q\n",
    "k5off = qoff\n",
    "k6 = 2*delta6*k\n",
    "k6off = koff\n",
    "k7 = delta7*k\n",
    "k7off = 2*koff\n",
    "\n",
    "alpha1 = k1/k1off\n",
    "alpha2 = k2/k1off\n",
    "gamma2 = k2off/k1off\n",
    "alpha3 = k3/k1off\n",
    "gamma3 = k3off/k1off\n",
    "alpha4 = k4/k1off\n",
    "gamma4 = k4off/k1off\n",
    "alpha5 = k5/k1off\n",
    "gamma5 = k5off/k1off\n",
    "alpha6 = k6/k1off\n",
    "gamma6 = k6off/k1off\n",
    "alpha7 = k7/k1off\n",
    "gamma7 = k7off/k1off\n",
    "\n",
    "beta_t = 10\n",
    "phi = 2\n",
    "beta_f = beta_t*phi"
   ]
  },
  {
   "cell_type": "code",
   "execution_count": 301,
   "metadata": {},
   "outputs": [],
   "source": [
    "def model_v2(z):\n",
    "\n",
    "    A00 = 1 - (1/beta_t)*(z[0] + z[1] + z[3] + z[4]) - (1/beta_f)*z[2]\n",
    "    rt = 1- z[0] - z[3] - 2*(z[1] + z[4])\n",
    "    rf = 1 - z[2] - phi*(z[3] + z[4])\n",
    "    \n",
    "    dA10 = alpha1*beta_t*(A00)*(rt) - z[0] - alpha2*z[0]*(rt) + gamma2*z[1] - alpha4*z[0]*(rf) + gamma4*z[3]\n",
    "    dA20 = alpha2*z[0]*(rt) - gamma2*z[1] - alpha5*z[1]*(rf) + gamma5*z[4]\n",
    "    dA01 = alpha3*beta_f*(A00)*(rf) - gamma3*z[2] - alpha6*z[2]*(rt) + gamma6*phi*z[3]\n",
    "    dA11 = alpha4*z[0]*(rf) - gamma4*z[3] + (alpha6/phi)*z[2]*(rt) - gamma6*z[3] - alpha7*z[3]*(rt) + gamma7*z[4]\n",
    "    dA21 = alpha5*z[1]*(rf) - gamma5*z[4] + alpha7*z[3]*(rt) - gamma7*z[4]\n",
    "    dz = [dA10, dA20, dA01, dA11, dA21]\n",
    "\n",
    "    return dz\n",
    "\n",
    "roots = fsolve(model_v2, [0.2, 0.2, 0.2, 0.2, 0.2])"
   ]
  },
  {
   "cell_type": "code",
   "execution_count": 302,
   "metadata": {},
   "outputs": [
    {
     "name": "stdout",
     "output_type": "stream",
     "text": [
      "[0.57146727 0.09238522 0.56970846 0.18420177 0.02977865]\n"
     ]
    }
   ],
   "source": [
    "print(roots)"
   ]
  },
  {
   "cell_type": "code",
   "execution_count": 303,
   "metadata": {},
   "outputs": [],
   "source": [
    "\n",
    "A10 = Symbol('A10', real=True)\n",
    "A20 = Symbol('A20', real=True)\n",
    "A01 = Symbol('A01', real=True)\n",
    "A11 = Symbol('A11', real=True)\n",
    "A21 = Symbol('A21', real=True)\n",
    "\n",
    "dA10 = alpha1*beta_t*(1 - (1/beta_t)*(A10 + A20 + A11 + A21) - (1/beta_f)*A01)*(1- A10 - A11 - 2*(A20 + A21)) - A10 - alpha2*A10*(1- A10 - A11 - 2*(A20 + A21)) + gamma2*A20 - alpha4*A10*(1 - A01 - phi*(A11 + A21)) + gamma4*A11\n",
    "dA20 = alpha2*A10*(1- A10 - A11 - 2*(A20 + A21)) - gamma2*A20 - alpha5*A20*(1 - A01 - phi*(A11 + A21)) + gamma5*A21\n",
    "dA01 = alpha3*beta_f*(1 - (1/beta_t)*(A10 + A20 + A11 + A21) - (1/beta_f)*A01)*(1 - A01 - phi*(A11 + A21)) - gamma3*A01 - alpha6*A01*(1- A10 - A11 - 2*(A20 + A21)) + gamma6*phi*A11\n",
    "dA11 = alpha4*A10*(1 - A01 - phi*(A11 + A21)) - gamma4*A11 + (alpha6/phi)*A01*(1- A10 - A11 - 2*(A20 + A21)) - gamma6*A11 - alpha7*A11*(1- A10 - A11 - 2*(A20 + A21)) + gamma7*A21\n",
    "dA21 = alpha5*A20*(1 - A01 - phi*(A11 + A21)) - gamma5*A21 + alpha7*A11*(1- A10 - A11 - 2*(A20 + A21)) - gamma7*A21\n",
    "\n",
    "#val = solve([dA10, dA20, dA01, dA11, dA21], (A10, A20, A01, A11, A21))\n"
   ]
  },
  {
   "cell_type": "markdown",
   "metadata": {},
   "source": [
    "Sensitivity analysis for amount of fc bound"
   ]
  },
  {
   "cell_type": "code",
   "execution_count": 304,
   "metadata": {},
   "outputs": [],
   "source": [
    "def single_cell_model(t, z, delta, beta, A_0):\n",
    "    \n",
    "    Ainit = A_0\n",
    "    kon = 1e5\n",
    "    k = Ainit*kon\n",
    "    k1 = 2*k\n",
    "    k1off = koff\n",
    "    alpha1 = k1/k1off\n",
    "    dA1 = alpha1*(1-z[0]-2*z[1])*(beta-z[0]-z[1]) - z[0] - delta*alpha1*(1-z[0]-2*z[1])*z[0] + 2*z[1]\n",
    "    dA2 = delta*alpha1*(1-z[0]-2*z[1])*z[0] - 2*z[1]\n",
    "\n",
    "    return [dA1, dA2]\n",
    "\n",
    "def single_cell_stst(delta, beta, A_0):\n",
    "    t_end = 100\n",
    "    t = np.geomspace(1e-8, t_end, 500)\n",
    "    tspan = [0, t_end]\n",
    "    z0 = [0, 0]\n",
    "\n",
    "    # solve single cell model to obtain equilibrium values\n",
    "    # to use as ics for A10 and A20 in two cell model\n",
    "    z = solve_ivp(single_cell_model, tspan, z0, method='Radau', args=(delta, beta, A_0), t_eval=t)\n",
    "    A1 = z.y[0]\n",
    "    A2 = z.y[1]\n",
    "    A1_stst = A1[-1]\n",
    "    A2_stst = A2[-1]\n",
    "\n",
    "    return [A1_stst, A2_stst]\n",
    "\n",
    "def two_cells(t, z, beta_t, phi, delta2, delta4, delta7, A_0):\n",
    "\n",
    "    Ainit = A_0\n",
    "    kon = 1e5\n",
    "    k = Ainit*kon\n",
    "    koff = 1e-4\n",
    "    qon = 6.5e3\n",
    "    q = qon*Ainit\n",
    "    qoff = 4.7e-3\n",
    "    delta5 = delta4*delta7/delta2\n",
    "    delta6 = delta4\n",
    "    k1 = 2*k\n",
    "    k1off = koff\n",
    "    k2 = delta2*k\n",
    "    k2off = 2*koff\n",
    "    k3 = q\n",
    "    k3off = qoff\n",
    "    k4 = delta4*q\n",
    "    k4off = qoff\n",
    "    k5 = delta5*q\n",
    "    k5off = qoff\n",
    "    k6 = 2*delta6*k\n",
    "    k6off = koff\n",
    "    k7 = delta7*k\n",
    "    k7off = 2*koff\n",
    "\n",
    "    alpha1 = k1/k1off\n",
    "    alpha2 = k2/k1off\n",
    "    gamma2 = k2off/k1off\n",
    "    alpha3 = k3/k1off\n",
    "    gamma3 = k3off/k1off\n",
    "    alpha4 = k4/k1off\n",
    "    gamma4 = k4off/k1off\n",
    "    alpha5 = k5/k1off\n",
    "    gamma5 = k5off/k1off\n",
    "    alpha6 = k6/k1off\n",
    "    gamma6 = k6off/k1off\n",
    "    alpha7 = k7/k1off\n",
    "    gamma7 = k7off/k1off\n",
    "\n",
    "    A00 = 1 - (1/beta_t)*(z[0] + z[1] + z[3] + z[4]) - (1/beta_f)*z[2]\n",
    "    rt = 1- z[0] - z[3] - 2*(z[1] + z[4])\n",
    "    rf = 1 - z[2] - phi*(z[3] + z[4])\n",
    "    \n",
    "    dA10 = alpha1*beta_t*(A00)*(rt) - z[0] - alpha2*z[0]*(rt) + gamma2*z[1] - alpha4*z[0]*(rf) + gamma4*z[3]\n",
    "    dA20 = alpha2*z[0]*(rt) - gamma2*z[1] - alpha5*z[1]*(rf) + gamma5*z[4]\n",
    "    dA01 = alpha3*beta_f*(A00)*(rf) - gamma3*z[2] - alpha6*z[2]*(rt) + gamma6*phi*z[3]\n",
    "    dA11 = alpha4*z[0]*(rf) - gamma4*z[3] + (alpha6/phi)*z[2]*(rt) - gamma6*z[3] - alpha7*z[3]*(rt) + gamma7*z[4]\n",
    "    dA21 = alpha5*z[1]*(rf) - gamma5*z[4] + alpha7*z[3]*(rt) - gamma7*z[4]\n",
    "    dz = [dA10, dA20, dA01, dA11, dA21]\n",
    "\n",
    "    return dz\n",
    "\n",
    "def calc_fc(beta_t, phi, delta2, delta4, delta7, A_0):\n",
    "\n",
    "    ICS = single_cell_stst(delta2, beta_t, A_0)\n",
    "    tend = 1000\n",
    "    t = np.geomspace(1e-10, tend, 500)\n",
    "    z0 = [ICS[0], ICS[1], 0, 0, 0]\n",
    "    t_span = [1e-10, tend]\n",
    "    z = solve_ivp(two_cells, t_span, z0, method='Radau', t_eval=t, args=(beta_t, phi, delta2, delta4, delta7, A_0))\n",
    "\n",
    "    A11 = z.y[3]\n",
    "    A21 = z.y[4]\n",
    "    fc = A11[-1] + A21[-1]\n",
    "\n",
    "    return fc\n",
    "    "
   ]
  },
  {
   "cell_type": "code",
   "execution_count": 305,
   "metadata": {},
   "outputs": [],
   "source": [
    "problem = {\n",
    "    'num_vars': 2,\n",
    "    'names': ['beta_t', 'phi'],\n",
    "    'bounds': [[0.1, 100],\n",
    "               [0.1, 2]]\n",
    "}\n",
    "\n",
    "# generate samples\n",
    "\n",
    "vals = saltelli.sample(problem, 1024)\n",
    "\n",
    "Y = np.zeros(len(vals))\n",
    "indicies = []\n",
    "A0s = [1e-12, 1e-11, 1e-10, 1e-9, 1e-8, 1e-7, 1e-6, 1e-5]\n",
    "for A_0 in A0s:\n",
    "    for i in range(len(vals)):\n",
    "        params = vals[i]\n",
    "        beta_t = params[0]\n",
    "        phi = params[1]\n",
    "        delta2 = 10\n",
    "        delta4 = 10\n",
    "        delta7 = 10\n",
    "        Y[i] = calc_fc(beta_t, phi, delta2, delta4, delta7, A_0)\n",
    "        Si = sobol.analyze(problem, Y)\n",
    "    indicies.append(Si['ST'])\n"
   ]
  },
  {
   "cell_type": "code",
   "execution_count": 307,
   "metadata": {},
   "outputs": [
    {
     "data": {
      "image/png": "[encoded data removed]",
      "text/plain": [
       "<Figure size 640x480 with 1 Axes>"
      ]
     },
     "metadata": {},
     "output_type": "display_data"
    }
   ],
   "source": [
    "beta_t_si = []\n",
    "phi_si = []\n",
    "delta2_si = []\n",
    "delta4_si = []\n",
    "delta7_si = []\n",
    "\n",
    "for i in range(len(indicies)):\n",
    "    vals = indicies[i]\n",
    "    beta_t_si.append(vals[0])\n",
    "    phi_si.append(vals[1])\n",
    "    #delta2_si.append(vals[2])\n",
    "    #delta4_si.append(vals[3])\n",
    "    #delta7_si.append(vals[3])\n",
    "\n",
    "data = [beta_t_si, phi_si]\n",
    "labels = [r'$\\beta^t$', r'$\\phi$']\n",
    "\n",
    "sns.set_theme()\n",
    "\n",
    "for i in range(len(data)):\n",
    "    plt.plot(A0s, data[i], label=labels[i])\n",
    "\n",
    "\n",
    "plt.xscale('log')\n",
    "plt.xlabel('Antibody concentration')\n",
    "plt.legend(loc='best')\n",
    "plt.show()"
   ]
  },
  {
   "cell_type": "code",
   "execution_count": 309,
   "metadata": {},
   "outputs": [
    {
     "data": {
      "text/plain": [
       "5.787037037037037e-05"
      ]
     },
     "execution_count": 309,
     "metadata": {},
     "output_type": "execute_result"
    }
   ],
   "source": [
    "5/(24*60*60)"
   ]
  }
 ],
 "metadata": {
  "kernelspec": {
   "display_name": "Python 3.10.8 64-bit",
   "language": "python",
   "name": "python3"
  },
  "language_info": {
   "codemirror_mode": {
    "name": "ipython",
    "version": 3
   },
   "file_extension": ".py",
   "mimetype": "text/x-python",
   "name": "python",
   "nbconvert_exporter": "python",
   "pygments_lexer": "ipython3",
   "version": "3.10.8 (main, Oct 13 2022, 09:48:40) [Clang 14.0.0 (clang-1400.0.29.102)]"
  },
  "orig_nbformat": 4,
  "vscode": {
   "interpreter": {
    "hash": "b0fa6594d8f4cbf19f97940f81e996739fb7646882a419484c72d19e05852a7e"
   }
  }
 },
 "nbformat": 4,
 "nbformat_minor": 2
}
