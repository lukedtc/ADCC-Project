{
 "cells": [
  {
   "cell_type": "code",
   "execution_count": 5,
   "metadata": {},
   "outputs": [],
   "source": [
    "from synapse_solver import SynapseModel\n",
    "import numpy as np\n",
    "import matplotlib.pyplot as plt\n",
    "import seaborn as sns\n",
    "import pandas as pd"
   ]
  },
  {
   "cell_type": "code",
   "execution_count": 6,
   "metadata": {},
   "outputs": [],
   "source": [
    "df = pd.read_csv('/Users/lukeheirene/ADCC-Project/Receptor_level_model/Goldilocks_gradient_checker/synthetic_synapse_fc_outputs_large_range.csv')\n",
    "df_fc = df['fc']\n",
    "model_vals = np.zeros((8, int(df_fc.shape[0]/8)))\n",
    "\n",
    "j = 0\n",
    "while j < df_fc.shape[0]:\n",
    "    df1 = df_fc.loc[8*j:8*j+7]\n",
    "    for i in range(len(df1)):\n",
    "        model_vals[i, j] = df1.values[i]\n",
    "    j+=1\n",
    "\n",
    "potential_goldilocks = []\n",
    "for i in range(model_vals.shape[1]):\n",
    "    array = model_vals[:,i]\n",
    "    array_gradient = np.gradient(array)\n",
    "    for j in range(len(array_gradient)):\n",
    "        if array_gradient[j] < 0:\n",
    "            potential_goldilocks.append(array)\n"
   ]
  },
  {
   "cell_type": "code",
   "execution_count": 7,
   "metadata": {},
   "outputs": [
    {
     "name": "stdout",
     "output_type": "stream",
     "text": [
      "0\n"
     ]
    }
   ],
   "source": [
    "print(len(potential_goldilocks))"
   ]
  }
 ],
 "metadata": {
  "kernelspec": {
   "display_name": "Python 3",
   "language": "python",
   "name": "python3"
  },
  "language_info": {
   "codemirror_mode": {
    "name": "ipython",
    "version": 3
   },
   "file_extension": ".py",
   "mimetype": "text/x-python",
   "name": "python",
   "nbconvert_exporter": "python",
   "pygments_lexer": "ipython3",
   "version": "3.10.8"
  },
  "orig_nbformat": 4,
  "vscode": {
   "interpreter": {
    "hash": "b0fa6594d8f4cbf19f97940f81e996739fb7646882a419484c72d19e05852a7e"
   }
  }
 },
 "nbformat": 4,
 "nbformat_minor": 2
}
