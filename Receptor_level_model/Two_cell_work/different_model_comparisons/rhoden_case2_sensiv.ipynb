{
 "cells": [
  {
   "cell_type": "code",
   "execution_count": 17,
   "metadata": {},
   "outputs": [],
   "source": [
    "import numpy as np\n",
    "import matplotlib.pyplot as plt\n",
    "import seaborn as sns\n",
    "from scipy.integrate import solve_ivp\n",
    "from scipy.constants import N_A\n",
    "import math\n",
    "from SALib.sample import saltelli\n",
    "from SALib.analyze import sobol"
   ]
  },
  {
   "cell_type": "code",
   "execution_count": 18,
   "metadata": {},
   "outputs": [],
   "source": [
    "# Parameter values\n",
    "\n",
    "\n",
    "Target_cell_number = 5e3\n",
    "tumour_cell_radius = 8e-6\n",
    "tumour_cell_surface_area = 4*math.pi*((tumour_cell_radius)**2)\n",
    "r_ab = 1.25e-8\n",
    "NK_cell_radius = 3e-6\n",
    "Nk_cell_surface_area = 4*math.pi*((NK_cell_radius)**2)\n",
    "reaction_volume1 = (2/3)*math.pi*((r_ab)**3)\n",
    "reaction_volume2 = (2/3)*math.pi*((0.5*r_ab)**3)\n",
    "reaction_volume3 = (2/3)*math.pi*((r_ab)**3)\n",
    "reaction_volume_4 = (1/3)*math.pi*((r_ab)**3)\n",
    "\n",
    "\n",
    "t_end = 10\n",
    "t = np.geomspace(1e-10, t_end, 5000)\n",
    "tspan = [1e-10, t_end]\n",
    "t_end1 = 1\n",
    "t1 = np.geomspace(1e-10, t_end1, 100)\n",
    "t_span1 = [0, t_end1]\n",
    "E_T_ratio = 10"
   ]
  },
  {
   "cell_type": "code",
   "execution_count": 19,
   "metadata": {},
   "outputs": [],
   "source": [
    "def single_cell_model(t, z, A0, rtot, kon, koff):\n",
    "    k = kon*A0\n",
    "    alpha = k/koff\n",
    "    Atot = 1e16*A0/Target_cell_number\n",
    "    beta = Atot/rtot\n",
    "    target_effective_conc1 =(rtot)*(tumour_cell_surface_area)*(1/N_A)/(reaction_volume1)\n",
    "    k2 = target_effective_conc1*kon\n",
    "    alpha2 = k2/koff\n",
    "    dA1 = 2*alpha*(1-z[0]-2*z[1])*(beta-z[0]-z[1]) - z[0] - alpha2*(1-z[0]-2*z[1])*z[0] + 2*z[1]\n",
    "    dA2 = alpha2*(1-z[0]-2*z[1])*z[0] - 2*z[1]\n",
    "\n",
    "    return [dA1, dA2]\n",
    "\n",
    "def NK_cell(t, z, A_0, Atot_system, E_T_ratio, rtot_f, qon, qoff, koff):\n",
    "    q = A_0*qon\n",
    "    sigma = q/koff\n",
    "    epsilon = qoff/koff\n",
    "    Atot_effector = Atot_system/E_T_ratio\n",
    "    eta = Atot_effector/rtot_f\n",
    "\n",
    "    return sigma*(eta-z)*(1-z) - epsilon*z\n",
    "\n",
    "def single_cell_stst(A_0, rtot, kon, koff):\n",
    "\n",
    "    z0 = [0, 0]\n",
    "\n",
    "    # solve single cell model to obtain equilibrium values\n",
    "    # to use as ics for A10 and A20 in two cell model\n",
    "    z = solve_ivp(single_cell_model, tspan, z0, method='Radau', args=(A_0, rtot, kon, koff), t_eval=t)\n",
    "    A1 = z.y[0]\n",
    "    A2 = z.y[1]\n",
    "    A1_stst = A1[-1]\n",
    "    A2_stst = A2[-1]\n",
    "    \n",
    "    return [A1_stst, A2_stst]\n",
    "\n",
    "def NK_cell_IC(A_0, A1_stst, A2_stst, E_T_ratio, rtotff, rtott, qon, qoff, koff):\n",
    "\n",
    "    Atot = 1e16*A_0/Target_cell_number\n",
    "    beta = Atot/rtott\n",
    "\n",
    "    A0 = beta - A1_stst - A2_stst\n",
    "    A0_IC = A0*Atot\n",
    "\n",
    "    z1 = solve_ivp(NK_cell, t_span1, [0], method='Radau', args=(A_0, A0_IC, E_T_ratio, rtotff, qon, qoff, koff), t_eval=t1)\n",
    "\n",
    "    A1f = z1.y[0]\n",
    "\n",
    "    return A1f[-1]\n",
    "\n",
    "def two_cells(t, z, A_0, A10_0, A20_0, A01_0, kon, koff, qon, qoff, rtott, rtotf):\n",
    "\n",
    "    Ainit = A_0\n",
    "    k = Ainit*kon\n",
    "    q = qon*Ainit\n",
    "    k1off = koff\n",
    "    k2off = 2*koff\n",
    "    k3off = qoff\n",
    "    k4off = qoff\n",
    "    k5off = qoff\n",
    "    k6off = koff\n",
    "    k7off = 2*koff\n",
    "    gamma2 = k2off/k1off\n",
    "    gamma3 = k3off/k1off\n",
    "    gamma4 = k4off/k1off\n",
    "    gamma5 = k5off/k1off\n",
    "    gamma6 = k6off/k1off\n",
    "    gamma7 = k7off/k1off\n",
    "    target_effect_conc2 = (rtotf)*(Nk_cell_surface_area)*(1/N_A)/(reaction_volume1)\n",
    "    target_effect_conc3 = (rtotf)*(Nk_cell_surface_area)*(1/N_A)/(reaction_volume2)\n",
    "    target_effective_conc1 =(rtott)*(tumour_cell_surface_area)*(1/N_A)/(reaction_volume1)\n",
    "    target_effect_conc6 = (rtott)*(tumour_cell_surface_area)*(1/N_A)/(reaction_volume1)\n",
    "    target_effect_conc7 = (rtott)*(tumour_cell_surface_area*(1/N_A))/(reaction_volume2)\n",
    "    k2 = target_effective_conc1*kon\n",
    "    k4 = target_effect_conc2*qon\n",
    "    k5 = target_effect_conc3*qon\n",
    "    k6 = 2*target_effect_conc6*kon\n",
    "    k7 = target_effect_conc7*kon\n",
    "    k1 = 2*k\n",
    "    k3 = q\n",
    "\n",
    "    alpha1 = k1/k1off\n",
    "    alpha2 = k2/k1off\n",
    "    alpha3 = k3/k1off\n",
    "    alpha4 = k4/k1off\n",
    "    alpha5 = k5/k1off\n",
    "    alpha6 = k6/k1off\n",
    "    alpha7 = k7/k1off\n",
    "\n",
    "    rtot_t = rtott*0.035\n",
    "    rtot_f = rtotf/4\n",
    "    phi = rtot_t/rtot_f\n",
    "    beta_synapse = 1e1*Ainit\n",
    "    beta_t = beta_synapse + A10_0 + A20_0 + (A01_0/phi)\n",
    "    beta_f = phi*beta_t\n",
    "    \n",
    "    A00 = (1 - (1/beta_t)*(z[0] + z[1] + z[3] + z[4] + (1/phi)*z[2]))\n",
    "    rt = 1- z[0] - z[3] - 2*(z[1] + z[4])\n",
    "    rf = 1 - z[2] - phi*(z[3] + z[4])\n",
    "    \n",
    "    dA10 = alpha1*beta_t*(A00)*(rt) - z[0] - alpha2*z[0]*(rt) + gamma2*z[1] - alpha4*z[0]*(rf) + gamma4*z[3]\n",
    "    dA20 = alpha2*z[0]*(rt) - gamma2*z[1] - alpha5*z[1]*(rf) + gamma5*z[4]\n",
    "    dA01 = alpha3*beta_f*(A00)*(rf) - gamma3*z[2] - alpha6*z[2]*(rt) + gamma6*phi*z[3]\n",
    "    dA11 = alpha4*z[0]*(rf) - gamma4*z[3] + (alpha6/phi)*z[2]*(rt) - gamma6*z[3] - alpha7*z[3]*(rt) + gamma7*z[4]\n",
    "    dA21 = alpha5*z[1]*(rf) - gamma5*z[4] + alpha7*z[3]*(rt) - gamma7*z[4]\n",
    "    dz = [dA10, dA20, dA01, dA11, dA21]\n",
    "\n",
    "    return dz"
   ]
  },
  {
   "cell_type": "code",
   "execution_count": 20,
   "metadata": {},
   "outputs": [],
   "source": [
    "def calc_fc(A_0, kon, koff, qon, qoff, rtot_t, rtot_f):\n",
    "\n",
    "    ICS = single_cell_stst(A_0, rtot_t, kon, koff)\n",
    "    A10_0 = ICS[0]\n",
    "    A20_0 = ICS[1]\n",
    "    A01_0 = NK_cell_IC(A_0, A10_0, A20_0, E_T_ratio, rtot_f, rtot_t, qon, qoff, koff)\n",
    "    z0 = [A10_0, A20_0, A01_0, 0, 0]\n",
    "    z = solve_ivp(two_cells, tspan, z0, method='Radau', t_eval=t, args=(A_0, A10_0, A20_0, A01_0, kon, koff, qon, qoff, rtot_t, rtot_f))\n",
    "    A11 =  z.y[3]\n",
    "    A21 = z.y[4]\n",
    "\n",
    "    fc = np.max(A11 + A21)\n",
    "    \n",
    "    return fc"
   ]
  },
  {
   "cell_type": "code",
   "execution_count": 21,
   "metadata": {},
   "outputs": [],
   "source": [
    "problem = {\n",
    "    'num_vars': 6,\n",
    "    'names': ['kon', 'koff', 'qon', 'qoff', 'rtot_t', 'rtot_f'],\n",
    "    'bounds': [[1e3, 1e7],\n",
    "               [5e-5, 5e-4],\n",
    "               [8e3, 1e5],\n",
    "               [5e-3, 1e-1],\n",
    "               [5e4, 1e6],\n",
    "               [4e4, 3e5]]\n",
    "}"
   ]
  },
  {
   "cell_type": "code",
   "execution_count": 22,
   "metadata": {},
   "outputs": [],
   "source": [
    "vals = saltelli.sample(problem, 2048)\n",
    "\n",
    "Y = np.zeros(len(vals))\n",
    "indicies = []\n",
    "A0s = [1e-12, 1e-11, 1e-10, 1e-9, 1e-8, 1e-7, 1e-6, 1e-5]\n",
    "\n",
    "for A0 in A0s:\n",
    "    for i in range(len(vals)):\n",
    "        params = vals[i]\n",
    "        kon = params[0]\n",
    "        koff = params[1]\n",
    "        qon = params[2]\n",
    "        qoff = params[3]\n",
    "        rtot_t = params[4]\n",
    "        rtot_f = params[5]\n",
    "        Y[i] = calc_fc(A0, kon, koff, qon, qoff, rtot_t, rtot_f)\n",
    "    Si = sobol.analyze(problem, Y)\n",
    "    indicies.append(Si['ST'])"
   ]
  },
  {
   "cell_type": "code",
   "execution_count": 23,
   "metadata": {},
   "outputs": [],
   "source": [
    "kon_si = np.zeros(len(A0s))\n",
    "koff_si = np.zeros(len(A0s))\n",
    "qon_si = np.zeros(len(A0s))\n",
    "qoff_si = np.zeros(len(A0s))\n",
    "rtot_t_si = np.zeros(len(A0s))\n",
    "rtot_f_si = np.zeros(len(A0s))\n",
    "\n",
    "for i in range(len(indicies)):\n",
    "    vals = indicies[i]\n",
    "    kon_si[i] = vals[0]\n",
    "    koff_si[i] = vals[1]\n",
    "    qon_si[i] = vals[2]\n",
    "    qoff_si[i] = vals[3]\n",
    "    rtot_t_si[i] = vals[4]\n",
    "    rtot_f_si[i] = vals[5]\n"
   ]
  },
  {
   "cell_type": "code",
   "execution_count": 24,
   "metadata": {},
   "outputs": [
    {
     "data": {
      "image/png": "[encoded data removed]",
      "text/plain": [
       "<Figure size 1200x800 with 1 Axes>"
      ]
     },
     "metadata": {},
     "output_type": "display_data"
    }
   ],
   "source": [
    "ab_conc = (r'$10^{-12}$', r'$10^{-11}$', r'$10^{-10}$', r'$10^{-9}$', r'$10^{-8}$', r'$10^{-7}$', r'$10^{-6}$', r'$10^{-5}$')\n",
    "\n",
    "param_indicies = {\n",
    "    r\"$k_{on}$\": kon_si,\n",
    "    r\"$k_{off}$\": koff_si,\n",
    "    r\"$q_{on}$\": qon_si,\n",
    "    r\"$q_{off}$\": qoff_si,\n",
    "    r\"$r_{tot}^t$\": rtot_t_si,\n",
    "    r\"$r_{tot}^f$\": rtot_f_si\n",
    "}\n",
    "\n",
    "sns.set_theme()\n",
    "\n",
    "width = 0.5\n",
    "fig, ax = plt.subplots(figsize=(12,8))\n",
    "bottom = np.zeros(8)\n",
    "\n",
    "for boolean, param_indicie in param_indicies.items():\n",
    "    p = ax.bar(ab_conc, param_indicie, width, label=boolean, bottom=bottom)\n",
    "    bottom += param_indicie\n",
    "\n",
    "ax.set_title('Model R Fc Number Sobol Sensitivity Analysis')\n",
    "ax.legend(loc='best')\n",
    "ax.set_xlabel('Antibody Concentration (M)')\n",
    "ax.set_ylabel('Total Order Sobol Indicies')\n",
    "plt.show()"
   ]
  },
  {
   "cell_type": "code",
   "execution_count": 26,
   "metadata": {},
   "outputs": [
    {
     "data": {
      "text/plain": [
       "18000.0"
      ]
     },
     "execution_count": 26,
     "metadata": {},
     "output_type": "execute_result"
    }
   ],
   "source": [
    "1e-5*150000*(3e-15)/(2.5e-19)"
   ]
  },
  {
   "cell_type": "code",
   "execution_count": 28,
   "metadata": {},
   "outputs": [
    {
     "data": {
      "text/plain": [
       "18066.420000000002"
      ]
     },
     "execution_count": 28,
     "metadata": {},
     "output_type": "execute_result"
    }
   ],
   "source": [
    "1e-5*(3e-15)*(6.02214e23)"
   ]
  }
 ],
 "metadata": {
  "kernelspec": {
   "display_name": "Python 3",
   "language": "python",
   "name": "python3"
  },
  "language_info": {
   "codemirror_mode": {
    "name": "ipython",
    "version": 3
   },
   "file_extension": ".py",
   "mimetype": "text/x-python",
   "name": "python",
   "nbconvert_exporter": "python",
   "pygments_lexer": "ipython3",
   "version": "3.10.9"
  },
  "orig_nbformat": 4,
  "vscode": {
   "interpreter": {
    "hash": "b0fa6594d8f4cbf19f97940f81e996739fb7646882a419484c72d19e05852a7e"
   }
  }
 },
 "nbformat": 4,
 "nbformat_minor": 2
}
