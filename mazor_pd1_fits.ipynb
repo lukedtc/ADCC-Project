{
 "cells": [
  {
   "cell_type": "code",
   "execution_count": 11,
   "metadata": {},
   "outputs": [],
   "source": [
    "import numpy as np\n",
    "import matplotlib.pyplot as plt\n",
    "import math\n",
    "from scipy.integrate import solve_ivp\n",
    "from lmfit import minimize, Parameters, report_fit\n",
    "import pandas as pd\n",
    "from scipy.constants import N_A"
   ]
  },
  {
   "cell_type": "code",
   "execution_count": 12,
   "metadata": {},
   "outputs": [
    {
     "data": {
      "text/plain": [
       "4516605570.0"
      ]
     },
     "execution_count": 12,
     "metadata": {},
     "output_type": "execute_result"
    }
   ],
   "source": [
    "150e-6*N_A*1e-5/2e5"
   ]
  },
  {
   "cell_type": "code",
   "execution_count": 13,
   "metadata": {},
   "outputs": [],
   "source": [
    "Target_cell_number = 2e5\n",
    "well_size = 150e-6\n",
    "r_ab = 1.25e-6 # in cm\n",
    "t_end = 60*60*10\n",
    "t = np.geomspace(1e-10, t_end, 50)\n",
    "tspan = [1e-10, t_end]\n",
    "z0 = [0, 0, 0]\n",
    "T_cell_radius = 5e-4 #cm\n",
    "T_cell_surface_area = 4*math.pi*((T_cell_radius)**2)\n",
    "reaction_volume = (2/3)*math.pi*((r_ab)**3)\n",
    "tumour_cell_radius = 8e-6\n",
    "tumour_cell_surface_area = 4*math.pi*((tumour_cell_radius)**2)"
   ]
  },
  {
   "cell_type": "code",
   "execution_count": 14,
   "metadata": {},
   "outputs": [],
   "source": [
    "def model_S_bispecific(t, z, Ainit, rtot1, rtot2, kon, kon1, k21, k22, koff1, koff2):\n",
    "    k = Ainit*kon\n",
    "    k1 = Ainit*kon1\n",
    "    Atot = well_size*N_A*Ainit/Target_cell_number\n",
    "    A0 = Atot - z[0] - z[1] - z[2]\n",
    "    Ag1 = rtot1 - z[0] - z[2]\n",
    "    Ag2 = rtot2 - z[1] - z[2]\n",
    "\n",
    "    dA10 = (k*(Ag1)*(A0)/rtot1) - koff1*z[0] - (k22*(Ag2)*z[0]/rtot2) + koff2*z[2]\n",
    "    dA01 = (k1*(Ag2)*(A0)/rtot2) - koff2*z[1] - (k21*(Ag1)*z[1]/rtot1) + koff1*z[2]\n",
    "    dA11 = (k22*(Ag2)*z[0]/rtot2) + (k21*(Ag1)*z[1]/rtot1) - (koff1 + koff2)*z[2]\n",
    "\n",
    "    return [dA10, dA01, dA11]\n",
    "\n",
    "def solve_ode(x, params, i):\n",
    "\n",
    "    rtot1 = params[f'rtot1_{i+1}']\n",
    "    rtot2 = params[f'rtot2_{i+1}']\n",
    "    kon1 = params[f'kon1_{i+1}']\n",
    "    kon2 = params[f'kon2_{i+1}']\n",
    "    k21 = params[f'k21_{i+1}']\n",
    "    k22 = params[f'k22_{i+1}']\n",
    "    koff1 = params[f'koff1_{i+1}']\n",
    "    koff2 = params[f'koff2_{i+1}']\n",
    "\n",
    "    ab_vals = np.zeros_like(x)\n",
    "    ag1_vals = np.zeros_like(x)\n",
    "    ag2_vals = np.zeros_like(x)\n",
    "    \n",
    "    for j, val in enumerate(x):\n",
    "        A0 = 1e-9*val\n",
    "        z = solve_ivp(model_S_bispecific, tspan, z0, method='Radau', t_eval=t, args=(A0, rtot1, rtot2, kon1, kon2, \n",
    "                                                                                 k21, k22, koff1, koff2))\n",
    "        \n",
    "        A10 = z.y[0]\n",
    "        A01 = z.y[1]\n",
    "        A11 = z.y[2]\n",
    "        A10_STST = A10[-1]\n",
    "        A01_STST = A01[-1]\n",
    "        A11_STST = A11[-1]\n",
    "\n",
    "        Ag1 = (rtot1 - A10_STST - A11_STST)/rtot1\n",
    "        Ag2 = (rtot2 - A01_STST - A11_STST)/rtot2\n",
    "        Ab = 1 - (((rtot1 - A10_STST - A11_STST) + (rtot2 - A01_STST - A11_STST))/(rtot1 + rtot2))\n",
    "\n",
    "        ab_vals[j] = Ab\n",
    "        ag1_vals[j] = Ag1\n",
    "        ag2_vals[j] = Ag2\n",
    "    \n",
    "    sols = [np.asarray(ag1_vals), np.asarray(ag2_vals), np.asarray(ab_vals)]\n",
    "\n",
    "    return sols[i]\n",
    "    \n",
    "def objective(params, x, data):\n",
    "    ndata =  data.shape[0]\n",
    "    resid = 0.0*data[:]\n",
    "\n",
    "    for i in range(ndata):\n",
    "        resid[i][:] = data[i][:] - solve_ode(x, params, i)\n",
    "    \n",
    "    return resid.flatten()\n"
   ]
  },
  {
   "cell_type": "code",
   "execution_count": 15,
   "metadata": {},
   "outputs": [
    {
     "name": "stdout",
     "output_type": "stream",
     "text": [
      "12\n"
     ]
    }
   ],
   "source": [
    "df = pd.read_csv('pd1_10_1_data.csv')\n",
    "x_data_pd1 = np.asarray(df['xdata'])    \n",
    "y_data = np.asarray(df['ydata'])\n",
    "y_data_pd1 = y_data/100\n",
    "\n",
    "df1 = pd.read_csv('ctla4_data_10_1.csv')\n",
    "x_data_ctla = np.asarray(df1['xdata'])\n",
    "y_data1 = np.asarray(df1['ydata'])\n",
    "y_data_ctla = y_data1/100\n",
    "\n",
    "df2 = pd.read_csv('bispecific_pd1_ctla4_binding_data_10_1.csv')\n",
    "x_data_ab = np.asarray(df2['xdata'])\n",
    "y_data2 = np.asarray(df2['ydata'])\n",
    "y_data_ab = y_data2/100\n",
    "\n",
    "data = [y_data_pd1, y_data_ctla, y_data_ab]\n",
    "data = np.array(data)\n",
    "print(len(data[1]))"
   ]
  },
  {
   "cell_type": "code",
   "execution_count": 16,
   "metadata": {},
   "outputs": [],
   "source": [
    "df = pd.read_csv('Mazor_bispecific_40_1.csv')\n",
    "df1 = df[['Dataset_pd1_401', 'Unnamed: 1']]\n",
    "x_data_pd1_40 = np.asarray(df1['Dataset_pd1_401'])\n",
    "y_data_pd1_40 = np.asarray(df1['Unnamed: 1'])/100\n",
    "\n",
    "df2 = df[['Dataset_ctla_40_1', 'Unnamed: 3']]\n",
    "y_data_ctla4_40 = np.asarray(df2['Unnamed: 3'])/100\n",
    "\n",
    "df3 = df[['Dataset_ab_binding_40_1', 'Unnamed: 5']]\n",
    "y_data_ab_40 = np.asarray(df3['Unnamed: 5'])/100\n",
    "\n",
    "data_40_1 = [y_data_pd1_40, y_data_ctla4_40, y_data_ab_40]\n",
    "data_40_1 = np.array(data_40_1)"
   ]
  },
  {
   "cell_type": "code",
   "execution_count": 17,
   "metadata": {},
   "outputs": [],
   "source": [
    "fit_params = Parameters()\n",
    "for iy, y in enumerate(data_40_1):\n",
    "    fit_params.add(f'rtot1_{iy+1}', value = 1e5, min=0, max = 1e7)\n",
    "    fit_params.add(f'rtot2_{iy+1}', value = 1e5, min=0, max = 1e7)\n",
    "    fit_params.add(f'kon1_{iy+1}', value = 1e5, min=0, max = 1e7)\n",
    "    fit_params.add(f'kon2_{iy+1}', value = 1e5, min=0, max = 1e7)\n",
    "    fit_params.add(f'k21_{iy+1}', value = 1e5, vary=False)#, min=0, max = 1e7)\n",
    "    fit_params.add(f'k22_{iy+1}', value = 1e3, vary=False)#, min=0, max = 1e7)\n",
    "    fit_params.add(f'koff1_{iy+1}', value = 1e-4,  min=0, max = 5e-1)\n",
    "    fit_params.add(f'koff2_{iy+1}', value = 1e-4, min=0, max = 5e-1)\n",
    "\n",
    "for iy in [2, 3]:\n",
    "    fit_params[f'rtot1_{iy}'].expr = 'rtot1_1'\n",
    "    fit_params[f'rtot2_{iy}'].expr = 'rtot2_1'\n",
    "    fit_params[f'kon1_{iy}'].expr = 'kon1_1'\n",
    "    fit_params[f'kon2_{iy}'].expr = 'kon2_1'\n",
    "    fit_params[f'k21_{iy}'].expr = 'k21_1'\n",
    "    fit_params[f'k22_{iy}'].expr = 'k22_1'\n",
    "    fit_params[f'koff1_{iy}'].expr = 'koff1_1'\n",
    "    fit_params[f'koff2_{iy}'].expr = 'koff2_1'"
   ]
  },
  {
   "cell_type": "code",
   "execution_count": 18,
   "metadata": {},
   "outputs": [],
   "source": [
    "out = minimize(objective, fit_params, args=(x_data_pd1_40, data_40_1))"
   ]
  },
  {
   "cell_type": "code",
   "execution_count": 19,
   "metadata": {},
   "outputs": [
    {
     "name": "stdout",
     "output_type": "stream",
     "text": [
      "[[Variables]]\n",
      "    rtot1_1:  118779.451 +/- 209628.326 (176.49%) (init = 100000)\n",
      "    rtot2_1:  8834.68705 +/- 15530.9795 (175.80%) (init = 100000)\n",
      "    kon1_1:   220751.751 +/- 502716.352 (227.73%) (init = 100000)\n",
      "    kon2_1:   5760588.86 +/- 2643654.27 (45.89%) (init = 100000)\n",
      "    k21_1:    100000 (fixed)\n",
      "    k22_1:    1000 (fixed)\n",
      "    koff1_1:  0.09558059 +/- 0.03731688 (39.04%) (init = 0.0001)\n",
      "    koff2_1:  0.49725743 +/- 0.04329249 (8.71%) (init = 0.0001)\n",
      "    rtot1_2:  118779.451 +/- 209628.326 (176.49%) == 'rtot1_1'\n",
      "    rtot2_2:  8834.68705 +/- 15530.9796 (175.80%) == 'rtot2_1'\n",
      "    kon1_2:   220751.751 +/- 502716.353 (227.73%) == 'kon1_1'\n",
      "    kon2_2:   5760588.86 +/- 2643654.26 (45.89%) == 'kon2_1'\n",
      "    k21_2:    100000.000 +/- 0.00000000 (0.00%) == 'k21_1'\n",
      "    k22_2:    1000.00000 +/- 0.00000000 (0.00%) == 'k22_1'\n",
      "    koff1_2:  0.09558059 +/- 0.03731688 (39.04%) == 'koff1_1'\n",
      "    koff2_2:  0.49725743 +/- 0.04329249 (8.71%) == 'koff2_1'\n",
      "    rtot1_3:  118779.451 +/- 209628.326 (176.49%) == 'rtot1_1'\n",
      "    rtot2_3:  8834.68705 +/- 15530.9796 (175.80%) == 'rtot2_1'\n",
      "    kon1_3:   220751.751 +/- 502716.353 (227.73%) == 'kon1_1'\n",
      "    kon2_3:   5760588.86 +/- 2643654.26 (45.89%) == 'kon2_1'\n",
      "    k21_3:    100000.000 +/- 0.00000000 (0.00%) == 'k21_1'\n",
      "    k22_3:    1000.00000 +/- 0.00000000 (0.00%) == 'k22_1'\n",
      "    koff1_3:  0.09558059 +/- 0.03731688 (39.04%) == 'koff1_1'\n",
      "    koff2_3:  0.49725743 +/- 0.04329249 (8.71%) == 'koff2_1'\n",
      "[[Correlations]] (unreported correlations are < 0.100)\n",
      "    C(rtot1_1, kon1_1)  = 0.992\n",
      "    C(kon2_1, koff2_1)  = 0.992\n",
      "    C(rtot1_1, rtot2_1) = 0.986\n",
      "    C(kon2_1, koff1_1)  = -0.984\n",
      "    C(rtot2_1, kon1_1)  = 0.979\n",
      "    C(rtot2_1, kon2_1)  = -0.976\n",
      "    C(rtot2_1, koff2_1) = -0.972\n",
      "    C(kon1_1, kon2_1)   = -0.963\n",
      "    C(kon1_1, koff2_1)  = -0.958\n",
      "    C(rtot1_1, kon2_1)  = -0.956\n",
      "    C(koff1_1, koff2_1) = -0.956\n",
      "    C(rtot1_1, koff2_1) = -0.954\n",
      "    C(rtot2_1, koff1_1) = 0.939\n",
      "    C(kon1_1, koff1_1)  = 0.925\n",
      "    C(rtot1_1, koff1_1) = 0.910\n"
     ]
    }
   ],
   "source": [
    "report_fit(out.params)"
   ]
  },
  {
   "cell_type": "code",
   "execution_count": 20,
   "metadata": {},
   "outputs": [
    {
     "data": {
      "image/png": "[encoded data removed]",
      "text/plain": [
       "<Figure size 640x480 with 1 Axes>"
      ]
     },
     "metadata": {},
     "output_type": "display_data"
    }
   ],
   "source": [
    "A0s1 = [1e-12, 1e-11, 1e-10, 1e-9, 1e-8, 1e-7]\n",
    "A0s = []\n",
    "vals = np.linspace(1, 9, 50)\n",
    "\n",
    "import seaborn as sns\n",
    "sns.set_theme()\n",
    "for x in A0s1:\n",
    "    for val in vals:\n",
    "        A0s.append(x*val)\n",
    "A0s1 = np.asarray(A0s)/1e-9\n",
    "colors = ['green', 'blue', 'pink']\n",
    "labels = ['Unbound PD-1 receptor', 'Unbound CTLA4 receptor', 'MEDI5752 binding']\n",
    "for i, solution in enumerate(data_40_1):\n",
    "    y_fit = solve_ode(A0s1, out.params, i)\n",
    "\n",
    "    plt.plot(x_data_pd1_40, data_40_1[i], 'o', color=colors[i], label=labels[i])\n",
    "    plt.plot(A0s1, y_fit, color=colors[i])\n",
    "\n",
    "plt.legend(loc='best')\n",
    "plt.xscale('log')\n",
    "plt.show()"
   ]
  }
 ],
 "metadata": {
  "kernelspec": {
   "display_name": "Python 3",
   "language": "python",
   "name": "python3"
  },
  "language_info": {
   "codemirror_mode": {
    "name": "ipython",
    "version": 3
   },
   "file_extension": ".py",
   "mimetype": "text/x-python",
   "name": "python",
   "nbconvert_exporter": "python",
   "pygments_lexer": "ipython3",
   "version": "3.10.9"
  },
  "orig_nbformat": 4
 },
 "nbformat": 4,
 "nbformat_minor": 2
}
