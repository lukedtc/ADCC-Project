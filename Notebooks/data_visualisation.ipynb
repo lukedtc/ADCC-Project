{
 "cells": [
  {
   "cell_type": "code",
   "execution_count": 51,
   "metadata": {},
   "outputs": [],
   "source": [
    "import pandas as pd\n",
    "import numpy as np\n",
    "import matplotlib.pyplot as plt\n",
    "import seaborn as sns"
   ]
  },
  {
   "cell_type": "markdown",
   "metadata": {},
   "source": [
    "Load in Data from CSV"
   ]
  },
  {
   "cell_type": "code",
   "execution_count": 52,
   "metadata": {},
   "outputs": [],
   "source": [
    "df = pd.read_csv('/home/sabsr3/Rotations/ADCC/ADCC-Project/Data/basic_model_synthetic_data.csv')"
   ]
  },
  {
   "cell_type": "markdown",
   "metadata": {},
   "source": [
    "Extract Data"
   ]
  },
  {
   "cell_type": "code",
   "execution_count": 56,
   "metadata": {},
   "outputs": [
    {
     "name": "stdout",
     "output_type": "stream",
     "text": [
      "       Unnamed: 0    t    mu         gamma  noise level         A         R  \\\n",
      "1980         1980  0.0  20.0  1.000000e+00          0.1  0.970232  0.000000   \n",
      "1990         1990  1.0  20.0  1.000000e+00          0.1  1.098599  0.000519   \n",
      "1991         1991  0.0  20.0  1.000000e+00          0.1  1.003838  0.000000   \n",
      "2001         2001  1.0  20.0  1.000000e+00          0.1  0.956999  0.000503   \n",
      "2002         2002  0.0  20.0  1.000000e+00          0.1  0.928463  0.000000   \n",
      "...           ...  ...   ...           ...          ...       ...       ...   \n",
      "19667       19667  1.0  20.0  1.000000e-08          0.1  0.974413  0.954410   \n",
      "19668       19668  0.0  20.0  1.000000e-08          0.1  1.065982  0.000000   \n",
      "19678       19678  1.0  20.0  1.000000e-08          0.1  1.083954  1.010649   \n",
      "19679       19679  0.0  20.0  1.000000e-08          0.1  0.971450  0.000000   \n",
      "19689       19689  1.0  20.0  1.000000e-08          0.1  1.023153  1.032646   \n",
      "\n",
      "              S         C  \n",
      "1980   1.084078  0.000000  \n",
      "1990   1.079321  0.993880  \n",
      "1991   1.068993  0.000000  \n",
      "2001   0.915355  0.912808  \n",
      "2002   0.956722  0.000000  \n",
      "...         ...       ...  \n",
      "19667  0.474907  0.549926  \n",
      "19668  1.059648  0.000000  \n",
      "19678  0.538238  0.506766  \n",
      "19679  0.945316  0.000000  \n",
      "19689  0.543794  0.535463  \n",
      "\n",
      "[180 rows x 9 columns]\n"
     ]
    }
   ],
   "source": [
    "# dataframe for mu=20 and 1% noise\n",
    "\n",
    "df1 = df.loc[(df['mu'] == 20) & (df['noise level'] == 0.1) & (df['t'].isin([0.0, 1.0]))]\n",
    "print(df1)"
   ]
  },
  {
   "cell_type": "code",
   "execution_count": 80,
   "metadata": {},
   "outputs": [
    {
     "name": "stdout",
     "output_type": "stream",
     "text": [
      "0.49872260057384804\n",
      "0.055605627699788426\n",
      "0.030843360373336726\n",
      "0.12978711055228845\n",
      "0.21368853525105544\n",
      "0.24270352427804953\n",
      "0.24364356180990057\n",
      "0.23252243872224052\n",
      "0.24096091409006132\n"
     ]
    }
   ],
   "source": [
    "gamma_vals = [1, 1e-1, 1e-2, 1e-3, 1e-4, 1e-5, 1e-6, 1e-7, 1e-8] \n",
    "tumour_kill = []\n",
    "df_kpercent = pd.DataFrame(columns=['gamma', 'kill percentage'])\n",
    "for gamma in gamma_vals:\n",
    "    data = df1.loc[df1['gamma'] == gamma]\n",
    "    S_vals = data['S'].values\n",
    "    for i in np.arange(0, 19, 2):\n",
    "        kill_percent = 1 - (S_vals[i + 1]/S_vals[i])\n",
    "        df_kpercent = df_kpercent.append({'gamma' : gamma,\n",
    "                                          'kill percentage' : kill_percent}, ignore_index=True)\n",
    "    \n",
    "max_vals = []\n",
    "min_vals = []\n",
    "mean_vals = []\n",
    "\n",
    "for gamma in gamma_vals:\n",
    "    gamma_data = df_kpercent.loc[df_kpercent['gamma'] == gamma].values\n",
    "    print(gamma_data.mean())\n",
    "    max_vals.append(gamma_data.max())\n",
    "    min_vals.append(gamma_data.min())\n",
    "    mean_vals.append(gamma_data.mean())"
   ]
  },
  {
   "cell_type": "code",
   "execution_count": 83,
   "metadata": {},
   "outputs": [
    {
     "data": {
      "text/plain": [
       "(0.0, -20.0)"
      ]
     },
     "execution_count": 83,
     "metadata": {},
     "output_type": "execute_result"
    },
    {
     "data": {
      "image/png": "[encoded data removed]",
      "text/plain": [
       "<Figure size 432x288 with 1 Axes>"
      ]
     },
     "metadata": {
      "needs_background": "light"
     },
     "output_type": "display_data"
    }
   ],
   "source": [
    "fig, ax = plt.subplots()\n",
    "\n",
    "ax.scatter(np.log(gamma_vals), min_vals)\n",
    "ax.scatter(np.log(gamma_vals), max_vals)\n",
    "ax.scatter(np.log(gamma_vals), mean_vals, marker = 'x')\n",
    "ax.set_xlim([0, -20])"
   ]
  }
 ],
 "metadata": {
  "interpreter": {
   "hash": "916dbcbb3f70747c44a77c7bcd40155683ae19c65e1c03b4aa3499c5328201f1"
  },
  "kernelspec": {
   "display_name": "Python 3.8.10 64-bit",
   "language": "python",
   "name": "python3"
  },
  "language_info": {
   "codemirror_mode": {
    "name": "ipython",
    "version": 3
   },
   "file_extension": ".py",
   "mimetype": "text/x-python",
   "name": "python",
   "nbconvert_exporter": "python",
   "pygments_lexer": "ipython3",
   "version": "3.8.10"
  },
  "orig_nbformat": 4
 },
 "nbformat": 4,
 "nbformat_minor": 2
}
