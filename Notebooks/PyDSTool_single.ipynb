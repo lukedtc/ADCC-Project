{
 "cells": [
  {
   "cell_type": "code",
   "execution_count": 653,
   "metadata": {},
   "outputs": [],
   "source": [
    "import PyDSTool as dst\n",
    "import matplotlib.pyplot as plt\n",
    "from PyDSTool.Toolbox import phaseplane as pp"
   ]
  },
  {
   "cell_type": "code",
   "execution_count": 654,
   "metadata": {},
   "outputs": [],
   "source": [
    "k_on1 = 1e5\n",
    "A_01 = 1e-7\n",
    "#k_on = k_on1*A_01\n",
    "rho_T1 = 1e5\n",
    "alpha = 3\n",
    "k_off = 1e-4\n",
    "q_on1 = 6.5e3\n",
    "#q_on = q_on1*A_01\n",
    "q_off = 4.7e-3\n",
    "rho_N1 = 2.2e5\n",
    "beta = 5 \n",
    "\n",
    "A_0 = (172635*A_01*1.85e-18)/1.66e-24\n",
    "rho_T = rho_T1/beta\n",
    "rho_N = rho_N1/alpha\n",
    "n_1 = k_on1*rho_T*(1/q_off)\n",
    "n_2 = k_off/q_off\n",
    "v = q_on1*(1/q_off)*rho_T\n",
    "delta = rho_T/rho_N\n",
    "Nr0 = ((A_01/5e-7)**2)/(0.1**2 + (A_01/5e-7)**2)\n",
    "Tr0 = ((A_01/5e-7)**2)/(0.1**2 + (A_01/5e-7)**2)\n",
    "C = (172635*A_01*1.85e-18)/1.66e-24 + (Nr0*rho_N) + (Tr0*rho_T)\n",
    "mu_T = C/rho_T"
   ]
  },
  {
   "cell_type": "code",
   "execution_count": 655,
   "metadata": {},
   "outputs": [],
   "source": [
    "DSargs = dst.args(name='Single Complex Model')\n",
    "DSargs.pars = {'n_1' : n_1,\n",
    "               'n_2' : n_2,\n",
    "               'v' : v,\n",
    "               'delta' : delta,\n",
    "               'mu_T' : mu_T,\n",
    "               'A_01' : A_01,\n",
    "               'rho_T': rho_T,\n",
    "               'rho_N': rho_N,\n",
    "               'Tr0': Tr0,  \n",
    "               'Nr0': Nr0}\n",
    "\n",
    "DSargs.varspecs = {'T': '(A_01*n_1*(1 - T - B)*((((172635*A_01*1.85e-18)/1.66e-24 + (Nr0*rho_N) + (Tr0*rho_T))/rho_T) - T - (N/delta) - B)) + B - (n_2*T) -(A_01*v*(1 - N - (delta*B))*T)',\n",
    "                   'N': '(A_01*v*(1 - N - (delta*B))*((((172635*A_01*1.85e-18)/1.66e-24 + (Nr0*rho_N) + (Tr0*rho_T))/rho_T) - T - (N/delta) - B)) + (n_2*delta*B) - N -(A_01*n_1*(1 - T - B)*N)',\n",
    "                   'B': '((A_01*n_1/delta)*(1 - T - B)*N) + (A_01*v*(1 - N - (delta*B))*T) - ((n_2 + 1)*B) '}\n",
    "\n",
    "DSargs.ics = {'T': Tr0, 'N': Nr0, 'B': 0}\n",
    "DSargs.xdomain = {'T': [0, 1], 'N': [0, 1], 'B': [0, 1]}"
   ]
  },
  {
   "cell_type": "code",
   "execution_count": 656,
   "metadata": {},
   "outputs": [],
   "source": [
    "DSargs.tdomain = [0.000001, 100]\n",
    "ode = dst.Generator.Vode_ODEsystem(DSargs)\n",
    "#traj = ode.compute('polarization')\n",
    "#pts = traj.sample()\n",
    "\n",
    "#plt.plot(np.log(pts['t']), pts['B'])\n",
    "#plt.show()"
   ]
  },
  {
   "cell_type": "code",
   "execution_count": 657,
   "metadata": {},
   "outputs": [
    {
     "data": {
      "text/plain": [
       "\"plt.figure(2)\\npp.plot_PP_vf(ode, 'T', 'N')#, scale_exp=-1)\\nfp_coord = pp.find_fixedpoints(ode, n=4, eps=1e-8)[0]\\nfp = pp.fixedpoint_2D(ode, dst.Point(fp_coord), eps=1e-8)\\nnulls_x, nulls_y = pp.find_nullclines(ode, 'T', 'N', n=3, eps=1e-8, max_step=0.1, fps=[fp_coord])\\npp.plot_PP_fps(fp)\\nplt.plot(nulls_x[:,0], nulls_x[:,1], 'b')\\nplt.plot(nulls_y[:,0], nulls_y[:,1], 'g')\""
      ]
     },
     "execution_count": 657,
     "metadata": {},
     "output_type": "execute_result"
    }
   ],
   "source": [
    "\"\"\"plt.figure(2)\n",
    "pp.plot_PP_vf(ode, 'T', 'N')#, scale_exp=-1)\n",
    "fp_coord = pp.find_fixedpoints(ode, n=4, eps=1e-8)[0]\n",
    "fp = pp.fixedpoint_2D(ode, dst.Point(fp_coord), eps=1e-8)\n",
    "nulls_x, nulls_y = pp.find_nullclines(ode, 'T', 'N', n=3, eps=1e-8, max_step=0.1, fps=[fp_coord])\n",
    "pp.plot_PP_fps(fp)\n",
    "plt.plot(nulls_x[:,0], nulls_x[:,1], 'b')\n",
    "plt.plot(nulls_y[:,0], nulls_y[:,1], 'g')\"\"\""
   ]
  },
  {
   "cell_type": "code",
   "execution_count": 658,
   "metadata": {},
   "outputs": [],
   "source": [
    "ode.set(pars = {'A_01': 1e-11})\n",
    "ode.set(ics = {'T': 0.0003,\n",
    "               'N': 0,\n",
    "               'B': 0.0007})\n",
    "\n",
    "PC = dst.ContClass(ode)\n",
    "\n",
    "PCargs = dst.args(name='EQ1', type='EP-C')\n",
    "PCargs.freepars = ['A_01']\n",
    "PCargs.MaxNumPoints = 450\n",
    "PCargs.MaxStepSize = 1e-2\n",
    "PCargs.MinStepSize = 1e-20\n",
    "PCargs.StepSize = 1e-4\n",
    "PCargs.LocBifPoints = 'All'\n",
    "PCargs.SaveEigen = True\n"
   ]
  },
  {
   "cell_type": "code",
   "execution_count": 659,
   "metadata": {},
   "outputs": [
    {
     "name": "stdout",
     "output_type": "stream",
     "text": [
      "B Point found \n",
      "Test function going crazy:  class Hopf_Bor(BorderMethod, BiAltMethod) \n",
      "\n"
     ]
    },
    {
     "data": {
      "image/png": "[encoded data removed]",
      "text/plain": [
       "<Figure size 432x288 with 1 Axes>"
      ]
     },
     "metadata": {
      "needs_background": "light"
     },
     "output_type": "display_data"
    }
   ],
   "source": [
    "PC.newCurve(PCargs)\n",
    "PC['EQ1'].backward()\n",
    "PC.display(['A_01', 'T'], stability=True, figure=3)"
   ]
  },
  {
   "cell_type": "code",
   "execution_count": 660,
   "metadata": {},
   "outputs": [
    {
     "data": {
      "image/png": "[encoded data removed]",
      "text/plain": [
       "<Figure size 432x288 with 1 Axes>"
      ]
     },
     "metadata": {
      "needs_background": "light"
     },
     "output_type": "display_data"
    }
   ],
   "source": [
    "PC.display(['A_01', 'N'], stability=True)#, figure=3)"
   ]
  },
  {
   "cell_type": "code",
   "execution_count": 661,
   "metadata": {},
   "outputs": [
    {
     "data": {
      "image/png": "[encoded data removed]",
      "text/plain": [
       "<Figure size 432x288 with 1 Axes>"
      ]
     },
     "metadata": {
      "needs_background": "light"
     },
     "output_type": "display_data"
    }
   ],
   "source": [
    "PC.display(['A_01', 'B'], stability=True)#, figure=3)"
   ]
  },
  {
   "cell_type": "code",
   "execution_count": 662,
   "metadata": {},
   "outputs": [
    {
     "data": {
      "text/plain": [
       "\"PCargs = dst.args(name='SN1', type='LP-C')\\nPCargs.initpoint    = 'EQ1:LP1'\\nPCargs.freepars     = ['A_01', 'delta']\\nPCargs.MaxStepSize  = 10\\nPCargs.LocBifPoints = ['CP']\\nPCargs.MaxNumPoints = 200\\nPC.newCurve(PCargs)\\nPC['SN1'].forward()\\nPC['SN1'].backward()\\nPC['SN1'].display(['A_01','B'], figure=4)\""
      ]
     },
     "execution_count": 662,
     "metadata": {},
     "output_type": "execute_result"
    }
   ],
   "source": [
    "\"\"\"PCargs = dst.args(name='SN1', type='LP-C')\n",
    "PCargs.initpoint    = 'EQ1:LP1'\n",
    "PCargs.freepars     = ['A_01', 'delta']\n",
    "PCargs.MaxStepSize  = 10\n",
    "PCargs.LocBifPoints = ['CP']\n",
    "PCargs.MaxNumPoints = 200\n",
    "PC.newCurve(PCargs)\n",
    "PC['SN1'].forward()\n",
    "PC['SN1'].backward()\n",
    "PC['SN1'].display(['A_01','B'], figure=4)\"\"\""
   ]
  },
  {
   "cell_type": "code",
   "execution_count": 663,
   "metadata": {},
   "outputs": [
    {
     "name": "stdout",
     "output_type": "stream",
     "text": [
      "A_01:  2.308964705451881e-23\n",
      "B:  1.1622189214657664e-21\n",
      "N:  2.384292630883722e-12\n",
      "T:  1.7240269763011633e-09\n",
      "Labels: EP ({'data': args (\n",
      " V = {'B': -1.348259426638689e-12, 'N': -0.001382977405580762, 'T': -0.9999990436862906, 'A_01': -1.3392844393650996e-14},\n",
      " ds = 0.000743008370688,\n",
      " evals = [-0.0212766+0.j -1.0212766+0.j -1.       +0.j],\n",
      " evecs = [[-6.38647772e-13 -6.94313843e-01 -1.69323766e-09]\n",
      " [ 6.48749555e-13  1.89358321e-01 -1.00000000e+00]\n",
      " [-1.00000000e+00  6.94313843e-01  1.69324577e-09]]\n",
      "), 'domain': 'inside', 'stab': 'S'})\n",
      "Labels: B ({'data': args (\n",
      " X = {'B': 1.1622189214657664e-21, 'N': 2.384292630883722e-12, 'T': 1.7240269763011633e-09, 'A_01': 2.308964705451881e-23},\n",
      " V = {'B': 1.348259426638689e-12, 'N': 0.001382977405580762, 'T': 0.9999990436862906, 'A_01': 1.3392844393650996e-14}\n",
      "), 'plot': No args defined, 'name': 'B1'})\n"
     ]
    }
   ],
   "source": [
    "print(PC['EQ1'].getSpecialPoint('B1'))"
   ]
  },
  {
   "cell_type": "code",
   "execution_count": 664,
   "metadata": {},
   "outputs": [
    {
     "data": {
      "image/png": "[encoded data removed]",
      "text/plain": [
       "<Figure size 432x288 with 1 Axes>"
      ]
     },
     "metadata": {
      "needs_background": "light"
     },
     "output_type": "display_data"
    }
   ],
   "source": [
    "def hill(x):\n",
    "    x = x/5e-7\n",
    "    return x**2/(0.1**2 + x**2)\n",
    "\n",
    "A0_array = [1e-12, 5e-12, 1e-11, 5e-11, 1e-10, 5e-10, 1e-9, 5e-9, 1e-8, 5e-8, 1e-7, 5e-7, 1e-6, 5e-6, 1e-5]\n",
    "list = []\n",
    "\n",
    "for i in range(len(A0_array)):\n",
    "    list.append(hill(A0_array[i]))\n",
    "\n",
    "plt.semilogx(A0_array, list)\n",
    "plt.show()"
   ]
  }
 ],
 "metadata": {
  "interpreter": {
   "hash": "31f2aee4e71d21fbe5cf8b01ff0e069b9275f58929596ceb00d14d90e3e16cd6"
  },
  "kernelspec": {
   "display_name": "Python 3.8.10 64-bit",
   "language": "python",
   "name": "python3"
  },
  "language_info": {
   "codemirror_mode": {
    "name": "ipython",
    "version": 3
   },
   "file_extension": ".py",
   "mimetype": "text/x-python",
   "name": "python",
   "nbconvert_exporter": "python",
   "pygments_lexer": "ipython3",
   "version": "3.8.10"
  },
  "orig_nbformat": 4
 },
 "nbformat": 4,
 "nbformat_minor": 2
}
