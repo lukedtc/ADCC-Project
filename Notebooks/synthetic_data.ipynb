{
 "cells": [
  {
   "cell_type": "code",
   "execution_count": 95,
   "metadata": {},
   "outputs": [],
   "source": [
    "import numpy as np\n",
    "from scipy.integrate import solve_ivp\n",
    "import pandas as pd"
   ]
  },
  {
   "cell_type": "markdown",
   "metadata": {},
   "source": [
    "Fixed Model Parameters"
   ]
  },
  {
   "cell_type": "code",
   "execution_count": 96,
   "metadata": {},
   "outputs": [
    {
     "data": {
      "text/plain": [
       "'\\nalpha_1 = 1e-3\\nalpha_2 = 1.44\\nfk_max = 1\\nR_k = 0.5\\nmu = 2\\nv_1 = 1.2e2\\nv_2 = 14.4 \\n'"
      ]
     },
     "execution_count": 96,
     "metadata": {},
     "output_type": "execute_result"
    }
   ],
   "source": [
    "alpha_1 = 3e-4\n",
    "alpha_2 = 1.2\n",
    "fk_max = 9\n",
    "R_k = 0.01\n",
    "v_1 = 3e2\n",
    "v_2 = 14.4 *1e-1\n",
    "\"\"\"\n",
    "alpha_1 = 1e-3\n",
    "alpha_2 = 1.44\n",
    "fk_max = 1\n",
    "R_k = 0.5\n",
    "mu = 2\n",
    "v_1 = 1.2e2\n",
    "v_2 = 14.4 \n",
    "\"\"\""
   ]
  },
  {
   "cell_type": "markdown",
   "metadata": {},
   "source": [
    "Kill Function and Dimensionless ODE Model"
   ]
  },
  {
   "cell_type": "code",
   "execution_count": 97,
   "metadata": {},
   "outputs": [],
   "source": [
    "def kill_function(R):\n",
    "     f = fk_max*(R/(R + R_k))\n",
    "\n",
    "     return f\n",
    "\n",
    "def model(t, z, gamma, mu):\n",
    "\n",
    "    dAdt = -alpha_1*(1 - z[1])*z[0]*z[2] + alpha_2*gamma*z[1]*z[2]\n",
    "    dRdt = (alpha_1/gamma)*(1 - z[1])*z[0] - alpha_2*z[1]\n",
    "    dSdt = -kill_function(z[1])*z[3]\n",
    "    dCdt = v_1*(mu - z[3])*(z[2] - z[3]) - v_2*z[3] - kill_function(z[1])*z[3]\n",
    "    dzdt = [dAdt, dRdt, dSdt, dCdt]\n",
    "\n",
    "    return dzdt"
   ]
  },
  {
   "cell_type": "markdown",
   "metadata": {},
   "source": [
    "ICs and Simulation Parameters"
   ]
  },
  {
   "cell_type": "code",
   "execution_count": 98,
   "metadata": {},
   "outputs": [],
   "source": [
    "z0 = [1, 0, 1, 0] \n",
    "t = np.arange(0, 1.1, 0.1)\n",
    "t_span = [0, 1]\n",
    "mu_vals = [1.25, 2.5, 5, 10, 20]\n",
    "gamma_vals = [1, 1e-1, 1e-2, 1e-3, 1e-4, 1e-5, 1e-6]\n",
    "noise_vals = [0.01, 0.05, 0.1, 0.2]"
   ]
  },
  {
   "cell_type": "markdown",
   "metadata": {},
   "source": [
    "Create Dataframe"
   ]
  },
  {
   "cell_type": "code",
   "execution_count": 99,
   "metadata": {},
   "outputs": [],
   "source": [
    "df = pd.DataFrame(columns=['t', 'mu', 'gamma', 'noise level', 'A', 'R', 'S', 'C'])\n"
   ]
  },
  {
   "cell_type": "code",
   "execution_count": 100,
   "metadata": {},
   "outputs": [],
   "source": [
    "\n",
    "for gamma in gamma_vals:\n",
    "    for mu in mu_vals:\n",
    "        for noise_level in noise_vals:\n",
    "            j=0\n",
    "            while j<10:\n",
    "                \n",
    "                z = solve_ivp(model, t_span, z0, args = (gamma, mu), method ='Radau', t_eval = t)\n",
    "\n",
    "                # add noise\n",
    "                A_array = z.y[0]\n",
    "                R_array = z.y[1]\n",
    "                S_array = z.y[2]\n",
    "                C_array = z.y[3]\n",
    "\n",
    "                for i in range(len(A_array)):\n",
    "                    A_array[i] = A_array[i]*(1 + np.random.uniform(-noise_level, noise_level))\n",
    "                    R_array[i] = R_array[i]*(1 + np.random.uniform(-noise_level, noise_level))\n",
    "                    S_array[i] = S_array[i]*(1 + np.random.uniform(-noise_level, noise_level))\n",
    "                    C_array[i] = C_array[i]*(1 + np.random.uniform(-noise_level, noise_level))\n",
    "\n",
    "                # add data to dataframe\n",
    "                for i in range(len(A_array)):\n",
    "                    df = df.append({'t' : t[i],\n",
    "                                    'mu' : mu,\n",
    "                                    'gamma' : gamma,\n",
    "                                    'noise level' : noise_level,\n",
    "                                    'A' : A_array[i],\n",
    "                                    'R' : R_array[i],\n",
    "                                    'S' : S_array[i],\n",
    "                                    'C' : C_array[i]}, ignore_index=True)\n",
    "                \n",
    "                j += 1\n",
    "\n",
    "        "
   ]
  },
  {
   "cell_type": "code",
   "execution_count": 101,
   "metadata": {},
   "outputs": [
    {
     "name": "stdout",
     "output_type": "stream",
     "text": [
      "         t     mu     gamma  noise level         A         R         S  \\\n",
      "0      0.0   1.25  1.000000         0.01  1.004856  0.000000  1.006123   \n",
      "1      0.1   1.25  1.000000         0.01  0.993690  0.000028  0.997054   \n",
      "2      0.2   1.25  1.000000         0.01  1.006935  0.000053  1.001066   \n",
      "3      0.3   1.25  1.000000         0.01  0.999702  0.000076  0.998657   \n",
      "4      0.4   1.25  1.000000         0.01  1.007558  0.000095  0.976934   \n",
      "...    ...    ...       ...          ...       ...       ...       ...   \n",
      "15395  0.6  20.00  0.000001         0.20  0.846756  0.820303  0.004758   \n",
      "15396  0.7  20.00  0.000001         0.20  0.968643  1.162470  0.001811   \n",
      "15397  0.8  20.00  0.000001         0.20  0.912718  1.165655  0.000865   \n",
      "15398  0.9  20.00  0.000001         0.20  1.142071  0.920668  0.000357   \n",
      "15399  1.0  20.00  0.000001         0.20  1.154732  1.174828  0.000155   \n",
      "\n",
      "              C  \n",
      "0      0.000000  \n",
      "1      0.977494  \n",
      "2      0.986133  \n",
      "3      0.968875  \n",
      "4      0.966777  \n",
      "...         ...  \n",
      "15395  0.004365  \n",
      "15396  0.002292  \n",
      "15397  0.000749  \n",
      "15398  0.000312  \n",
      "15399  0.000142  \n",
      "\n",
      "[15400 rows x 8 columns]\n"
     ]
    }
   ],
   "source": [
    "print(df)"
   ]
  },
  {
   "cell_type": "markdown",
   "metadata": {},
   "source": [
    "Write Dataframe to CSV"
   ]
  },
  {
   "cell_type": "code",
   "execution_count": 102,
   "metadata": {},
   "outputs": [],
   "source": [
    "df.to_csv('basic_model_synthetic_data.csv')"
   ]
  }
 ],
 "metadata": {
  "interpreter": {
   "hash": "916dbcbb3f70747c44a77c7bcd40155683ae19c65e1c03b4aa3499c5328201f1"
  },
  "kernelspec": {
   "display_name": "Python 3.8.10 64-bit",
   "language": "python",
   "name": "python3"
  },
  "language_info": {
   "codemirror_mode": {
    "name": "ipython",
    "version": 3
   },
   "file_extension": ".py",
   "mimetype": "text/x-python",
   "name": "python",
   "nbconvert_exporter": "python",
   "pygments_lexer": "ipython3",
   "version": "3.8.10"
  },
  "orig_nbformat": 4
 },
 "nbformat": 4,
 "nbformat_minor": 2
}
