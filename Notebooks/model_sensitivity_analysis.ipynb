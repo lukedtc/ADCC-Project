{
 "cells": [
  {
   "cell_type": "code",
   "execution_count": 89,
   "source": [
    "from scipy.integrate import solve_ivp\n",
    "import numpy as np\n",
    "import SALib\n",
    "from SALib.sample import saltelli\n",
    "from SALib.analyze import sobol"
   ],
   "outputs": [],
   "metadata": {}
  },
  {
   "cell_type": "markdown",
   "source": [
    "Definition of ODEs"
   ],
   "metadata": {}
  },
  {
   "cell_type": "code",
   "execution_count": 90,
   "source": [
    "# set beforehand mu, gamma and kill function params\n",
    "mu = 10\n",
    "gamma = 1e-5\n",
    "fk_max = 9\n",
    "R_k = 0.5\n",
    "\n",
    "\n",
    "def model(t, z, alpha_1, alpha_2, v_1, v_2):\n",
    "\n",
    "    dAdt = -alpha_1*(1 - z[1])*z[0]*z[2] + alpha_2*gamma*z[1]*z[2]\n",
    "    dRdt = (alpha_1/gamma)*(1 - z[1])*z[0] - alpha_2*z[1]\n",
    "    dSdt = -(fk_max*(z[1]/(z[1] + R_k)))*z[3]\n",
    "    dCdt = v_1*((mu/20) - z[3])*(z[2] - z[3]) - v_2*z[3] - (fk_max*(z[1]/(z[1] + R_k)))*z[3]\n",
    "    dzdt = [dAdt, dRdt, dSdt, dCdt]\n",
    "\n",
    "    return dzdt\n",
    "\n",
    "# default param values\n",
    "alpha_1 = 1e-3\n",
    "alpha_2 = 1.2\n",
    "fk_max = 5\n",
    "R_k = 0.5\n",
    "mu = 10\n",
    "v_1 = 1.2e2\n",
    "v_2 = 14.4 *1e-1\n",
    "\n",
    "# initial condition and time steps/span\n",
    "z0 = [1, 0, 1, 0]\n",
    "t= np.geomspace(0.000001, 1, 1000)\n",
    "t_span = [0.000001, 1]\n",
    "\n",
    "# exampple solution calculation\n",
    "z = solve_ivp(model, t_span, z0, args =(alpha_1, alpha_2, v_1, v_2), method ='Radau', t_eval = t)"
   ],
   "outputs": [],
   "metadata": {}
  },
  {
   "cell_type": "markdown",
   "source": [
    "Sobol analysis"
   ],
   "metadata": {}
  },
  {
   "cell_type": "code",
   "execution_count": 91,
   "source": [
    "problem = {\n",
    "    'num_vars': 4,\n",
    "    'names': ['alpha_1', 'alpha_2', 'v_1', 'v_2'],\n",
    "    'bounds': np.column_stack((np.array([alpha_1, alpha_2, v_1, v_2])*0.5, np.array([alpha_1, alpha_2, v_1, v_2])*1.5))\n",
    "}\n",
    "\n",
    "# generate samples\n",
    "vals = saltelli.sample(problem, 1024)\n",
    "\n",
    "# initialize matrix to store output\n",
    "Y = np.zeros([len(vals), 4, 1000])\n",
    "print(len(vals))\n",
    "# run model\n",
    "for i in range(len(vals)):\n",
    "    sol = solve_ivp(model, t_span, z0, args =(vals[i][0], vals[i][1], vals[i][2], vals[i][3]), method ='Radau', t_eval = t)\n",
    "    Y[i][0][:] = sol.y[0]\n",
    "    Y[i][1][:] = sol.y[1]\n",
    "    Y[i][2][:] = sol.y[2]\n",
    "    Y[i][3][:] = sol.y[3]"
   ],
   "outputs": [
    {
     "output_type": "stream",
     "name": "stdout",
     "text": [
      "10240\n"
     ]
    }
   ],
   "metadata": {}
  },
  {
   "cell_type": "code",
   "execution_count": 92,
   "source": [
    "Si = sobol.analyze(problem, Y[:, 2, -1], print_to_console=True)\n"
   ],
   "outputs": [
    {
     "output_type": "stream",
     "name": "stdout",
     "text": [
      "               ST   ST_conf\n",
      "alpha_1  0.006933  0.000705\n",
      "alpha_2  0.001593  0.000188\n",
      "v_1      0.857718  0.067114\n",
      "v_2      0.149519  0.016464\n",
      "               S1   S1_conf\n",
      "alpha_1  0.006811  0.007355\n",
      "alpha_2  0.001241  0.003078\n",
      "v_1      0.840155  0.079367\n",
      "v_2      0.137689  0.029483\n",
      "                          S2   S2_conf\n",
      "(alpha_1, alpha_2)  0.000136  0.010599\n",
      "(alpha_1, v_1)     -0.000128  0.014444\n",
      "(alpha_1, v_2)      0.000093  0.011563\n",
      "(alpha_2, v_1)      0.000162  0.005809\n",
      "(alpha_2, v_2)      0.000176  0.004827\n",
      "(v_1, v_2)          0.012231  0.108245\n"
     ]
    }
   ],
   "metadata": {}
  },
  {
   "cell_type": "markdown",
   "source": [
    "Plot for sobolev indicies over time "
   ],
   "metadata": {}
  },
  {
   "cell_type": "code",
   "execution_count": 93,
   "source": [
    "alpha_1_sobol = np.zeros(1000)\n",
    "\n",
    "# calculate total order sobol indicies for alpha_1 at each time step\n",
    "for i in range(len(alpha_1_sobol)):\n",
    "    Si = sobol.analyze(problem, Y[:, 2, i])\n",
    "    alpha_1_sobol[i] = Si['ST'][0]"
   ],
   "outputs": [
    {
     "output_type": "stream",
     "name": "stderr",
     "text": [
      "/home/heirene/.local/lib/python3.8/site-packages/SALib/analyze/sobol.py:96: RuntimeWarning: invalid value encountered in true_divide\n",
      "  Y = (Y - Y.mean()) / Y.std()\n"
     ]
    }
   ],
   "metadata": {}
  },
  {
   "cell_type": "code",
   "execution_count": 94,
   "source": [
    "import matplotlib.pyplot as plt"
   ],
   "outputs": [],
   "metadata": {}
  },
  {
   "cell_type": "code",
   "execution_count": 95,
   "source": [
    "plt.semilogx(t, alpha_1_sobol)\n",
    "plt.show()"
   ],
   "outputs": [
    {
     "output_type": "display_data",
     "data": {
      "image/png": "[encoded data removed]",
      "text/plain": [
       "<Figure size 432x288 with 1 Axes>"
      ]
     },
     "metadata": {
      "needs_background": "light"
     }
    }
   ],
   "metadata": {}
  }
 ],
 "metadata": {
  "orig_nbformat": 4,
  "language_info": {
   "name": "python",
   "version": "3.8.10",
   "mimetype": "text/x-python",
   "codemirror_mode": {
    "name": "ipython",
    "version": 3
   },
   "pygments_lexer": "ipython3",
   "nbconvert_exporter": "python",
   "file_extension": ".py"
  },
  "kernelspec": {
   "name": "python3",
   "display_name": "Python 3.8.10 64-bit"
  },
  "interpreter": {
   "hash": "767d51c1340bd893661ea55ea3124f6de3c7a262a8b4abca0554b478b1e2ff90"
  }
 },
 "nbformat": 4,
 "nbformat_minor": 2
}