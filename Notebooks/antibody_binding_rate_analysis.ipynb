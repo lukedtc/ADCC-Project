{
 "cells": [
  {
   "cell_type": "code",
   "execution_count": 74,
   "source": [
    "import numpy as np\n",
    "import pandas as pd\n",
    "from scipy.integrate import solve_ivp\n",
    "import matplotlib.pyplot as plt\n",
    "import seaborn as sns"
   ],
   "outputs": [],
   "metadata": {}
  },
  {
   "cell_type": "markdown",
   "source": [
    "Define params and kill function"
   ],
   "metadata": {}
  },
  {
   "cell_type": "code",
   "execution_count": 75,
   "source": [
    "alpha_1 = 1e2\n",
    "alpha_2 = 1.2\n",
    "fk_max = 5\n",
    "R_k = 0.5\n",
    "mu = 10\n",
    "v_1 = 1.2e2\n",
    "v_2 = 14.4 *1e-1\n",
    "gammas = [1, 1e-3, 1e-6]\n",
    "alpha_1_min = 1e-6\n",
    "alpha_1_max = 1e2\n",
    "\n",
    "def kill_function(R):\n",
    "     f = fk_max*(R/(R + R_k))\n",
    "\n",
    "     return f"
   ],
   "outputs": [],
   "metadata": {}
  },
  {
   "cell_type": "markdown",
   "source": [
    "Define Model"
   ],
   "metadata": {}
  },
  {
   "cell_type": "code",
   "execution_count": 76,
   "source": [
    "def model(t, z, gamma, mu, alpha_1):\n",
    "\n",
    "    dAdt = -alpha_1*(1 - z[1])*z[0]*z[2] + alpha_2*gamma*z[1]*z[2]\n",
    "    dRdt = (alpha_1/gamma)*(1 - z[1])*z[0] - alpha_2*z[1]\n",
    "    dSdt = -kill_function(z[1])*z[3]\n",
    "    dCdt = v_1*((mu/20) - z[3])*(z[2] - z[3]) - v_2*z[3] - kill_function(z[1])*z[3]\n",
    "    dzdt = [dAdt, dRdt, dSdt, dCdt]\n",
    "\n",
    "    return dzdt"
   ],
   "outputs": [],
   "metadata": {}
  },
  {
   "cell_type": "markdown",
   "source": [
    "Sensitivity analysis of kill percentage to alpha_1"
   ],
   "metadata": {}
  },
  {
   "cell_type": "code",
   "execution_count": 77,
   "source": [
    "alpha_1_array = np.geomspace(alpha_1_min, alpha_1_max, 1000)\n",
    "gammas = [1, 1e-3, 1e-6]\n",
    "z0 = [1, 0, 1, 0] \n",
    "t = np.arange(0, 1.1, 0.1)\n",
    "t_span = [0, 1]\n",
    "Kill_percents = []\n",
    "\n",
    "# function to extract S values\n",
    "def solve_for_S(model, gamma, mu, alpha_1):\n",
    "    z = solve_ivp(model, t_span, z0, args = (gamma, mu, alpha_1), method ='Radau', t_eval = t)\n",
    "    S = z.y[2]\n",
    "\n",
    "    return S\n",
    "\n",
    "# calculate kill percentage\n",
    "for gamma in gammas:\n",
    "    sol = []\n",
    "    for alpha_1 in alpha_1_array:\n",
    "        S_array = solve_for_S(model, gamma, 10, alpha_1)\n",
    "        kill_val = 1 - (S_array[-1]/S_array[0])\n",
    "        sol.append(kill_val)\n",
    "    Kill_percents.append(sol)"
   ],
   "outputs": [],
   "metadata": {}
  },
  {
   "cell_type": "markdown",
   "source": [
    "Plot Results"
   ],
   "metadata": {}
  },
  {
   "cell_type": "code",
   "execution_count": 85,
   "source": [
    "for i in range(len(Kill_percents)):\n",
    "    vals = Kill_percents[1]\n",
    "    plt.semilogx(alpha_1_array, vals, label=str(gammas[i]))\n",
    "    plt.ylabel('Kill percentage')\n",
    "    plt.xlabel('$ alpha_1 $')\n",
    "    plt.title('$\\mu = 10$')\n",
    "    plt.legend(loc='lower right')\n",
    "    plt.yscale('symlog', linthreshy=1000)\n",
    "plt.show()"
   ],
   "outputs": [
    {
     "output_type": "display_data",
     "data": {
      "image/png": "[encoded data removed]",
      "text/plain": [
       "<Figure size 432x288 with 1 Axes>"
      ]
     },
     "metadata": {
      "needs_background": "light"
     }
    }
   ],
   "metadata": {}
  }
 ],
 "metadata": {
  "orig_nbformat": 4,
  "language_info": {
   "name": "python",
   "version": "3.8.10",
   "mimetype": "text/x-python",
   "codemirror_mode": {
    "name": "ipython",
    "version": 3
   },
   "pygments_lexer": "ipython3",
   "nbconvert_exporter": "python",
   "file_extension": ".py"
  },
  "kernelspec": {
   "name": "python3",
   "display_name": "Python 3.8.10 64-bit"
  },
  "interpreter": {
   "hash": "767d51c1340bd893661ea55ea3124f6de3c7a262a8b4abca0554b478b1e2ff90"
  }
 },
 "nbformat": 4,
 "nbformat_minor": 2
}