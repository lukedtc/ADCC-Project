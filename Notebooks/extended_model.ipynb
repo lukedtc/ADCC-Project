{
 "cells": [
  {
   "cell_type": "code",
   "execution_count": 1,
   "metadata": {},
   "outputs": [],
   "source": [
    "import numpy as np\n",
    "import matplotlib.pyplot as plt\n",
    "from scipy.integrate import solve_ivp\n",
    "import seaborn as sns"
   ]
  },
  {
   "cell_type": "markdown",
   "metadata": {},
   "source": [
    "Dimensional params"
   ]
  },
  {
   "cell_type": "code",
   "execution_count": 2,
   "metadata": {},
   "outputs": [],
   "source": [
    "rho_T = 1e5\n",
    "k_on = 1e5\n",
    "k_off = 1e-4\n",
    "beta_on = 2e13\n",
    "beta_off = 1e-3\n",
    "T_0 = 4.15e-16\n",
    "t_0 = 1.44e4\n",
    "q_on = 6.5e6\n",
    "q_off = 4.7e-3\n",
    "rho_N = 2.2e5"
   ]
  },
  {
   "cell_type": "markdown",
   "metadata": {},
   "source": [
    "Dimensionless params"
   ]
  },
  {
   "cell_type": "code",
   "execution_count": 3,
   "metadata": {},
   "outputs": [],
   "source": [
    "alpha_1 = k_on*t_0*rho_T*T_0\n",
    "alpha_2 = k_off*t_0\n",
    "n_1 = q_on*t_0*rho_N*T_0\n",
    "n_2 = q_off*t_0\n",
    "delta = rho_N/rho_T\n",
    "v = beta_on*t_0*T_0\n",
    "v_2 = beta_off*t_0\n",
    "\n",
    "# function params\n",
    "fk_max = 10\n",
    "B_k = 0.005\n",
    "kappa = 1"
   ]
  },
  {
   "cell_type": "code",
   "execution_count": 4,
   "metadata": {},
   "outputs": [],
   "source": [
    "def kill(B):\n",
    "\n",
    "    return fk_max*B/(B_k + B)"
   ]
  },
  {
   "cell_type": "code",
   "execution_count": 5,
   "metadata": {},
   "outputs": [],
   "source": [
    "def dissoc(B):\n",
    "\n",
    "    return v_2*np.exp(-kappa*B)"
   ]
  },
  {
   "cell_type": "code",
   "execution_count": 6,
   "metadata": {},
   "outputs": [],
   "source": [
    "def model(t, z, mu, gamma):\n",
    "\n",
    "    dA = -alpha_1*z[0]*(1 - z[1]- delta*z[3])*z[4] + alpha_2*gamma*delta*z[1]*z[4] + n_2*gamma*delta*z[2]*z[4] - n_1*z[0]*(1 - z[2] - z[3])*z[4]\n",
    "    dR_T = -alpha_2*z[1] + (alpha_1/gamma)*z[0]*(1 - z[1] - delta*z[3]) + n_2*z[3] - n_1*z[1]*(1 - z[2] - z[3])*z[4]\n",
    "    dR_N = (n_1/delta*gamma)*z[0]*(1 - z[2] - z[3]) - n_2*z[2] - alpha_1*z[2]*(1 - z[1] - delta*z[3])*z[4] + alpha_2*z[3]\n",
    "    dB = (n_1/delta)*z[1]*(1 - z[2] - z[3])*z[4] - n_2*z[3] - alpha_2*z[3] + alpha_1*z[2]*(1 - z[1] - delta*z[3])*z[4]\n",
    "    dS = -kill(z[3])*z[5]\n",
    "    dC = v*((mu/1) - z[5])*(z[4] - z[5]) - dissoc(z[3])*z[5] - kill(z[3])*z[5]\n",
    "    dz = [dA, dR_T, dR_N, dB, dS, dC]\n",
    "\n",
    "    return dz\n"
   ]
  },
  {
   "cell_type": "code",
   "execution_count": 7,
   "metadata": {},
   "outputs": [],
   "source": [
    "z_0 = [1, 0, 0, 0, 1, 0]\n",
    "mu = 20\n",
    "gamma = 1e-6\n",
    "t= np.geomspace(0.00000001, 1, 1000)\n",
    "t_span = [0.00000001, 1]\n",
    "\n",
    "z = solve_ivp(model, t_span, z_0, args = (mu, gamma), method = 'Radau', t_eval = t )"
   ]
  },
  {
   "cell_type": "code",
   "execution_count": 8,
   "metadata": {},
   "outputs": [
    {
     "data": {
      "image/png": "[encoded data removed]",
      "text/plain": [
       "<Figure size 432x288 with 1 Axes>"
      ]
     },
     "metadata": {},
     "output_type": "display_data"
    }
   ],
   "source": [
    "R_T = z.y[1]\n",
    "R_N = z.y[2]\n",
    "B = z.y[3]\n",
    "S = z.y[4]\n",
    "C = z.y[5]\n",
    "\n",
    "sns.set_theme()\n",
    "\n",
    "plt.semilogx(t, R_T, label = 'R_T')\n",
    "plt.semilogx(t, R_N, label = 'R_N')\n",
    "plt.semilogx(t, B, label = 'B')\n",
    "plt.semilogx(t, S, label = 'S')\n",
    "plt.semilogx(t, C, label = 'C')\n",
    "plt.legend(loc='best')\n",
    "plt.show()"
   ]
  }
 ],
 "metadata": {
  "interpreter": {
   "hash": "31f2aee4e71d21fbe5cf8b01ff0e069b9275f58929596ceb00d14d90e3e16cd6"
  },
  "kernelspec": {
   "display_name": "Python 3.8.10 64-bit",
   "language": "python",
   "name": "python3"
  },
  "language_info": {
   "codemirror_mode": {
    "name": "ipython",
    "version": 3
   },
   "file_extension": ".py",
   "mimetype": "text/x-python",
   "name": "python",
   "nbconvert_exporter": "python",
   "pygments_lexer": "ipython3",
   "version": "3.8.10"
  },
  "orig_nbformat": 4
 },
 "nbformat": 4,
 "nbformat_minor": 2
}
