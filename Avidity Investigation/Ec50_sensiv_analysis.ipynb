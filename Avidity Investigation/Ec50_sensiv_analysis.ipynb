{
 "cells": [
  {
   "cell_type": "code",
   "execution_count": 1,
   "metadata": {},
   "outputs": [],
   "source": [
    "import numpy as np\n",
    "import seaborn as sns\n",
    "from scipy.integrate import solve_ivp\n",
    "from SALib.sample import saltelli, sobol, fast_sampler\n",
    "from SALib.analyze import sobol, fast\n",
    "from scipy.constants import N_A\n",
    "from scipy.optimize import fsolve\n",
    "import math\n",
    "import matplotlib.pyplot as plt\n",
    "import SALib"
   ]
  },
  {
   "cell_type": "code",
   "execution_count": 2,
   "metadata": {},
   "outputs": [],
   "source": [
    "Target_cell_number = 2e5\n",
    "well_size = 125e-6\n",
    "sigma = well_size*N_A/Target_cell_number\n",
    "A0s = np.geomspace(1e-13, 1e-4, 50)\n",
    "t_end = 60*60*1000000\n",
    "t = np.geomspace(1e-10, t_end, 20)\n",
    "t_span = [1e-10, t_end]\n",
    "z0 = [0, 0]\n",
    "tumour_cell_radius = 8e-6\n",
    "tumour_cell_surface_area = 4*math.pi*((tumour_cell_radius)**2)"
   ]
  },
  {
   "cell_type": "code",
   "execution_count": 3,
   "metadata": {},
   "outputs": [
    {
     "data": {
      "text/plain": [
       "14.575630919729191"
      ]
     },
     "execution_count": 3,
     "metadata": {},
     "output_type": "execute_result"
    }
   ],
   "source": [
    "np.log10(sigma)"
   ]
  },
  {
   "cell_type": "code",
   "execution_count": 4,
   "metadata": {},
   "outputs": [],
   "source": [
    "def A1_steady_state(x, Ainit, k1, koff, k2, rtot):\n",
    "    k1 = k1/sigma\n",
    "    Atot = sigma*Ainit\n",
    "    express = 2*k1*(rtot - x - 2*(k2*x*(rtot-x)/(2*(koff + k2*x))))*(Atot - x - (k2*x*(rtot-x)/(2*(koff + k2*x)))) -koff*x - k2*x*(rtot - x - 2*(k2*x*(rtot-x)/(2*(koff + k2*x)))) +2*koff*(k2*x*(rtot-x)/(2*(koff + k2*x)))\n",
    "\n",
    "    return express\n",
    "\n",
    "def A2_steady_state(x, k2, koff, rtot):\n",
    "    express = k2*x*(rtot-x)/(2*(koff + k2*x))\n",
    "\n",
    "    return express\n",
    "\n",
    "def EC50_finder(array, A0s):\n",
    "    half_max = 0.5*np.max(array) \n",
    "    half_max_array = half_max*np.ones_like(array)\n",
    "    indicies = np.argwhere(np.diff(np.sign(half_max_array-array)))\n",
    "    return A0s[indicies[0]]\n",
    "\n",
    "def mono_valent_steady_state(Ainit, k1, koff, rtot):\n",
    "    k1 = k1/sigma\n",
    "    Atot = sigma*Ainit\n",
    "    a = 1\n",
    "    b = -((koff/k1) + rtot + Atot)\n",
    "    c = rtot*Atot\n",
    "\n",
    "    st = (-b - np.sqrt(b**2 - 4*a*c))/(2*a)\n",
    "\n",
    "    return st\n",
    "\n",
    "def mono_valent_steady_state_var(Ainit, KD, sigma, rtot):\n",
    "    Atot = sigma*Ainit\n",
    "    a = 1\n",
    "    b = -((KD*sigma) + rtot + Atot)\n",
    "    c = rtot*Atot\n",
    "\n",
    "    st = (-b - np.sqrt(b**2 - 4*a*c))/(2*a)\n",
    "\n",
    "    return st\n",
    "\n",
    "def monovalent_binding(t, z, Ainit, rtot, kon, koff):\n",
    "     k = kon/sigma\n",
    "     Atot = well_size*N_A*Ainit/Target_cell_number\n",
    "     A0 = Atot - z\n",
    "     Ag = rtot - z\n",
    "\n",
    "     dA1 = k*Ag*A0 - koff*z\n",
    "\n",
    "     return dA1"
   ]
  },
  {
   "cell_type": "code",
   "execution_count": 5,
   "metadata": {},
   "outputs": [],
   "source": [
    "problem = {\n",
    "    'num_vars': 4,\n",
    "    'names': ['rtot', 'kon', 'D', 'koff'],\n",
    "    'bounds': [[3, 5],\n",
    "               [4, 6],\n",
    "               [-15, -13],\n",
    "               [-6, -4]]\n",
    "}\n",
    "\n",
    "problem1 = {\n",
    "    'num_vars': 3,\n",
    "    'names': ['rtot', 'KD', 'sigma'],\n",
    "    'bounds': [[1e4, 1e6],\n",
    "               [1e-12, 1e-8],\n",
    "               [1e14, 1e15]]\n",
    "}\n",
    "\n",
    "problem2 = {\n",
    "    'num_vars': 4,\n",
    "    'names': ['rtot', 'kon', 'sigma', 'koff'],\n",
    "    'bounds': [[4, 6],\n",
    "               [4, 6],\n",
    "               [1e14, 1e14+1],\n",
    "               [-6, -4]]\n",
    "}\n",
    "\n",
    "\n",
    "vals = SALib.sample.sobol.sample(problem, 16384)\n",
    "Y = np.zeros(len(vals))\n",
    "Y1 = np.zeros(len(vals))"
   ]
  },
  {
   "cell_type": "code",
   "execution_count": 6,
   "metadata": {},
   "outputs": [],
   "source": [
    "\n",
    "for i, params in enumerate(vals):\n",
    "    rtot = params[0]\n",
    "    rtot = 10**rtot\n",
    "    kon = params[1]\n",
    "    kon = 10**kon\n",
    "    D = params[2]\n",
    "    D = 10**D\n",
    "    koff = params[3]\n",
    "    koff = 10**koff\n",
    "    k2 = 4*D/tumour_cell_surface_area\n",
    "\n",
    "    \n",
    "    Ainit_array = np.zeros_like(A0s)\n",
    "    Ainit_array1 = np.zeros_like(A0s)\n",
    "    \n",
    "    for j, A0 in enumerate(A0s):\n",
    "\n",
    "        \"\"\"\n",
    "        A1_st = fsolve(A1_steady_state, [0], args=(A0, kon, koff, k2, rtot))\n",
    "        A2_st = A2_steady_state(A1_st, k2, koff, rtot)\n",
    "        if (A1_st < 0) or (A2_st < 0) :\n",
    "            print('negative')\n",
    "        \n",
    "        if ((A1_st + 2*A2_st) > rtot):\n",
    "            print('blown up')\n",
    "\n",
    "        Ab = A1_st + A2_st\n",
    "        Ab1 = A1_st + 2*A2_st\n",
    "        Ainit_array[j] = Ab[-1]\n",
    "        Ainit_array1[j] = Ab1[-1]\n",
    "    print(Ainit_array/rtot)\n",
    "    \"\"\"\n",
    "    #biv_ec50 = EC50_finder(Ainit_array, A0s)\n",
    "    #biv_ec501 = EC50_finder(Ainit_array1, A0s)\n",
    "    mono_ec50 = EC50_finder(mono_valent_steady_state(A0s, kon, koff, rtot), A0s)\n",
    "    Y[i] = mono_ec50\n",
    "    #Y[i] = np.log10(mono_ec50/biv_ec50)\n",
    "    #Y1[i] = np.log10(mono_ec50/biv_ec501)\n",
    "    "
   ]
  },
  {
   "cell_type": "code",
   "execution_count": 7,
   "metadata": {},
   "outputs": [
    {
     "name": "stdout",
     "output_type": "stream",
     "text": [
      "            ST   ST_conf\n",
      "rtot  0.004557  0.001201\n",
      "kon   0.704596  0.044445\n",
      "D     0.000000  0.000000\n",
      "koff  0.698147  0.039345\n",
      "            S1   S1_conf\n",
      "rtot  0.001682  0.001356\n",
      "kon   0.291235  0.024788\n",
      "D     0.000000  0.000000\n",
      "koff  0.287694  0.023698\n",
      "                    S2       S2_conf\n",
      "(rtot, kon)  -0.001557  2.031515e-03\n",
      "(rtot, D)    -0.000817  1.871650e-03\n",
      "(rtot, koff) -0.001274  2.285765e-03\n",
      "(kon, D)     -0.001728  3.982462e-02\n",
      "(kon, koff)   0.407266  7.099992e-02\n",
      "(D, koff)     0.000000  6.855865e-17\n"
     ]
    }
   ],
   "source": [
    "Si = sobol.analyze(problem, Y, print_to_console=True)"
   ]
  },
  {
   "cell_type": "code",
   "execution_count": 8,
   "metadata": {},
   "outputs": [],
   "source": [
    "total, first, second = Si.to_df()\n",
    "sns.set_context('talk')"
   ]
  },
  {
   "cell_type": "code",
   "execution_count": 11,
   "metadata": {},
   "outputs": [],
   "source": [
    "array = list(total['ST'].values)\n",
    "array.append(0)"
   ]
  },
  {
   "cell_type": "code",
   "execution_count": 12,
   "metadata": {},
   "outputs": [
    {
     "data": {
      "image/png": "[encoded data removed]",
      "text/plain": [
       "<Figure size 1000x600 with 1 Axes>"
      ]
     },
     "metadata": {},
     "output_type": "display_data"
    }
   ],
   "source": [
    "fig, ax = plt.subplots(1,1, figsize=(10,6))\n",
    "ax.bar(x =[r'$r^{tot}$', r'$k^{on}$', r'$D$', r'$k^{off}$', 'dummy'],  height=array, color=['purple', 'blue', 'skyblue', 'orange', 'black'])\n",
    "ax.set_ylabel('Index Value')\n",
    "ax.set_xlabel('Model Parameter')\n",
    "fig.savefig('/Users/lukeheirene/ADCC-Project/Figures/mono_ec50_rtot_1e3_to_1e5_total_order_sensiv_analysis.png')"
   ]
  }
 ],
 "metadata": {
  "kernelspec": {
   "display_name": "Python 3",
   "language": "python",
   "name": "python3"
  },
  "language_info": {
   "codemirror_mode": {
    "name": "ipython",
    "version": 3
   },
   "file_extension": ".py",
   "mimetype": "text/x-python",
   "name": "python",
   "nbconvert_exporter": "python",
   "pygments_lexer": "ipython3",
   "version": "3.11.3"
  },
  "orig_nbformat": 4
 },
 "nbformat": 4,
 "nbformat_minor": 2
}
