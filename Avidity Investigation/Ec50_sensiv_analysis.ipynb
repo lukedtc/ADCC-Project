{
 "cells": [
  {
   "cell_type": "code",
   "execution_count": null,
   "metadata": {},
   "outputs": [],
   "source": [
    "import numpy as np\n",
    "import seaborn as sns\n",
    "from scipy.integrate import solve_ivp\n",
    "from SALib.sample import saltelli, sobol, fast_sampler\n",
    "from SALib.analyze import sobol, fast\n",
    "from scipy.constants import N_A\n",
    "from scipy.optimize import fsolve\n",
    "import math\n",
    "import matplotlib.pyplot as plt\n",
    "import SALib"
   ]
  },
  {
   "cell_type": "code",
   "execution_count": null,
   "metadata": {},
   "outputs": [],
   "source": [
    "Target_cell_number = 2e5\n",
    "well_size = 150e-6\n",
    "sigma = well_size*N_A/Target_cell_number\n",
    "A0s = np.geomspace(1e-13, 5e-5, 3)\n",
    "t_end = 60*60*5\n",
    "t = np.geomspace(1e-10, t_end, 500)\n",
    "t_span = [1e-10, t_end]\n",
    "z0 = [0, 0]\n",
    "tumour_cell_radius = 8e-6\n",
    "tumour_cell_surface_area = 4*math.pi*((tumour_cell_radius)**2)"
   ]
  },
  {
   "cell_type": "code",
   "execution_count": null,
   "metadata": {},
   "outputs": [],
   "source": [
    "def A1_steady_state(x, Ainit, k1, koff, k2, rtot):\n",
    "    k1 = k1/sigma\n",
    "    Atot = sigma*Ainit\n",
    "    express = 2*k1*(rtot - x - 2*(k2*x*(rtot-x)/(2*(koff + k2*x))))*(Atot - x - (k2*x*(rtot-x)/(2*(koff + k2*x)))) -koff*x - k2*x*(rtot - x - 2*(k2*x*(rtot-x)/(2*(koff + k2*x)))) +2*koff*(k2*x*(rtot-x)/(2*(koff + k2*x)))\n",
    "\n",
    "    return express\n",
    "\n",
    "def A2_steady_state(x, k2, koff, rtot):\n",
    "    express = k2*x*(rtot-x)/(2*(koff + k2*x))\n",
    "\n",
    "    return express\n",
    "\n",
    "def EC50_finder(array, A0s):\n",
    "    half_max = 0.5*np.max(array) \n",
    "    half_max_array = half_max*np.ones_like(array)\n",
    "    indicies = np.argwhere(np.diff(np.sign(half_max_array-array)))\n",
    "    return A0s[indicies[0]]\n",
    "\n",
    "def mono_valent_steady_state(Ainit, k1, koff, rtot):\n",
    "    k1 = k1/sigma\n",
    "    Atot = sigma*Ainit\n",
    "    a = 1\n",
    "    b = -((koff/k1) + rtot + Atot)\n",
    "    c = rtot*Atot\n",
    "\n",
    "    st = (-b - np.sqrt(b**2 - 4*a*c))/(2*a)\n",
    "\n",
    "    return st"
   ]
  },
  {
   "cell_type": "code",
   "execution_count": null,
   "metadata": {},
   "outputs": [],
   "source": [
    "problem = {\n",
    "    'num_vars': 4,\n",
    "    'names': ['rtot', 'kon', 'D', 'koff'],\n",
    "    'bounds': [[1e3, 1e6],\n",
    "               [1e4, 1e6],\n",
    "               [1e-15, 1e-13],\n",
    "               [1e-6, 1e-3]]\n",
    "}\n",
    "\n",
    "vals = SALib.sample.sobol.sample(problem, 8)\n",
    "Y = np.zeros(len(vals))"
   ]
  },
  {
   "cell_type": "code",
   "execution_count": null,
   "metadata": {},
   "outputs": [],
   "source": [
    "for i, params in enumerate(vals):\n",
    "    rtot = params[0]\n",
    "    kon = params[1]\n",
    "    D = params[2]\n",
    "    koff = params[3]\n",
    "    k2 = 4*D/tumour_cell_surface_area\n",
    "\n",
    "    Ainit_array = np.zeros_like(A0s)\n",
    "\n",
    "    for j, A0 in enumerate(A0s):\n",
    "\n",
    "        A1_st = fsolve(A1_steady_state, [0], args=(A0, kon, koff, k2, rtot))\n",
    "        A2_st = A2_steady_state(A1_st, k2, koff, rtot)\n",
    "        if (A1_st < 0) or (A2_st < 0) :\n",
    "            print('negative')\n",
    "        \n",
    "        if ((A1_st + 2*A2_st) > rtot):\n",
    "            print('blown up')\n",
    "\n",
    "        Ab = A1_st + 2*A2_st\n",
    "\n",
    "        Ainit_array[j] = Ab\n",
    "    \n",
    "    mono_binding = mono_valent_steady_state(A0s, kon, koff, rtot)\n",
    "    mono_ec50 = EC50_finder(mono_binding, A0s)\n",
    "    biv_ec50 = EC50_finder(Ainit_array, A0s)\n",
    "    Y[i] = np.abs(mono_ec50-biv_ec50)"
   ]
  },
  {
   "cell_type": "code",
   "execution_count": null,
   "metadata": {},
   "outputs": [],
   "source": [
    "Si = sobol.analyze(problem, Y, print_to_console=True)"
   ]
  },
  {
   "cell_type": "code",
   "execution_count": null,
   "metadata": {},
   "outputs": [],
   "source": [
    "total, first, second = Si.to_df()\n",
    "sns.set_context('talk')\n",
    "from SALib.plotting.bar import plot as barplot\n",
    "\n",
    "fig, ax1 = plt.subplots(1,1, figsize=(10,6))\n",
    "\n",
    "ax1 = barplot(total, ax=ax1)"
   ]
  },
  {
   "cell_type": "code",
   "execution_count": null,
   "metadata": {},
   "outputs": [],
   "source": [
    "sns.barplot(data=total, x=total.index, y='ST')"
   ]
  },
  {
   "cell_type": "code",
   "execution_count": null,
   "metadata": {},
   "outputs": [],
   "source": [
    "array = list(first['S1'].values)\n",
    "array.append(0)"
   ]
  },
  {
   "cell_type": "code",
   "execution_count": null,
   "metadata": {},
   "outputs": [],
   "source": [
    "plt.bar(x =[r'$r^{tot}$', r'$k^{on}$', r'$D$', r'$k^{off}$', 'dummy'],  height=array, color=['purple', 'blue', 'skyblue', 'orange', 'black'])\n",
    "plt.ylabel('Index Value')\n",
    "plt.xlabel('Model Parameter')"
   ]
  }
 ],
 "metadata": {
  "kernelspec": {
   "display_name": "Python 3",
   "language": "python",
   "name": "python3"
  },
  "language_info": {
   "codemirror_mode": {
    "name": "ipython",
    "version": 3
   },
   "file_extension": ".py",
   "mimetype": "text/x-python",
   "name": "python",
   "nbconvert_exporter": "python",
   "pygments_lexer": "ipython3",
   "version": "3.10.11"
  },
  "orig_nbformat": 4
 },
 "nbformat": 4,
 "nbformat_minor": 2
}
