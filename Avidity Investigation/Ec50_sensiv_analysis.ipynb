{
 "cells": [
  {
   "cell_type": "code",
   "execution_count": 281,
   "metadata": {},
   "outputs": [],
   "source": [
    "import numpy as np\n",
    "import seaborn as sns\n",
    "from scipy.integrate import solve_ivp\n",
    "from SALib.sample import saltelli, sobol, fast_sampler\n",
    "from SALib.analyze import sobol, fast\n",
    "from scipy.constants import N_A\n",
    "from scipy.optimize import fsolve\n",
    "import math\n",
    "import matplotlib.pyplot as plt\n",
    "import SALib"
   ]
  },
  {
   "cell_type": "code",
   "execution_count": 282,
   "metadata": {},
   "outputs": [],
   "source": [
    "Target_cell_number = 2e5\n",
    "well_size = 150e-6\n",
    "sigma = well_size*N_A/Target_cell_number\n",
    "A0s = np.geomspace(1e-13, 5e-5, 80)\n",
    "t_end = 60*60*1000000\n",
    "t = np.geomspace(1e-10, t_end, 50)\n",
    "t_span = [1e-10, t_end]\n",
    "z0 = [0, 0]\n",
    "tumour_cell_radius = 8e-6\n",
    "tumour_cell_surface_area = 4*math.pi*((tumour_cell_radius)**2)"
   ]
  },
  {
   "cell_type": "code",
   "execution_count": 283,
   "metadata": {},
   "outputs": [
    {
     "data": {
      "text/plain": [
       "2.214052089565129e-11"
      ]
     },
     "execution_count": 283,
     "metadata": {},
     "output_type": "execute_result"
    }
   ],
   "source": [
    "1e4/sigma"
   ]
  },
  {
   "cell_type": "code",
   "execution_count": 284,
   "metadata": {},
   "outputs": [],
   "source": [
    "def A1_steady_state(x, Ainit, k1, koff, k2, rtot):\n",
    "    k1 = k1/sigma\n",
    "    Atot = sigma*Ainit\n",
    "    express = 2*k1*(rtot - x - 2*(k2*x*(rtot-x)/(2*(koff + k2*x))))*(Atot - x - (k2*x*(rtot-x)/(2*(koff + k2*x)))) -koff*x - k2*x*(rtot - x - 2*(k2*x*(rtot-x)/(2*(koff + k2*x)))) +2*koff*(k2*x*(rtot-x)/(2*(koff + k2*x)))\n",
    "\n",
    "    return express\n",
    "\n",
    "def A2_steady_state(x, k2, koff, rtot):\n",
    "    express = k2*x*(rtot-x)/(2*(koff + k2*x))\n",
    "\n",
    "    return express\n",
    "\n",
    "def EC50_finder(array, A0s):\n",
    "    half_max = 0.5*np.max(array) \n",
    "    half_max_array = half_max*np.ones_like(array)\n",
    "    indicies = np.argwhere(np.diff(np.sign(half_max_array-array)))\n",
    "    return A0s[indicies[0]]\n",
    "\n",
    "def mono_valent_steady_state(Ainit, k1, koff, rtot):\n",
    "    k1 = k1/sigma\n",
    "    Atot = sigma*Ainit\n",
    "    a = 1\n",
    "    b = -((koff/k1) + rtot + Atot)\n",
    "    c = rtot*Atot\n",
    "\n",
    "    st = (-b - np.sqrt(b**2 - 4*a*c))/(2*a)\n",
    "\n",
    "    return st\n",
    "\n",
    "def monovalent_binding(t, z, Ainit, rtot, kon, koff):\n",
    "     k = kon/sigma\n",
    "     Atot = well_size*N_A*Ainit/Target_cell_number\n",
    "     A0 = Atot - z\n",
    "     Ag = rtot - z\n",
    "\n",
    "     dA1 = k*Ag*A0 - koff*z\n",
    "\n",
    "     return dA1"
   ]
  },
  {
   "cell_type": "code",
   "execution_count": 285,
   "metadata": {},
   "outputs": [],
   "source": [
    "problem = {\n",
    "    'num_vars': 4,\n",
    "    'names': ['rtot', 'kon', 'D', 'koff'],\n",
    "    'bounds': [[1e4, 1e6],\n",
    "               [1e4, 1e6],\n",
    "               [1e-15, 1e-13],\n",
    "               [1e-6, 1e-4]]\n",
    "}\n",
    "\n",
    "vals = SALib.sample.sobol.sample(problem, 4096)\n",
    "Y = np.zeros(len(vals))"
   ]
  },
  {
   "cell_type": "code",
   "execution_count": 286,
   "metadata": {},
   "outputs": [
    {
     "data": {
      "text/plain": [
       "4096.0"
      ]
     },
     "execution_count": 286,
     "metadata": {},
     "output_type": "execute_result"
    }
   ],
   "source": [
    "16384/4"
   ]
  },
  {
   "cell_type": "code",
   "execution_count": 287,
   "metadata": {},
   "outputs": [
    {
     "name": "stdout",
     "output_type": "stream",
     "text": [
      "0\n",
      "1\n",
      "2\n",
      "3\n",
      "4\n",
      "5\n",
      "6\n",
      "7\n",
      "8\n",
      "9\n",
      "10\n",
      "11\n",
      "12\n",
      "13\n",
      "14\n",
      "15\n",
      "16\n",
      "17\n",
      "18\n",
      "19\n",
      "20\n"
     ]
    },
    {
     "ename": "KeyboardInterrupt",
     "evalue": "",
     "output_type": "error",
     "traceback": [
      "\u001b[0;31m---------------------------------------------------------------------------\u001b[0m",
      "\u001b[0;31mKeyboardInterrupt\u001b[0m                         Traceback (most recent call last)",
      "\u001b[1;32m/Users/lukeheirene/ADCC-Project/Avidity Investigation/Ec50_sensiv_analysis.ipynb Cell 7\u001b[0m in \u001b[0;36m<cell line: 1>\u001b[0;34m()\u001b[0m\n\u001b[1;32m     <a href='vscode-notebook-cell:/Users/lukeheirene/ADCC-Project/Avidity%20Investigation/Ec50_sensiv_analysis.ipynb#W4sZmlsZQ%3D%3D?line=9'>10</a>\u001b[0m Ainit_array \u001b[39m=\u001b[39m np\u001b[39m.\u001b[39mzeros_like(A0s)\n\u001b[1;32m     <a href='vscode-notebook-cell:/Users/lukeheirene/ADCC-Project/Avidity%20Investigation/Ec50_sensiv_analysis.ipynb#W4sZmlsZQ%3D%3D?line=11'>12</a>\u001b[0m \u001b[39mfor\u001b[39;00m j, A0 \u001b[39min\u001b[39;00m \u001b[39menumerate\u001b[39m(A0s):\n\u001b[0;32m---> <a href='vscode-notebook-cell:/Users/lukeheirene/ADCC-Project/Avidity%20Investigation/Ec50_sensiv_analysis.ipynb#W4sZmlsZQ%3D%3D?line=13'>14</a>\u001b[0m     z \u001b[39m=\u001b[39m solve_ivp(monovalent_binding, t_span, [\u001b[39m0\u001b[39;49m], method\u001b[39m=\u001b[39;49m\u001b[39m'\u001b[39;49m\u001b[39mRadau\u001b[39;49m\u001b[39m'\u001b[39;49m, t_eval\u001b[39m=\u001b[39;49mt, args\u001b[39m=\u001b[39;49m(A0, rtot, kon, koff))\n\u001b[1;32m     <a href='vscode-notebook-cell:/Users/lukeheirene/ADCC-Project/Avidity%20Investigation/Ec50_sensiv_analysis.ipynb#W4sZmlsZQ%3D%3D?line=15'>16</a>\u001b[0m     \u001b[39m\"\"\"\u001b[39;00m\n\u001b[1;32m     <a href='vscode-notebook-cell:/Users/lukeheirene/ADCC-Project/Avidity%20Investigation/Ec50_sensiv_analysis.ipynb#W4sZmlsZQ%3D%3D?line=16'>17</a>\u001b[0m \u001b[39m    A1_st = fsolve(A1_steady_state, [0], args=(A0, kon, koff, k2, rtot))\u001b[39;00m\n\u001b[1;32m     <a href='vscode-notebook-cell:/Users/lukeheirene/ADCC-Project/Avidity%20Investigation/Ec50_sensiv_analysis.ipynb#W4sZmlsZQ%3D%3D?line=17'>18</a>\u001b[0m \u001b[39m    A2_st = A2_steady_state(A1_st, k2, koff, rtot)\u001b[39;00m\n\u001b[0;32m   (...)\u001b[0m\n\u001b[1;32m     <a href='vscode-notebook-cell:/Users/lukeheirene/ADCC-Project/Avidity%20Investigation/Ec50_sensiv_analysis.ipynb#W4sZmlsZQ%3D%3D?line=24'>25</a>\u001b[0m \u001b[39m    Ab = A1_st + 2*A2_st\u001b[39;00m\n\u001b[1;32m     <a href='vscode-notebook-cell:/Users/lukeheirene/ADCC-Project/Avidity%20Investigation/Ec50_sensiv_analysis.ipynb#W4sZmlsZQ%3D%3D?line=25'>26</a>\u001b[0m \u001b[39m    \"\"\"\u001b[39;00m\n\u001b[1;32m     <a href='vscode-notebook-cell:/Users/lukeheirene/ADCC-Project/Avidity%20Investigation/Ec50_sensiv_analysis.ipynb#W4sZmlsZQ%3D%3D?line=26'>27</a>\u001b[0m     Ab \u001b[39m=\u001b[39m z\u001b[39m.\u001b[39my[\u001b[39m0\u001b[39m]\n",
      "File \u001b[0;32m/opt/homebrew/lib/python3.10/site-packages/scipy/integrate/_ivp/ivp.py:576\u001b[0m, in \u001b[0;36msolve_ivp\u001b[0;34m(fun, t_span, y0, method, t_eval, dense_output, events, vectorized, args, **options)\u001b[0m\n\u001b[1;32m    574\u001b[0m status \u001b[39m=\u001b[39m \u001b[39mNone\u001b[39;00m\n\u001b[1;32m    575\u001b[0m \u001b[39mwhile\u001b[39;00m status \u001b[39mis\u001b[39;00m \u001b[39mNone\u001b[39;00m:\n\u001b[0;32m--> 576\u001b[0m     message \u001b[39m=\u001b[39m solver\u001b[39m.\u001b[39;49mstep()\n\u001b[1;32m    578\u001b[0m     \u001b[39mif\u001b[39;00m solver\u001b[39m.\u001b[39mstatus \u001b[39m==\u001b[39m \u001b[39m'\u001b[39m\u001b[39mfinished\u001b[39m\u001b[39m'\u001b[39m:\n\u001b[1;32m    579\u001b[0m         status \u001b[39m=\u001b[39m \u001b[39m0\u001b[39m\n",
      "File \u001b[0;32m/opt/homebrew/lib/python3.10/site-packages/scipy/integrate/_ivp/base.py:181\u001b[0m, in \u001b[0;36mOdeSolver.step\u001b[0;34m(self)\u001b[0m\n\u001b[1;32m    179\u001b[0m \u001b[39melse\u001b[39;00m:\n\u001b[1;32m    180\u001b[0m     t \u001b[39m=\u001b[39m \u001b[39mself\u001b[39m\u001b[39m.\u001b[39mt\n\u001b[0;32m--> 181\u001b[0m     success, message \u001b[39m=\u001b[39m \u001b[39mself\u001b[39;49m\u001b[39m.\u001b[39;49m_step_impl()\n\u001b[1;32m    183\u001b[0m     \u001b[39mif\u001b[39;00m \u001b[39mnot\u001b[39;00m success:\n\u001b[1;32m    184\u001b[0m         \u001b[39mself\u001b[39m\u001b[39m.\u001b[39mstatus \u001b[39m=\u001b[39m \u001b[39m'\u001b[39m\u001b[39mfailed\u001b[39m\u001b[39m'\u001b[39m\n",
      "File \u001b[0;32m/opt/homebrew/lib/python3.10/site-packages/scipy/integrate/_ivp/radau.py:437\u001b[0m, in \u001b[0;36mRadau._step_impl\u001b[0;34m(self)\u001b[0m\n\u001b[1;32m    435\u001b[0m     Z0 \u001b[39m=\u001b[39m np\u001b[39m.\u001b[39mzeros((\u001b[39m3\u001b[39m, y\u001b[39m.\u001b[39mshape[\u001b[39m0\u001b[39m]))\n\u001b[1;32m    436\u001b[0m \u001b[39melse\u001b[39;00m:\n\u001b[0;32m--> 437\u001b[0m     Z0 \u001b[39m=\u001b[39m \u001b[39mself\u001b[39;49m\u001b[39m.\u001b[39;49msol(t \u001b[39m+\u001b[39;49m h \u001b[39m*\u001b[39;49m C)\u001b[39m.\u001b[39mT \u001b[39m-\u001b[39m y\n\u001b[1;32m    439\u001b[0m scale \u001b[39m=\u001b[39m atol \u001b[39m+\u001b[39m np\u001b[39m.\u001b[39mabs(y) \u001b[39m*\u001b[39m rtol\n\u001b[1;32m    441\u001b[0m converged \u001b[39m=\u001b[39m \u001b[39mFalse\u001b[39;00m\n",
      "File \u001b[0;32m/opt/homebrew/lib/python3.10/site-packages/scipy/integrate/_ivp/base.py:252\u001b[0m, in \u001b[0;36mDenseOutput.__call__\u001b[0;34m(self, t)\u001b[0m\n\u001b[1;32m    250\u001b[0m \u001b[39mif\u001b[39;00m t\u001b[39m.\u001b[39mndim \u001b[39m>\u001b[39m \u001b[39m1\u001b[39m:\n\u001b[1;32m    251\u001b[0m     \u001b[39mraise\u001b[39;00m \u001b[39mValueError\u001b[39;00m(\u001b[39m\"\u001b[39m\u001b[39m`t` must be a float or a 1-D array.\u001b[39m\u001b[39m\"\u001b[39m)\n\u001b[0;32m--> 252\u001b[0m \u001b[39mreturn\u001b[39;00m \u001b[39mself\u001b[39;49m\u001b[39m.\u001b[39;49m_call_impl(t)\n",
      "File \u001b[0;32m/opt/homebrew/lib/python3.10/site-packages/scipy/integrate/_ivp/radau.py:555\u001b[0m, in \u001b[0;36mRadauDenseOutput._call_impl\u001b[0;34m(self, t)\u001b[0m\n\u001b[1;32m    553\u001b[0m     p \u001b[39m=\u001b[39m np\u001b[39m.\u001b[39mcumprod(p, axis\u001b[39m=\u001b[39m\u001b[39m0\u001b[39m)\n\u001b[1;32m    554\u001b[0m \u001b[39m# Here we don't multiply by h, not a mistake.\u001b[39;00m\n\u001b[0;32m--> 555\u001b[0m y \u001b[39m=\u001b[39m np\u001b[39m.\u001b[39;49mdot(\u001b[39mself\u001b[39;49m\u001b[39m.\u001b[39;49mQ, p)\n\u001b[1;32m    556\u001b[0m \u001b[39mif\u001b[39;00m y\u001b[39m.\u001b[39mndim \u001b[39m==\u001b[39m \u001b[39m2\u001b[39m:\n\u001b[1;32m    557\u001b[0m     y \u001b[39m+\u001b[39m\u001b[39m=\u001b[39m \u001b[39mself\u001b[39m\u001b[39m.\u001b[39my_old[:, \u001b[39mNone\u001b[39;00m]\n",
      "File \u001b[0;32m<__array_function__ internals>:180\u001b[0m, in \u001b[0;36mdot\u001b[0;34m(*args, **kwargs)\u001b[0m\n",
      "\u001b[0;31mKeyboardInterrupt\u001b[0m: "
     ]
    }
   ],
   "source": [
    "\n",
    "for i, params in enumerate(vals):\n",
    "    print(i)\n",
    "    rtot = params[0]\n",
    "    kon = params[1]\n",
    "    D = params[2]\n",
    "    koff = params[3]\n",
    "    k2 = 4*D/tumour_cell_surface_area\n",
    "\n",
    "    \n",
    "    Ainit_array = np.zeros_like(A0s)\n",
    "\n",
    "    for j, A0 in enumerate(A0s):\n",
    "\n",
    "        z = solve_ivp(monovalent_binding, t_span, [0], method='Radau', t_eval=t, args=(A0, rtot, kon, koff))\n",
    "\n",
    "        \"\"\"\n",
    "        A1_st = fsolve(A1_steady_state, [0], args=(A0, kon, koff, k2, rtot))\n",
    "        A2_st = A2_steady_state(A1_st, k2, koff, rtot)\n",
    "        if (A1_st < 0) or (A2_st < 0) :\n",
    "            print('negative')\n",
    "        \n",
    "        if ((A1_st + 2*A2_st) > rtot):\n",
    "            print('blown up')\n",
    "\n",
    "        Ab = A1_st + 2*A2_st\n",
    "        \"\"\"\n",
    "        Ab = z.y[0]\n",
    "        Ainit_array[j] = Ab[-1]\n",
    "    \n",
    "    #biv_ec50 = EC50_finder(Ainit_array, A0s)\n",
    "\n",
    "    #mono_ec50 = EC50_finder(mono_valent_steady_state(A0s, kon, koff, rtot), A0s)\n",
    "    mono_ec50 = EC50_finder(Ainit_array, A0s)\n",
    "    Y[i] = mono_ec50\n",
    "    "
   ]
  },
  {
   "cell_type": "code",
   "execution_count": null,
   "metadata": {},
   "outputs": [
    {
     "name": "stdout",
     "output_type": "stream",
     "text": [
      "            ST   ST_conf\n",
      "rtot  0.265386  0.038020\n",
      "kon   0.691068  0.079185\n",
      "D     0.000000  0.000000\n",
      "koff  0.209458  0.046922\n",
      "            S1   S1_conf\n",
      "rtot  0.253607  0.040985\n",
      "kon   0.506256  0.100857\n",
      "D     0.000000  0.000000\n",
      "koff  0.045777  0.017286\n",
      "                    S2       S2_conf\n",
      "(rtot, kon)  -0.005052  3.727059e-02\n",
      "(rtot, D)    -0.000224  2.819114e-02\n",
      "(rtot, koff)  0.004402  2.782729e-02\n",
      "(kon, D)      0.018789  1.797602e-01\n",
      "(kon, koff)   0.143280  2.074550e-01\n",
      "(D, koff)     0.000000  1.977874e-17\n"
     ]
    }
   ],
   "source": [
    "Si = sobol.analyze(problem, Y, print_to_console=True)"
   ]
  },
  {
   "cell_type": "code",
   "execution_count": null,
   "metadata": {},
   "outputs": [],
   "source": [
    "total, first, second = Si.to_df()\n",
    "sns.set_context('talk')"
   ]
  },
  {
   "cell_type": "code",
   "execution_count": null,
   "metadata": {},
   "outputs": [],
   "source": [
    "array = list(total['ST'].values)\n",
    "array.append(0)"
   ]
  },
  {
   "cell_type": "code",
   "execution_count": null,
   "metadata": {},
   "outputs": [
    {
     "data": {
      "image/png": "[encoded data removed]",
      "text/plain": [
       "<Figure size 1000x600 with 1 Axes>"
      ]
     },
     "metadata": {},
     "output_type": "display_data"
    }
   ],
   "source": [
    "fig, ax = plt.subplots(1,1, figsize=(10,6))\n",
    "ax.bar(x =[r'$r^{tot}$', r'$k^{on}$', r'$D$', r'$k^{off}$', 'dummy'],  height=array, color=['purple', 'blue', 'skyblue', 'orange', 'black'])\n",
    "ax.set_ylabel('Index Value')\n",
    "ax.set_xlabel('Model Parameter')\n",
    "fig.savefig('/Users/lukeheirene/ADCC-Project/Figures/monovalent_ec50_receptor_occupancy_first_order_sensiv_analysis.png')"
   ]
  }
 ],
 "metadata": {
  "kernelspec": {
   "display_name": "Python 3",
   "language": "python",
   "name": "python3"
  },
  "language_info": {
   "codemirror_mode": {
    "name": "ipython",
    "version": 3
   },
   "file_extension": ".py",
   "mimetype": "text/x-python",
   "name": "python",
   "nbconvert_exporter": "python",
   "pygments_lexer": "ipython3",
   "version": "3.10.11"
  },
  "orig_nbformat": 4
 },
 "nbformat": 4,
 "nbformat_minor": 2
}
