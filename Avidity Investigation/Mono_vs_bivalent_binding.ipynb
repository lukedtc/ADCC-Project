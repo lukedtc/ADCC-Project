{
 "cells": [
  {
   "cell_type": "code",
   "execution_count": 99,
   "metadata": {},
   "outputs": [],
   "source": [
    "import numpy as np\n",
    "import matplotlib.pyplot as plt\n",
    "import seaborn as sns\n",
    "from scipy.integrate import solve_ivp\n",
    "from scipy.optimize import fsolve\n",
    "import math\n",
    "from scipy.constants import N_A"
   ]
  },
  {
   "cell_type": "code",
   "execution_count": 100,
   "metadata": {},
   "outputs": [],
   "source": [
    "Target_cell_number = 2e5\n",
    "well_size = 125e-6\n",
    "t_end = 60*60*5\n",
    "t = np.geomspace(1e-10, t_end, 500)\n",
    "t_span = [1e-10, t_end]\n",
    "z0 = [0, 0]\n",
    "tumour_cell_radius = 8e-6\n",
    "tumour_cell_surface_area = 4*math.pi*((tumour_cell_radius)**2)"
   ]
  },
  {
   "cell_type": "code",
   "execution_count": 101,
   "metadata": {},
   "outputs": [],
   "source": [
    "def model_S_monospecific(t, z, Ainit, rtot, kon, k2, koff):\n",
    "     k = Ainit*kon\n",
    "     Atot = well_size*N_A*Ainit/Target_cell_number\n",
    "     A0 = Atot - z[0] - z[1] \n",
    "     Ag = rtot - z[0] - 2*z[1]\n",
    "\n",
    "     dA10 = 2*(k*Ag*A0/Atot) - koff*z[0] - (k2*Ag*z[0]) + 2*koff*z[1]\n",
    "     dA11 = (k2*Ag*z[0]) - 2*koff*z[1]\n",
    "\n",
    "     return [dA10, dA11]\n",
    "\n",
    "def monovalent_binding(t, z, Ainit, rtot, kon, koff):\n",
    "     k = Ainit*kon\n",
    "     Atot = well_size*N_A*Ainit/Target_cell_number\n",
    "     A0 = Atot - z\n",
    "     Ag = rtot - z\n",
    "\n",
    "     dA1 = k*Ag*A0/Atot - koff*z\n",
    "\n",
    "     return dA1\n",
    "\n",
    "def EC50_finder(array, A0s):\n",
    "    half_max = 0.5*np.max(array) \n",
    "    half_max_array = half_max*np.ones_like(array)\n",
    "    indicies = np.argwhere(np.diff(np.sign(half_max_array-array)))\n",
    "    return A0s[indicies[0]]"
   ]
  },
  {
   "cell_type": "code",
   "execution_count": 102,
   "metadata": {},
   "outputs": [
    {
     "name": "stdout",
     "output_type": "stream",
     "text": [
      "591971.8742834312\n"
     ]
    }
   ],
   "source": [
    "A0s = np.geomspace(1e-12, 1e-3, 500)\n",
    "\n",
    "# Desired KDs: 1nm 10nm 100nm 1000nm\n",
    "kons = [10**(4.5), 10**4, 10**(3.5), 10**3]\n",
    "koffs = [10**(-4.5), 10**(-4), 10**(-3.5), 10**(-3)]\n",
    "\n",
    "bivalent = np.zeros((len(kons), len(A0s)))\n",
    "monovalent = np.zeros((len(kons), len(A0s)))\n",
    "\n",
    "D = 1e-14\n",
    "k2 = 4*D/tumour_cell_surface_area\n",
    "k1 = kons[0]*Target_cell_number/(well_size*N_A)\n",
    "rtot = 1e3\n",
    "\n",
    "print(k2/k1)"
   ]
  },
  {
   "cell_type": "code",
   "execution_count": 103,
   "metadata": {},
   "outputs": [
    {
     "name": "stdout",
     "output_type": "stream",
     "text": [
      "[9.86252179e-10] [4.86827104e-10]\n",
      "[9.68215306e-09] [4.77923865e-09]\n",
      "[9.90813657e-08] [4.69183451e-08]\n",
      "[9.72693362e-07] [4.41865996e-07]\n"
     ]
    }
   ],
   "source": [
    "\n",
    "for j, kon in enumerate(kons):\n",
    "    koff = koffs[j]\n",
    "    for i, Ainit in enumerate(A0s):\n",
    "\n",
    "        # simulate monovalent binding\n",
    "\n",
    "        z = solve_ivp(monovalent_binding, t_span, [0], method='Radau', t_eval=t, args=(Ainit, rtot, kon, koff)) \n",
    "        bound_ab = z.y[0]\n",
    "        monovalent[j, i] = bound_ab[-1]\n",
    "\n",
    "        # simulate bivalent binding\n",
    "    \n",
    "        z = solve_ivp(model_S_monospecific, t_span, z0, method='Radau', t_eval=t, args=(Ainit, rtot, kon, k2, koff))\n",
    "        A1 = z.y[0]\n",
    "        A2 = z.y[1]\n",
    "        bivalent[j, i] = A1[-1] + A2[-1]\n",
    "    print(EC50_finder(monovalent[j, :], A0s), EC50_finder(bivalent[j, :], A0s))\n"
   ]
  },
  {
   "cell_type": "code",
   "execution_count": 104,
   "metadata": {},
   "outputs": [],
   "source": [
    "sns.set_theme()\n",
    "%matplotlib qt\n",
    "fig, ax = plt.subplots(1, 4, figsize=(40, 4.8))\n",
    "ax[0].semilogx(A0s, monovalent[0, :], c='red', label='monovalent')\n",
    "ax[0].semilogx(A0s, bivalent[0, :], c='blue', label = 'bivalent')\n",
    "ax[1].semilogx(A0s, monovalent[1, :], c='red', label='monovalent')\n",
    "ax[1].semilogx(A0s, bivalent[1, :], c='blue', label = 'bivalent')\n",
    "ax[2].semilogx(A0s, monovalent[2, :], c='red', label='monovalent')\n",
    "ax[2].semilogx(A0s, bivalent[2, :], c='blue', label = 'bivalent')\n",
    "ax[3].semilogx(A0s, monovalent[3, :], c='red', label='monovalent')\n",
    "ax[3].semilogx(A0s, bivalent[3, :], c='blue', label = 'bivalent')\n",
    "\n",
    "ax[0].set_xlabel(r'$A^{init}$')\n",
    "ax[1].set_xlabel(r'$A^{init}$')\n",
    "ax[2].set_xlabel(r'$A^{init}$')\n",
    "ax[3].set_xlabel(r'$A^{init}$')\n",
    "\n",
    "ax[0].set_ylabel(r'# of bound Abs')\n",
    "\n",
    "ax[0].set_ylim(0, 1000)\n",
    "ax[1].set_ylim(0, 1000)\n",
    "ax[2].set_ylim(0, 1000)\n",
    "ax[3].set_ylim(0, 1000)\n",
    "\n",
    "ax[0].set_title(r'$K_D = 1$ nM')\n",
    "ax[1].set_title(r'$K_D = 10$ nM')\n",
    "ax[2].set_title(r'$K_D = 100$ nM')\n",
    "ax[3].set_title(r'$K_D = 1000$ nM')\n",
    "plt.legend()\n",
    "plt.show()\n"
   ]
  },
  {
   "cell_type": "code",
   "execution_count": 105,
   "metadata": {},
   "outputs": [],
   "source": [
    "kon_powers = np.linspace(5, 3, 50)\n",
    "koff_powers = np.linspace(-5, -3, 50)\n",
    "\n",
    "kons = 10**kon_powers\n",
    "koffs = 10**koff_powers\n",
    "\n",
    "mono_Ec50s = np.zeros_like(kon_powers)\n",
    "biv_Ec50s = np.zeros_like(kon_powers)\n",
    "\n",
    "for i, kon in enumerate(kons):\n",
    "    monovalent = np.zeros_like(A0s)\n",
    "    bivalent = np.zeros_like(A0s)\n",
    "    koff = koffs[i]\n",
    "    for j, Ainit in enumerate(A0s):\n",
    "\n",
    "        # simulate monovalent binding\n",
    "\n",
    "        z = solve_ivp(monovalent_binding, t_span, [0], method='Radau', t_eval=t, args=(Ainit, rtot, kon, koff)) \n",
    "        bound_ab = z.y[0]\n",
    "        monovalent[j] = bound_ab[-1]\n",
    "\n",
    "        # simulate bivalent binding\n",
    "    \n",
    "        z = solve_ivp(model_S_monospecific, t_span, z0, method='Radau', t_eval=t, args=(Ainit, rtot, kon, k2, koff))\n",
    "        A1 = z.y[0]\n",
    "        A2 = z.y[1]\n",
    "        bivalent[j] = A1[-1] + 2*A2[-1]\n",
    "    \n",
    "    mono_Ec50s[i] = EC50_finder(monovalent, A0s)\n",
    "    biv_Ec50s[i] = EC50_finder(bivalent, A0s)\n",
    "\n"
   ]
  },
  {
   "cell_type": "code",
   "execution_count": 108,
   "metadata": {},
   "outputs": [],
   "source": [
    "Kds = koffs/kons\n",
    "sns.set_context('talk')\n",
    "plt.loglog(Kds, mono_Ec50s, label = r'Monovalent binidng')\n",
    "plt.loglog(Kds, biv_Ec50s, label = r'Bivalent binding')\n",
    "plt.xlabel(r'$K_D$ (M)')\n",
    "plt.ylabel(r'$Ec50$ (M)')\n",
    "plt.legend(loc='best')\n",
    "plt.show()"
   ]
  }
 ],
 "metadata": {
  "kernelspec": {
   "display_name": "Python 3",
   "language": "python",
   "name": "python3"
  },
  "language_info": {
   "codemirror_mode": {
    "name": "ipython",
    "version": 3
   },
   "file_extension": ".py",
   "mimetype": "text/x-python",
   "name": "python",
   "nbconvert_exporter": "python",
   "pygments_lexer": "ipython3",
   "version": "3.10.11"
  },
  "orig_nbformat": 4
 },
 "nbformat": 4,
 "nbformat_minor": 2
}
