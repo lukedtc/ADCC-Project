{
 "cells": [
  {
   "cell_type": "code",
   "execution_count": 17,
   "metadata": {},
   "outputs": [],
   "source": [
    "import numpy as np\n",
    "from scipy.integrate import solve_ivp\n",
    "from SALib.sample import saltelli\n",
    "from SALib.analyze import sobol\n",
    "import seaborn as sns\n",
    "import matplotlib.pyplot as plt"
   ]
  },
  {
   "cell_type": "code",
   "execution_count": 18,
   "metadata": {},
   "outputs": [],
   "source": [
    "def model(t, z, alpha, K, beta1, beta2, C1star, \n",
    "          alpha1, K1, K2, l1, l2, gamma1, gamma2, b1, b2, mu1):\n",
    "    \n",
    "    C1 = (alpha1/mu1)*z[1]\n",
    "    f_C1 = beta2*C1/(C1star + C1)\n",
    "    Ti = z[0] + z[1] + z[2]\n",
    "\n",
    "    dTu = alpha*z[0]*(1 - (Ti/K)) - beta1*(z[0]*z[3]/(K1 + Ti)) - f_C1*z[0]*z[4]/(K2 + Ti)\n",
    "    dT1 = beta1*(z[0]*z[3]/(K1 + Ti)) - l1*z[1]\n",
    "    dT2 = f_C1*z[0]*z[4]/(K2 + Ti) - l2*z[2]\n",
    "    dV1 = b1*l1*z[1] - beta1*(z[0]*z[3]/(K1 + Ti)) - gamma1*z[3]\n",
    "    dV2 = b2*l2*z[2] - f_C1*z[0]*z[4]/(K2 + Ti) - gamma2*z[4]\n",
    "\n",
    "    dz = [dTu, dT1, dT2, dV1, dV2]\n",
    "\n",
    "    return dz"
   ]
  },
  {
   "cell_type": "code",
   "execution_count": 19,
   "metadata": {},
   "outputs": [],
   "source": [
    "z0 = [1e4, 0, 0, 1e3, 1e3]\n",
    "t = np.linspace(0, 200, 1000)\n",
    "t_span = [0, 200]\n",
    "\n",
    "alpha = 0.1195\n",
    "K = 7.2e9\n",
    "beta1 = 0.2\n",
    "beta2 = 0.01\n",
    "K1 = 1e5\n",
    "K2 = 1e5\n",
    "l1 = 0.001\n",
    "l2 = 0.04\n",
    "gamma1 = 0.02\n",
    "gamma2 = 0.02\n",
    "b1 = 50\n",
    "b2 = 500\n",
    "mu1 = 0.02\n",
    "alpha1 = 1\n",
    "C1star = 1e3\n",
    "\n",
    "z = solve_ivp(model, t_span, z0, method='Radau', t_eval=t, args = (alpha, K, beta1, beta2, C1star, \n",
    "          alpha1, K1, K2, l1, l2, gamma1, gamma2, b1, b2, mu1))\n"
   ]
  },
  {
   "cell_type": "code",
   "execution_count": 20,
   "metadata": {},
   "outputs": [],
   "source": [
    "problem = {\n",
    "    'num_vars': 15,\n",
    "    'names': ['alpha', 'K', 'beta1', 'beta2', 'C1star', \n",
    "          'alpha1', 'K1', 'K2', 'l1', 'l2', 'gamma1', 'gamma2', 'b1', 'b2', 'mu1'],\n",
    "    'bounds': [[0.1, 0.7],\n",
    "               [1e6, 1e9],\n",
    "               [0.1, 0.5],\n",
    "               [0.001, 0.1],\n",
    "               [1e4, 1e5],\n",
    "               [1e4, 1e5],\n",
    "               [0.001, 0.1],\n",
    "               [0.01, 0.1],\n",
    "               [0.001, 0.1],\n",
    "               [0.001, 0.1],\n",
    "               [1, 500],\n",
    "               [50, 8000],\n",
    "               [0.001, 0.1],\n",
    "               [0.1, 10],\n",
    "               [10, 1e4]]\n",
    "}\n",
    "\n",
    "vals = saltelli.sample(problem, 64)\n",
    "Y = np.zeros((len(vals), len(t)))\n",
    "\n",
    "for i in range(len(vals)):\n",
    "    params = vals[i]\n",
    "    alpha = params[0]\n",
    "    K = params[1]\n",
    "    beta1 = params[2]\n",
    "    beta2 = params[3]\n",
    "    C1star = params[4]\n",
    "    alpha1 = params[5]\n",
    "    K1 = params[6]\n",
    "    K2 = params[7]\n",
    "    l1 = params[8]\n",
    "    l2 = params[9]\n",
    "    gamma1 = params[10]\n",
    "    gamma2 = params[11]\n",
    "    b1 = params[12]\n",
    "    b2 = params[13]\n",
    "    mu1 = params[14]\n",
    "\n",
    "    z = solve_ivp(model, t_span, z0, method='Radau', t_eval=t, args = (alpha, K, beta1, beta2, C1star, \n",
    "          alpha1, K1, K2, l1, l2, gamma1, gamma2, b1, b2, mu1))\n",
    "    \n",
    "    Tu = z.y[0]\n",
    "    \n",
    "    Y[i] = Tu \n"
   ]
  },
  {
   "cell_type": "code",
   "execution_count": 25,
   "metadata": {},
   "outputs": [
    {
     "name": "stdout",
     "output_type": "stream",
     "text": [
      "2048\n"
     ]
    }
   ],
   "source": [
    "print(len(vals))"
   ]
  },
  {
   "cell_type": "code",
   "execution_count": 21,
   "metadata": {},
   "outputs": [
    {
     "ename": "ValueError",
     "evalue": "could not broadcast input array from shape (64,1000) into shape (64000,)",
     "output_type": "error",
     "traceback": [
      "\u001b[0;31m---------------------------------------------------------------------------\u001b[0m",
      "\u001b[0;31mValueError\u001b[0m                                Traceback (most recent call last)",
      "\u001b[1;32m/Users/lukeheirene/ADCC-Project/2ov_sensiv_analysis.ipynb Cell 5\u001b[0m in \u001b[0;36m<cell line: 1>\u001b[0;34m()\u001b[0m\n\u001b[0;32m----> <a href='vscode-notebook-cell:/Users/lukeheirene/ADCC-Project/2ov_sensiv_analysis.ipynb#W5sZmlsZQ%3D%3D?line=0'>1</a>\u001b[0m Indicies \u001b[39m=\u001b[39m sobol\u001b[39m.\u001b[39;49manalyze(problem, Y, print_to_console\u001b[39m=\u001b[39;49m\u001b[39mTrue\u001b[39;49;00m)\n",
      "File \u001b[0;32m/opt/homebrew/lib/python3.10/site-packages/SALib/analyze/sobol.py:98\u001b[0m, in \u001b[0;36manalyze\u001b[0;34m(problem, Y, calc_second_order, num_resamples, conf_level, print_to_console, parallel, n_processors, keep_resamples, seed)\u001b[0m\n\u001b[1;32m     95\u001b[0m \u001b[39m# normalize the model output\u001b[39;00m\n\u001b[1;32m     96\u001b[0m Y \u001b[39m=\u001b[39m (Y \u001b[39m-\u001b[39m Y\u001b[39m.\u001b[39mmean()) \u001b[39m/\u001b[39m Y\u001b[39m.\u001b[39mstd()\n\u001b[0;32m---> 98\u001b[0m A, B, AB, BA \u001b[39m=\u001b[39m separate_output_values(Y, D, N, calc_second_order)\n\u001b[1;32m     99\u001b[0m r \u001b[39m=\u001b[39m rng(N, size\u001b[39m=\u001b[39m(N, num_resamples))\n\u001b[1;32m    100\u001b[0m Z \u001b[39m=\u001b[39m norm\u001b[39m.\u001b[39mppf(\u001b[39m0.5\u001b[39m \u001b[39m+\u001b[39m conf_level \u001b[39m/\u001b[39m \u001b[39m2\u001b[39m)\n",
      "File \u001b[0;32m/opt/homebrew/lib/python3.10/site-packages/SALib/analyze/sobol.py:206\u001b[0m, in \u001b[0;36mseparate_output_values\u001b[0;34m(Y, D, N, calc_second_order)\u001b[0m\n\u001b[1;32m    204\u001b[0m B \u001b[39m=\u001b[39m Y[(step \u001b[39m-\u001b[39m \u001b[39m1\u001b[39m):Y\u001b[39m.\u001b[39msize:step]\n\u001b[1;32m    205\u001b[0m \u001b[39mfor\u001b[39;00m j \u001b[39min\u001b[39;00m \u001b[39mrange\u001b[39m(D):\n\u001b[0;32m--> 206\u001b[0m     AB[:, j] \u001b[39m=\u001b[39m Y[(j \u001b[39m+\u001b[39m \u001b[39m1\u001b[39m):Y\u001b[39m.\u001b[39msize:step]\n\u001b[1;32m    207\u001b[0m     \u001b[39mif\u001b[39;00m calc_second_order:\n\u001b[1;32m    208\u001b[0m         BA[:, j] \u001b[39m=\u001b[39m Y[(j \u001b[39m+\u001b[39m \u001b[39m1\u001b[39m \u001b[39m+\u001b[39m D):Y\u001b[39m.\u001b[39msize:step]\n",
      "\u001b[0;31mValueError\u001b[0m: could not broadcast input array from shape (64,1000) into shape (64000,)"
     ]
    }
   ],
   "source": [
    "Indicies = sobol.analyze(problem, Y, print_to_console=True)"
   ]
  }
 ],
 "metadata": {
  "kernelspec": {
   "display_name": "Python 3",
   "language": "python",
   "name": "python3"
  },
  "language_info": {
   "codemirror_mode": {
    "name": "ipython",
    "version": 3
   },
   "file_extension": ".py",
   "mimetype": "text/x-python",
   "name": "python",
   "nbconvert_exporter": "python",
   "pygments_lexer": "ipython3",
   "version": "3.10.11"
  },
  "orig_nbformat": 4
 },
 "nbformat": 4,
 "nbformat_minor": 2
}
