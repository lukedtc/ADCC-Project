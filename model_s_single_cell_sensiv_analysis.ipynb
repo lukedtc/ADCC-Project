{
 "cells": [
  {
   "cell_type": "code",
   "execution_count": 39,
   "metadata": {},
   "outputs": [],
   "source": [
    "import numpy as np\n",
    "from scipy.integrate import solve_ivp\n",
    "from SALib.sample import saltelli\n",
    "from SALib.analyze import sobol\n",
    "import seaborn as sns\n",
    "import matplotlib.pyplot as plt\n",
    "import math\n",
    "from scipy.constants import N_A"
   ]
  },
  {
   "cell_type": "code",
   "execution_count": 40,
   "metadata": {},
   "outputs": [],
   "source": [
    "Target_cell_number = 2e5\n",
    "well_size = 150e-6\n",
    "r_ab = 1.25e-6 # in cm\n",
    "t_end = 60*60*10\n",
    "t = np.geomspace(1e-10, t_end, 20)\n",
    "tspan = [1e-10, t_end]\n",
    "z0 = [0, 0, 0]\n",
    "z01 = [0, 0]\n",
    "T_cell_radius = 5e-4 #cm\n",
    "T_cell_surface_area = 4*math.pi*((T_cell_radius)**2)\n",
    "reaction_volume = (2/3)*math.pi*((r_ab)**3)\n",
    "tumour_cell_radius = 8e-6\n",
    "tumour_cell_surface_area = 4*math.pi*((tumour_cell_radius)**2)"
   ]
  },
  {
   "cell_type": "code",
   "execution_count": 41,
   "metadata": {},
   "outputs": [
    {
     "data": {
      "text/plain": [
       "451660557000000.0"
      ]
     },
     "execution_count": 41,
     "metadata": {},
     "output_type": "execute_result"
    }
   ],
   "source": [
    "N_A*well_size/Target_cell_number"
   ]
  },
  {
   "cell_type": "code",
   "execution_count": 42,
   "metadata": {},
   "outputs": [],
   "source": [
    "def model_S_bispecific(t, z, Ainit, rtot1, rtot2, kon, kon1, k21, k22, koff1, koff2):\n",
    "    k = Ainit*kon\n",
    "    k1 = Ainit*kon1\n",
    "    Atot = well_size*N_A*Ainit/Target_cell_number\n",
    "    A0 = Atot - z[0] - z[1] - z[2]\n",
    "    Ag1 = rtot1 - z[0] - z[2]\n",
    "    Ag2 = rtot2 - z[1] - z[2]\n",
    "\n",
    "    dA10 = (k*(Ag1)*(A0)/rtot1) - koff1*z[0] - (k22*(Ag2)*z[0]/rtot2) + koff2*z[2]\n",
    "    dA01 = (k1*(Ag2)*(A0)/rtot2) - koff2*z[1] - (k21*(Ag1)*z[1]/rtot1) + koff1*z[2]\n",
    "    dA11 = (k22*(Ag2)*z[0]/rtot2) + (k21*(Ag1)*z[1]/rtot1) - (koff1 + koff2)*z[2]\n",
    "\n",
    "    return [dA10, dA01, dA11]\n",
    "\n",
    "def model_S_monospecific(t, z, Ainit, rtot, kon, k2, koff):\n",
    "     k = Ainit*kon\n",
    "     Atot = well_size*N_A*Ainit/Target_cell_number\n",
    "     A0 = Atot - z[0] - z[1] \n",
    "     Ag = rtot - z[0] - 2*z[1]\n",
    "\n",
    "     dA10 = 2*(k*Ag*A0/rtot) - koff*z[0] - (k2*Ag*z[0]/rtot) + 2*koff*z[1]\n",
    "     dA11 = (k2*Ag*z[0]/rtot) - 2*koff*z[1]\n",
    "\n",
    "     return [dA10, dA11]\n",
    "\n",
    "def solve_ode_monospecific(Ainit, rtot, kon, k2, koff):\n",
    "\n",
    "    z = solve_ivp(model_S_monospecific, tspan, z01, method='Radau', t_eval=t, args=(Ainit, rtot, kon, k2, koff))\n",
    "\n",
    "    A10 = z.y[0]\n",
    "    A11 = z.y[1]\n",
    "    A10_STST = A10[-1]\n",
    "    A11_STST = A11[-1]\n",
    "\n",
    "    Ag = (rtot - A10_STST - 2*A11_STST)/rtot\n",
    "    return Ag\n",
    "\n",
    "def solve_ode_bispecific(Ainit, rtot1, rtot2, kon1, kon2, k21, k22, koff1, koff2):\n",
    "\n",
    "    z = solve_ivp(model_S_bispecific, tspan, z0, method='Radau', t_eval=t, args=(Ainit, rtot1, rtot2, kon1, kon2, k21, k22, koff1, koff2))\n",
    "\n",
    "    A10 = z.y[0]\n",
    "    A01 = z.y[1]\n",
    "    A11 = z.y[2]\n",
    "    A10_STST = A10[-1]\n",
    "    A01_STST = A01[-1]\n",
    "    A11_STST = A11[-1]\n",
    "\n",
    "    Ag1 = (rtot1 - A10_STST - A11_STST)/rtot1\n",
    "    Ag2 = (rtot2 - A01_STST - A11_STST)/rtot2\n",
    "    Ab = 1 - (((rtot1 - A10_STST - A11_STST) + (rtot2 - A01_STST - A11_STST))/(rtot1 + rtot2))\n",
    "\n",
    "    return [Ag1, Ag2, Ab]\n"
   ]
  },
  {
   "cell_type": "code",
   "execution_count": 43,
   "metadata": {},
   "outputs": [
    {
     "ename": "ValueError",
     "evalue": "operands could not be broadcast together with shapes (32768,3) (4,) (32768,3) ",
     "output_type": "error",
     "traceback": [
      "\u001b[0;31m---------------------------------------------------------------------------\u001b[0m",
      "\u001b[0;31mValueError\u001b[0m                                Traceback (most recent call last)",
      "\u001b[1;32m/Users/lukeheirene/ADCC-Project/model_s_single_cell_sensiv_analysis.ipynb Cell 5\u001b[0m in \u001b[0;36m<cell line: 33>\u001b[0;34m()\u001b[0m\n\u001b[1;32m     <a href='vscode-notebook-cell:/Users/lukeheirene/ADCC-Project/model_s_single_cell_sensiv_analysis.ipynb#W4sZmlsZQ%3D%3D?line=13'>14</a>\u001b[0m problem1 \u001b[39m=\u001b[39m {\n\u001b[1;32m     <a href='vscode-notebook-cell:/Users/lukeheirene/ADCC-Project/model_s_single_cell_sensiv_analysis.ipynb#W4sZmlsZQ%3D%3D?line=14'>15</a>\u001b[0m     \u001b[39m'\u001b[39m\u001b[39mnum_vars\u001b[39m\u001b[39m'\u001b[39m: \u001b[39m4\u001b[39m,\n\u001b[1;32m     <a href='vscode-notebook-cell:/Users/lukeheirene/ADCC-Project/model_s_single_cell_sensiv_analysis.ipynb#W4sZmlsZQ%3D%3D?line=15'>16</a>\u001b[0m     \u001b[39m'\u001b[39m\u001b[39mnames\u001b[39m\u001b[39m'\u001b[39m: [\u001b[39m'\u001b[39m\u001b[39mrtot\u001b[39m\u001b[39m'\u001b[39m, \u001b[39m'\u001b[39m\u001b[39mkon\u001b[39m\u001b[39m'\u001b[39m, \u001b[39m'\u001b[39m\u001b[39mk2\u001b[39m\u001b[39m'\u001b[39m, \u001b[39m'\u001b[39m\u001b[39mkoff\u001b[39m\u001b[39m'\u001b[39m,],\n\u001b[0;32m   (...)\u001b[0m\n\u001b[1;32m     <a href='vscode-notebook-cell:/Users/lukeheirene/ADCC-Project/model_s_single_cell_sensiv_analysis.ipynb#W4sZmlsZQ%3D%3D?line=19'>20</a>\u001b[0m                [\u001b[39m1e-6\u001b[39m, \u001b[39m1e-1\u001b[39m]]\n\u001b[1;32m     <a href='vscode-notebook-cell:/Users/lukeheirene/ADCC-Project/model_s_single_cell_sensiv_analysis.ipynb#W4sZmlsZQ%3D%3D?line=20'>21</a>\u001b[0m }\n\u001b[1;32m     <a href='vscode-notebook-cell:/Users/lukeheirene/ADCC-Project/model_s_single_cell_sensiv_analysis.ipynb#W4sZmlsZQ%3D%3D?line=22'>23</a>\u001b[0m problem2 \u001b[39m=\u001b[39m {\n\u001b[1;32m     <a href='vscode-notebook-cell:/Users/lukeheirene/ADCC-Project/model_s_single_cell_sensiv_analysis.ipynb#W4sZmlsZQ%3D%3D?line=23'>24</a>\u001b[0m     \u001b[39m'\u001b[39m\u001b[39mnum_vars\u001b[39m\u001b[39m'\u001b[39m: \u001b[39m3\u001b[39m,\n\u001b[1;32m     <a href='vscode-notebook-cell:/Users/lukeheirene/ADCC-Project/model_s_single_cell_sensiv_analysis.ipynb#W4sZmlsZQ%3D%3D?line=24'>25</a>\u001b[0m     \u001b[39m'\u001b[39m\u001b[39mnames\u001b[39m\u001b[39m'\u001b[39m: [\u001b[39m'\u001b[39m\u001b[39mkon\u001b[39m\u001b[39m'\u001b[39m, \u001b[39m'\u001b[39m\u001b[39mk2\u001b[39m\u001b[39m'\u001b[39m, \u001b[39m'\u001b[39m\u001b[39mkoff\u001b[39m\u001b[39m'\u001b[39m,],\n\u001b[0;32m   (...)\u001b[0m\n\u001b[1;32m     <a href='vscode-notebook-cell:/Users/lukeheirene/ADCC-Project/model_s_single_cell_sensiv_analysis.ipynb#W4sZmlsZQ%3D%3D?line=28'>29</a>\u001b[0m                [\u001b[39m1e-6\u001b[39m, \u001b[39m1e-1\u001b[39m]]\n\u001b[1;32m     <a href='vscode-notebook-cell:/Users/lukeheirene/ADCC-Project/model_s_single_cell_sensiv_analysis.ipynb#W4sZmlsZQ%3D%3D?line=29'>30</a>\u001b[0m }\n\u001b[0;32m---> <a href='vscode-notebook-cell:/Users/lukeheirene/ADCC-Project/model_s_single_cell_sensiv_analysis.ipynb#W4sZmlsZQ%3D%3D?line=32'>33</a>\u001b[0m vals \u001b[39m=\u001b[39m saltelli\u001b[39m.\u001b[39;49msample(problem2, \u001b[39m4096\u001b[39;49m)\n\u001b[1;32m     <a href='vscode-notebook-cell:/Users/lukeheirene/ADCC-Project/model_s_single_cell_sensiv_analysis.ipynb#W4sZmlsZQ%3D%3D?line=33'>34</a>\u001b[0m Y_ag1 \u001b[39m=\u001b[39m np\u001b[39m.\u001b[39mzeros(\u001b[39mlen\u001b[39m(vals))\n\u001b[1;32m     <a href='vscode-notebook-cell:/Users/lukeheirene/ADCC-Project/model_s_single_cell_sensiv_analysis.ipynb#W4sZmlsZQ%3D%3D?line=34'>35</a>\u001b[0m Y_ag2 \u001b[39m=\u001b[39m np\u001b[39m.\u001b[39mzeros(\u001b[39mlen\u001b[39m(vals))\n",
      "File \u001b[0;32m/opt/homebrew/lib/python3.10/site-packages/SALib/sample/saltelli.py:183\u001b[0m, in \u001b[0;36msample\u001b[0;34m(problem, N, calc_second_order, skip_values)\u001b[0m\n\u001b[1;32m    179\u001b[0m         saltelli_sequence[index, j] \u001b[39m=\u001b[39m base_sequence[i, j \u001b[39m+\u001b[39m D]\n\u001b[1;32m    181\u001b[0m     index \u001b[39m+\u001b[39m\u001b[39m=\u001b[39m \u001b[39m1\u001b[39m\n\u001b[0;32m--> 183\u001b[0m saltelli_sequence \u001b[39m=\u001b[39m scale_samples(saltelli_sequence, problem)\n\u001b[1;32m    184\u001b[0m \u001b[39mreturn\u001b[39;00m saltelli_sequence\n",
      "File \u001b[0;32m/opt/homebrew/lib/python3.10/site-packages/SALib/util/__init__.py:73\u001b[0m, in \u001b[0;36mscale_samples\u001b[0;34m(params, problem)\u001b[0m\n\u001b[1;32m     70\u001b[0m dists \u001b[39m=\u001b[39m problem\u001b[39m.\u001b[39mget(\u001b[39m'\u001b[39m\u001b[39mdists\u001b[39m\u001b[39m'\u001b[39m)\n\u001b[1;32m     72\u001b[0m \u001b[39mif\u001b[39;00m dists \u001b[39mis\u001b[39;00m \u001b[39mNone\u001b[39;00m:\n\u001b[0;32m---> 73\u001b[0m     _scale_samples(params, bounds)\n\u001b[1;32m     74\u001b[0m \u001b[39melse\u001b[39;00m:\n\u001b[1;32m     75\u001b[0m     \u001b[39mif\u001b[39;00m params\u001b[39m.\u001b[39mshape[\u001b[39m1\u001b[39m] \u001b[39m!=\u001b[39m \u001b[39mlen\u001b[39m(dists):\n",
      "File \u001b[0;32m/opt/homebrew/lib/python3.10/site-packages/SALib/util/__init__.py:44\u001b[0m, in \u001b[0;36m_scale_samples\u001b[0;34m(params, bounds)\u001b[0m\n\u001b[1;32m     38\u001b[0m     \u001b[39mraise\u001b[39;00m \u001b[39mValueError\u001b[39;00m(\u001b[39m\"\u001b[39m\u001b[39mBounds are not legal (upper bound must be greater than lower bound)\u001b[39m\u001b[39m\"\u001b[39m)\n\u001b[1;32m     40\u001b[0m \u001b[39m# This scales the samples in-place, by using the optional output\u001b[39;00m\n\u001b[1;32m     41\u001b[0m \u001b[39m# argument for the numpy ufunctions\u001b[39;00m\n\u001b[1;32m     42\u001b[0m \u001b[39m# The calculation is equivalent to:\u001b[39;00m\n\u001b[1;32m     43\u001b[0m \u001b[39m#   sample * (upper_bound - lower_bound) + lower_bound\u001b[39;00m\n\u001b[0;32m---> 44\u001b[0m np\u001b[39m.\u001b[39madd(np\u001b[39m.\u001b[39;49mmultiply(params,\n\u001b[1;32m     45\u001b[0m                    (upper_bounds \u001b[39m-\u001b[39;49m lower_bounds),\n\u001b[1;32m     46\u001b[0m                    out\u001b[39m=\u001b[39;49mparams),\n\u001b[1;32m     47\u001b[0m        lower_bounds,\n\u001b[1;32m     48\u001b[0m        out\u001b[39m=\u001b[39mparams)\n",
      "\u001b[0;31mValueError\u001b[0m: operands could not be broadcast together with shapes (32768,3) (4,) (32768,3) "
     ]
    }
   ],
   "source": [
    "problem = {\n",
    "    'num_vars': 8,\n",
    "    'names': ['rtot1', 'rtot2', 'kon1', 'kon2', 'k21', 'k22', 'koff1', 'koff2'],\n",
    "    'bounds': [[1e3, 1e7],\n",
    "               [1e3, 1e7],\n",
    "               [1e4, 1e6],\n",
    "               [1e4, 1e6],\n",
    "               [1e3, 1e7],\n",
    "               [1e3, 1e7],\n",
    "               [1e-6, 1e-1],\n",
    "               [1e-6, 1e-1]]\n",
    "}\n",
    "\n",
    "problem1 = {\n",
    "    'num_vars': 4,\n",
    "    'names': ['rtot', 'kon', 'k2', 'koff',],\n",
    "    'bounds': [[1e3, 1e7],\n",
    "               [1e4, 1e6],\n",
    "               [1e3, 1e7],\n",
    "               [1e-6, 1e-1]]\n",
    "}\n",
    "\n",
    "problem2 = {\n",
    "    'num_vars': 3,\n",
    "    'names': ['kon', 'k2', 'koff',],\n",
    "    'bounds': [[1e3, 1e7],\n",
    "               [1e4, 1e6],\n",
    "               [1e-6, 1e-1]]\n",
    "}\n",
    "\n",
    "\n",
    "vals = saltelli.sample(problem2, 4096)\n",
    "Y_ag1 = np.zeros(len(vals))\n",
    "Y_ag2 = np.zeros(len(vals))\n",
    "Y_ab = np.zeros(len(vals))\n",
    "indicies_ag1 = []\n",
    "indicies_ag2 = []\n",
    "indicies_ab = []\n",
    "A0s = [1e-12, 1e-11, 1e-10, 1e-9, 1e-8, 1e-7, 1e-6, 1e-5]\n",
    "Y = np.zeros(len(vals))\n",
    "indicies = []\n",
    "indicies_1 = []"
   ]
  },
  {
   "cell_type": "code",
   "execution_count": null,
   "metadata": {},
   "outputs": [
    {
     "data": {
      "text/plain": [
       "4096"
      ]
     },
     "execution_count": 32,
     "metadata": {},
     "output_type": "execute_result"
    }
   ],
   "source": [
    "2**12"
   ]
  },
  {
   "cell_type": "code",
   "execution_count": null,
   "metadata": {},
   "outputs": [
    {
     "ename": "KeyboardInterrupt",
     "evalue": "",
     "output_type": "error",
     "traceback": [
      "\u001b[0;31m---------------------------------------------------------------------------\u001b[0m",
      "\u001b[0;31mKeyboardInterrupt\u001b[0m                         Traceback (most recent call last)",
      "\u001b[1;32m/Users/lukeheirene/ADCC-Project/model_s_single_cell_sensiv_analysis.ipynb Cell 7\u001b[0m in \u001b[0;36m<cell line: 1>\u001b[0;34m()\u001b[0m\n\u001b[1;32m     <a href='vscode-notebook-cell:/Users/lukeheirene/ADCC-Project/model_s_single_cell_sensiv_analysis.ipynb#W6sZmlsZQ%3D%3D?line=20'>21</a>\u001b[0m     k2 \u001b[39m=\u001b[39m params[\u001b[39m1\u001b[39m]\n\u001b[1;32m     <a href='vscode-notebook-cell:/Users/lukeheirene/ADCC-Project/model_s_single_cell_sensiv_analysis.ipynb#W6sZmlsZQ%3D%3D?line=21'>22</a>\u001b[0m     koff \u001b[39m=\u001b[39m params[\u001b[39m2\u001b[39m]\n\u001b[0;32m---> <a href='vscode-notebook-cell:/Users/lukeheirene/ADCC-Project/model_s_single_cell_sensiv_analysis.ipynb#W6sZmlsZQ%3D%3D?line=23'>24</a>\u001b[0m     sols \u001b[39m=\u001b[39m solve_ode_monospecific(Ainit, rtot, kon, k2, koff)\n\u001b[1;32m     <a href='vscode-notebook-cell:/Users/lukeheirene/ADCC-Project/model_s_single_cell_sensiv_analysis.ipynb#W6sZmlsZQ%3D%3D?line=24'>25</a>\u001b[0m     Y[i] \u001b[39m=\u001b[39m sols\n\u001b[1;32m     <a href='vscode-notebook-cell:/Users/lukeheirene/ADCC-Project/model_s_single_cell_sensiv_analysis.ipynb#W6sZmlsZQ%3D%3D?line=26'>27</a>\u001b[0m Si \u001b[39m=\u001b[39m sobol\u001b[39m.\u001b[39manalyze(problem2, Y)\n",
      "\u001b[1;32m/Users/lukeheirene/ADCC-Project/model_s_single_cell_sensiv_analysis.ipynb Cell 7\u001b[0m in \u001b[0;36msolve_ode_monospecific\u001b[0;34m(Ainit, rtot, kon, k2, koff)\u001b[0m\n\u001b[1;32m     <a href='vscode-notebook-cell:/Users/lukeheirene/ADCC-Project/model_s_single_cell_sensiv_analysis.ipynb#W6sZmlsZQ%3D%3D?line=25'>26</a>\u001b[0m \u001b[39mdef\u001b[39;00m \u001b[39msolve_ode_monospecific\u001b[39m(Ainit, rtot, kon, k2, koff):\n\u001b[0;32m---> <a href='vscode-notebook-cell:/Users/lukeheirene/ADCC-Project/model_s_single_cell_sensiv_analysis.ipynb#W6sZmlsZQ%3D%3D?line=27'>28</a>\u001b[0m     z \u001b[39m=\u001b[39m solve_ivp(model_S_monospecific, tspan, z01, method\u001b[39m=\u001b[39;49m\u001b[39m'\u001b[39;49m\u001b[39mRadau\u001b[39;49m\u001b[39m'\u001b[39;49m, t_eval\u001b[39m=\u001b[39;49mt, args\u001b[39m=\u001b[39;49m(Ainit, rtot, kon, k2, koff))\n\u001b[1;32m     <a href='vscode-notebook-cell:/Users/lukeheirene/ADCC-Project/model_s_single_cell_sensiv_analysis.ipynb#W6sZmlsZQ%3D%3D?line=29'>30</a>\u001b[0m     A10 \u001b[39m=\u001b[39m z\u001b[39m.\u001b[39my[\u001b[39m0\u001b[39m]\n\u001b[1;32m     <a href='vscode-notebook-cell:/Users/lukeheirene/ADCC-Project/model_s_single_cell_sensiv_analysis.ipynb#W6sZmlsZQ%3D%3D?line=30'>31</a>\u001b[0m     A11 \u001b[39m=\u001b[39m z\u001b[39m.\u001b[39my[\u001b[39m1\u001b[39m]\n",
      "File \u001b[0;32m/opt/homebrew/lib/python3.10/site-packages/scipy/integrate/_ivp/ivp.py:576\u001b[0m, in \u001b[0;36msolve_ivp\u001b[0;34m(fun, t_span, y0, method, t_eval, dense_output, events, vectorized, args, **options)\u001b[0m\n\u001b[1;32m    574\u001b[0m status \u001b[39m=\u001b[39m \u001b[39mNone\u001b[39;00m\n\u001b[1;32m    575\u001b[0m \u001b[39mwhile\u001b[39;00m status \u001b[39mis\u001b[39;00m \u001b[39mNone\u001b[39;00m:\n\u001b[0;32m--> 576\u001b[0m     message \u001b[39m=\u001b[39m solver\u001b[39m.\u001b[39;49mstep()\n\u001b[1;32m    578\u001b[0m     \u001b[39mif\u001b[39;00m solver\u001b[39m.\u001b[39mstatus \u001b[39m==\u001b[39m \u001b[39m'\u001b[39m\u001b[39mfinished\u001b[39m\u001b[39m'\u001b[39m:\n\u001b[1;32m    579\u001b[0m         status \u001b[39m=\u001b[39m \u001b[39m0\u001b[39m\n",
      "File \u001b[0;32m/opt/homebrew/lib/python3.10/site-packages/scipy/integrate/_ivp/base.py:181\u001b[0m, in \u001b[0;36mOdeSolver.step\u001b[0;34m(self)\u001b[0m\n\u001b[1;32m    179\u001b[0m \u001b[39melse\u001b[39;00m:\n\u001b[1;32m    180\u001b[0m     t \u001b[39m=\u001b[39m \u001b[39mself\u001b[39m\u001b[39m.\u001b[39mt\n\u001b[0;32m--> 181\u001b[0m     success, message \u001b[39m=\u001b[39m \u001b[39mself\u001b[39;49m\u001b[39m.\u001b[39;49m_step_impl()\n\u001b[1;32m    183\u001b[0m     \u001b[39mif\u001b[39;00m \u001b[39mnot\u001b[39;00m success:\n\u001b[1;32m    184\u001b[0m         \u001b[39mself\u001b[39m\u001b[39m.\u001b[39mstatus \u001b[39m=\u001b[39m \u001b[39m'\u001b[39m\u001b[39mfailed\u001b[39m\u001b[39m'\u001b[39m\n",
      "File \u001b[0;32m/opt/homebrew/lib/python3.10/site-packages/scipy/integrate/_ivp/radau.py:447\u001b[0m, in \u001b[0;36mRadau._step_impl\u001b[0;34m(self)\u001b[0m\n\u001b[1;32m    444\u001b[0m     LU_real \u001b[39m=\u001b[39m \u001b[39mself\u001b[39m\u001b[39m.\u001b[39mlu(MU_REAL \u001b[39m/\u001b[39m h \u001b[39m*\u001b[39m \u001b[39mself\u001b[39m\u001b[39m.\u001b[39mI \u001b[39m-\u001b[39m J)\n\u001b[1;32m    445\u001b[0m     LU_complex \u001b[39m=\u001b[39m \u001b[39mself\u001b[39m\u001b[39m.\u001b[39mlu(MU_COMPLEX \u001b[39m/\u001b[39m h \u001b[39m*\u001b[39m \u001b[39mself\u001b[39m\u001b[39m.\u001b[39mI \u001b[39m-\u001b[39m J)\n\u001b[0;32m--> 447\u001b[0m converged, n_iter, Z, rate \u001b[39m=\u001b[39m solve_collocation_system(\n\u001b[1;32m    448\u001b[0m     \u001b[39mself\u001b[39;49m\u001b[39m.\u001b[39;49mfun, t, y, h, Z0, scale, \u001b[39mself\u001b[39;49m\u001b[39m.\u001b[39;49mnewton_tol,\n\u001b[1;32m    449\u001b[0m     LU_real, LU_complex, \u001b[39mself\u001b[39;49m\u001b[39m.\u001b[39;49msolve_lu)\n\u001b[1;32m    451\u001b[0m \u001b[39mif\u001b[39;00m \u001b[39mnot\u001b[39;00m converged:\n\u001b[1;32m    452\u001b[0m     \u001b[39mif\u001b[39;00m current_jac:\n",
      "File \u001b[0;32m/opt/homebrew/lib/python3.10/site-packages/scipy/integrate/_ivp/radau.py:130\u001b[0m, in \u001b[0;36msolve_collocation_system\u001b[0;34m(fun, t, y, h, Z0, scale, tol, LU_real, LU_complex, solve_lu)\u001b[0m\n\u001b[1;32m    126\u001b[0m W \u001b[39m+\u001b[39m\u001b[39m=\u001b[39m dW\n\u001b[1;32m    127\u001b[0m Z \u001b[39m=\u001b[39m T\u001b[39m.\u001b[39mdot(W)\n\u001b[1;32m    129\u001b[0m \u001b[39mif\u001b[39;00m (dW_norm \u001b[39m==\u001b[39m \u001b[39m0\u001b[39m \u001b[39mor\u001b[39;00m\n\u001b[0;32m--> 130\u001b[0m         rate \u001b[39mis\u001b[39;00m \u001b[39mnot\u001b[39;00m \u001b[39mNone\u001b[39;00m \u001b[39mand\u001b[39;00m rate \u001b[39m/\u001b[39m (\u001b[39m1\u001b[39m \u001b[39m-\u001b[39m rate) \u001b[39m*\u001b[39m dW_norm \u001b[39m<\u001b[39m tol):\n\u001b[1;32m    131\u001b[0m     converged \u001b[39m=\u001b[39m \u001b[39mTrue\u001b[39;00m\n\u001b[1;32m    132\u001b[0m     \u001b[39mbreak\u001b[39;00m\n",
      "\u001b[0;31mKeyboardInterrupt\u001b[0m: "
     ]
    }
   ],
   "source": [
    "for Ainit in A0s:\n",
    "    for i, params in enumerate(vals):\n",
    "        \"\"\"\n",
    "        rtot1 = params[0]\n",
    "        rtot2 = params[1]\n",
    "        kon1 = params[2]\n",
    "        kon2 = params[3]\n",
    "        k21 = params[4]\n",
    "        k22 = params[5]\n",
    "        koff1 = params[6]\n",
    "        koff2 = params[7]\n",
    "        \n",
    "        sols = solve_ode_bispecific(Ainit, rtot1, rtot2, kon1, kon2, k21, k22, koff1, koff2)\n",
    "        \n",
    "        Y_ag1[i] = sols[0]\n",
    "        Y_ag2[i] = sols[1]\n",
    "        Y_ab[i] = sols[2]\n",
    "        \"\"\"\n",
    "        rtot = 1000\n",
    "        kon = params[0]\n",
    "        k2 = params[1]\n",
    "        koff = params[2]\n",
    "\n",
    "        sols = solve_ode_monospecific(Ainit, rtot, kon, k2, koff)\n",
    "        Y[i] = sols\n",
    "    \n",
    "    Si = sobol.analyze(problem2, Y)\n",
    "    indicies.append(Si['S1'])\n",
    "\n",
    "    \"\"\"\n",
    "    Si_ag1 = sobol.analyze(problem, Y_ag1)\n",
    "    Si_ag2 = sobol.analyze(problem, Y_ag2)\n",
    "    Si_ab = sobol.analyze(problem, Y_ab)\n",
    "    indicies_ag1.append(Si_ag1['ST'])\n",
    "    indicies_ag2.append(Si_ag2['ST'])\n",
    "    indicies_ab.append(Si_ab['ST'])\n",
    "    \"\"\""
   ]
  },
  {
   "cell_type": "code",
   "execution_count": null,
   "metadata": {},
   "outputs": [
    {
     "data": {
      "text/plain": [
       "Text(0, 0.5, 'Total Order Sobol Indicies')"
      ]
     },
     "execution_count": 26,
     "metadata": {},
     "output_type": "execute_result"
    },
    {
     "data": {
      "image/png": "[encoded data removed]",
      "text/plain": [
       "<Figure size 1200x800 with 1 Axes>"
      ]
     },
     "metadata": {},
     "output_type": "display_data"
    }
   ],
   "source": [
    "kon1_si = np.zeros(len(A0s))\n",
    "koff1_si = np.zeros(len(A0s))\n",
    "kon2_si = np.zeros(len(A0s))\n",
    "koff2_si = np.zeros(len(A0s))\n",
    "k21_si = np.zeros(len(A0s))\n",
    "k22_si = np.zeros(len(A0s))\n",
    "rtot1_si = np.zeros(len(A0s))\n",
    "rtot2_si = np.zeros(len(A0s))\n",
    "\n",
    "for i in range(len(indicies)):\n",
    "    vals = indicies[i]\n",
    "    kon1_si[i] = vals[0]\n",
    "    k21_si[i] = vals[1]\n",
    "    koff1_si[i] = vals[2]\n",
    "\n",
    "ab_conc = (r'$10^{-12}$', r'$10^{-11}$', r'$10^{-10}$', r'$10^{-9}$', r'$10^{-8}$', r'$10^{-7}$', r'$10^{-6}$', r'$10^{-5}$')\n",
    "\n",
    "param_indicies = {\n",
    "    r\"$k^{on}_1$\": kon1_si,\n",
    "    r\"$k^{2}_1$\": k21_si,\n",
    "    r\"$k^{off}_1$\": koff1_si,\n",
    "}\n",
    "\n",
    "sns.set_theme()\n",
    "\n",
    "width = 0.5\n",
    "fig, ax = plt.subplots(figsize=(12,8))\n",
    "bottom = np.zeros(8)\n",
    "\n",
    "for boolean, param_indicie in param_indicies.items():\n",
    "    p = ax.bar(ab_conc, param_indicie, width, label=boolean, bottom=bottom)\n",
    "    bottom += param_indicie\n",
    "\n",
    "ax.set_title('Model S Monopecific Antibody Binding Sobol Sensitivity Analysis')\n",
    "ax.legend(loc='best')\n",
    "ax.set_xlabel('Antibody Concentration (M)')\n",
    "ax.set_ylabel('Total Order Sobol Indicies')\n",
    "#plt.savefig('/Users/lukeheirene/ADCC-Project/Figures/model_s_bispecific_total_ab_sensiv_analysis.png')"
   ]
  }
 ],
 "metadata": {
  "kernelspec": {
   "display_name": "Python 3",
   "language": "python",
   "name": "python3"
  },
  "language_info": {
   "codemirror_mode": {
    "name": "ipython",
    "version": 3
   },
   "file_extension": ".py",
   "mimetype": "text/x-python",
   "name": "python",
   "nbconvert_exporter": "python",
   "pygments_lexer": "ipython3",
   "version": "3.10.9"
  },
  "orig_nbformat": 4
 },
 "nbformat": 4,
 "nbformat_minor": 2
}
