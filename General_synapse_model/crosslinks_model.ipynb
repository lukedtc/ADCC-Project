{
 "cells": [
  {
   "cell_type": "code",
   "execution_count": null,
   "metadata": {},
   "outputs": [],
   "source": [
    "import numpy as np\n",
    "from scipy.integrate import solve_ivp\n",
    "from scipy.optimize import fsolve\n",
    "from scipy.constants import N_A\n",
    "import matplotlib.pyplot as plt\n",
    "import seaborn as sns\n",
    "import math"
   ]
  },
  {
   "cell_type": "code",
   "execution_count": null,
   "metadata": {},
   "outputs": [],
   "source": [
    "#Constants\n",
    "\n",
    "Target_cell_number = 2e5\n",
    "E_T_ratio = 20\n",
    "well_size = 150e-6\n",
    "sigma = well_size*N_A/Target_cell_number\n",
    "synapse_gap = 25e-9\n",
    "synapse_width = 10e-6\n",
    "tumour_cell_radius = 8e-6\n",
    "tumour_cell_surface_area = 4*math.pi*((tumour_cell_radius)**2)\n",
    "tumour_cell_IS_proportion = (synapse_width**2)/(tumour_cell_surface_area)\n",
    "NK_cell_radius = 3.25e-6\n",
    "NK_cell_surface_area = 4*math.pi*((NK_cell_radius)**2)\n",
    "NK_cell_IS_proportion = (synapse_width**2)/NK_cell_surface_area\n",
    "assay_to_synapse_conversion = (synapse_width**2*synapse_gap)/well_size\n",
    "sigma_synapse = sigma*assay_to_synapse_conversion\n",
    "synapse_area = synapse_width**2"
   ]
  }
 ],
 "metadata": {
  "language_info": {
   "name": "python"
  },
  "orig_nbformat": 4
 },
 "nbformat": 4,
 "nbformat_minor": 2
}
