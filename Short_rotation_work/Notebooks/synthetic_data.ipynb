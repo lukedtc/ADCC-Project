{
 "cells": [
  {
   "cell_type": "code",
   "execution_count": 1,
   "metadata": {},
   "outputs": [],
   "source": [
    "import numpy as np\n",
    "from scipy.integrate import solve_ivp\n",
    "import pandas as pd"
   ]
  },
  {
   "cell_type": "markdown",
   "metadata": {},
   "source": [
    "Fixed Model Parameters"
   ]
  },
  {
   "cell_type": "code",
   "execution_count": 2,
   "metadata": {},
   "outputs": [],
   "source": [
    "alpha_1 = 3e-4\n",
    "alpha_2 = 1.2\n",
    "fk_max = 5\n",
    "R_k = 0.5\n",
    "v_1 = 1.2e2\n",
    "v_2 = 14.4 *1e-1\n",
    "#v_1_min = 0.5*v_1\n",
    "#v_1_max = 1.5*v_1\n",
    "#R_a = 0.3\n",
    " "
   ]
  },
  {
   "cell_type": "markdown",
   "metadata": {},
   "source": [
    "Kill Function and Dimensionless ODE Model"
   ]
  },
  {
   "cell_type": "code",
   "execution_count": 3,
   "metadata": {},
   "outputs": [],
   "source": [
    "def kill_function(R):\n",
    "     f = fk_max*(R/(R + R_k))\n",
    "\n",
    "     return f\n",
    "\n",
    "def model(t, z, gamma, mu):\n",
    "\n",
    "    dAdt = -alpha_1*(1 - z[1])*z[0]*z[2] + alpha_2*gamma*z[1]*z[2]\n",
    "    dRdt = (alpha_1/gamma)*(1 - z[1])*z[0] - alpha_2*z[1]\n",
    "    dSdt = -kill_function(z[1])*z[3]\n",
    "    dCdt = v_1*((mu/20) - z[3])*(z[2] - z[3]) - v_2*z[3] - kill_function(z[1])*z[3]\n",
    "    #dCdt = (v_1_min + (((z[1]**2)*(v_1_max - v_1_min))/(z[1]**2 + R_a**2)))*((mu/20) - z[3])*(z[2] - z[3]) - v_2*z[3] - kill_function(z[1])*z[3]\n",
    "    dzdt = [dAdt, dRdt, dSdt, dCdt]\n",
    "\n",
    "    return dzdt"
   ]
  },
  {
   "cell_type": "markdown",
   "metadata": {},
   "source": [
    "ICs and Simulation Parameters"
   ]
  },
  {
   "cell_type": "code",
   "execution_count": 4,
   "metadata": {},
   "outputs": [],
   "source": [
    "z0 = [1, 0, 1, 0] \n",
    "t = np.arange(0, 1.1, 0.1)\n",
    "t_span = [0, 1]\n",
    "mu_vals = [1.25, 2.5, 5, 10, 20]\n",
    "gamma_vals = [1, 1e-1, 1e-2, 1e-3, 1e-4, 1e-5, 1e-6]\n",
    "noise_vals = [0.01, 0.05, 0.1, 0.2]"
   ]
  },
  {
   "cell_type": "markdown",
   "metadata": {},
   "source": [
    "Create Dataframe"
   ]
  },
  {
   "cell_type": "code",
   "execution_count": 5,
   "metadata": {},
   "outputs": [],
   "source": [
    "df = pd.DataFrame(columns=['t', 'mu', 'gamma', 'noise level', 'A', 'R', 'S', 'C'])\n"
   ]
  },
  {
   "cell_type": "code",
   "execution_count": 6,
   "metadata": {},
   "outputs": [],
   "source": [
    "\n",
    "for gamma in gamma_vals:\n",
    "    for mu in mu_vals:\n",
    "        for noise_level in noise_vals:\n",
    "            j=0\n",
    "            while j<10:\n",
    "                \n",
    "                z = solve_ivp(model, t_span, z0, args = (gamma, mu), method ='Radau', t_eval = t)\n",
    "\n",
    "                # add noise\n",
    "                A_array = z.y[0]\n",
    "                R_array = z.y[1]\n",
    "                S_array = z.y[2]\n",
    "                C_array = z.y[3]\n",
    "\n",
    "                for i in range(len(A_array)):\n",
    "                    A_array[i] = A_array[i]*(1 + np.random.uniform(-noise_level, noise_level))\n",
    "                    R_array[i] = R_array[i]*(1 + np.random.uniform(-noise_level, noise_level))\n",
    "                    S_array[i] = S_array[i]*(1 + np.random.uniform(-noise_level, noise_level))\n",
    "                    C_array[i] = C_array[i]*(1 + np.random.uniform(-noise_level, noise_level))\n",
    "\n",
    "                # add data to dataframe\n",
    "                for i in range(len(A_array)):\n",
    "                    df = df.append({'t' : t[i],\n",
    "                                    'mu' : mu,\n",
    "                                    'gamma' : gamma,\n",
    "                                    'noise level' : noise_level,\n",
    "                                    'A' : A_array[i],\n",
    "                                    'R' : R_array[i],\n",
    "                                    'S' : S_array[i],\n",
    "                                    'C' : C_array[i]}, ignore_index=True)\n",
    "                \n",
    "                j += 1\n",
    "\n",
    "        "
   ]
  },
  {
   "cell_type": "code",
   "execution_count": 7,
   "metadata": {},
   "outputs": [
    {
     "name": "stdout",
     "output_type": "stream",
     "text": [
      "         t     mu     gamma  noise level         A         R         S  \\\n",
      "0      0.0   1.25  1.000000         0.01  1.008632  0.000000  1.003011   \n",
      "1      0.1   1.25  1.000000         0.01  1.000554  0.000028  1.008602   \n",
      "2      0.2   1.25  1.000000         0.01  0.995045  0.000053  1.008071   \n",
      "3      0.3   1.25  1.000000         0.01  0.991256  0.000075  1.008931   \n",
      "4      0.4   1.25  1.000000         0.01  1.002301  0.000095  0.997255   \n",
      "...    ...    ...       ...          ...       ...       ...       ...   \n",
      "15395  0.6  20.00  0.000001         0.20  1.192880  0.991283  0.142314   \n",
      "15396  0.7  20.00  0.000001         0.20  0.804617  1.133061  0.115207   \n",
      "15397  0.8  20.00  0.000001         0.20  1.143772  0.954852  0.094166   \n",
      "15398  0.9  20.00  0.000001         0.20  1.052254  0.878521  0.061302   \n",
      "15399  1.0  20.00  0.000001         0.20  1.140456  0.913857  0.047554   \n",
      "\n",
      "              C  \n",
      "0      0.000000  \n",
      "1      0.062041  \n",
      "2      0.061485  \n",
      "3      0.062138  \n",
      "4      0.061272  \n",
      "...         ...  \n",
      "15395  0.130351  \n",
      "15396  0.094909  \n",
      "15397  0.077702  \n",
      "15398  0.059680  \n",
      "15399  0.040114  \n",
      "\n",
      "[15400 rows x 8 columns]\n"
     ]
    }
   ],
   "source": [
    "print(df)"
   ]
  },
  {
   "cell_type": "markdown",
   "metadata": {},
   "source": [
    "Write Dataframe to CSV"
   ]
  },
  {
   "cell_type": "code",
   "execution_count": 8,
   "metadata": {},
   "outputs": [],
   "source": [
    "df.to_csv('/home/sabsr3/Rotations/ADCC/ADCC-Project/Data/basic_model_synthetic_data_Hill_v1.csv')"
   ]
  }
 ],
 "metadata": {
  "interpreter": {
   "hash": "916dbcbb3f70747c44a77c7bcd40155683ae19c65e1c03b4aa3499c5328201f1"
  },
  "kernelspec": {
   "display_name": "Python 3.8.10 64-bit",
   "language": "python",
   "name": "python3"
  },
  "language_info": {
   "codemirror_mode": {
    "name": "ipython",
    "version": 3
   },
   "file_extension": ".py",
   "mimetype": "text/x-python",
   "name": "python",
   "nbconvert_exporter": "python",
   "pygments_lexer": "ipython3",
   "version": "3.8.10"
  },
  "orig_nbformat": 4
 },
 "nbformat": 4,
 "nbformat_minor": 2
}
