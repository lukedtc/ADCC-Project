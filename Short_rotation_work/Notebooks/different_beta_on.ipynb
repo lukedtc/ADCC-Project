{
 "cells": [
  {
   "cell_type": "code",
   "execution_count": 40,
   "metadata": {},
   "outputs": [],
   "source": [
    "import numpy as np\n",
    "import matplotlib.pyplot as plt\n",
    "from scipy.integrate import solve_ivp"
   ]
  },
  {
   "cell_type": "code",
   "execution_count": 41,
   "metadata": {},
   "outputs": [],
   "source": [
    "t_0 = 1.44e4\n",
    "T_0 = 4.15e-16\n",
    "beta_on = 2e13\n",
    "low = 0.5*beta_on\n",
    "high = 1.5*beta_on"
   ]
  },
  {
   "cell_type": "code",
   "execution_count": 42,
   "metadata": {},
   "outputs": [],
   "source": [
    "beta = np.linspace(low, high, 100)\n",
    "v_1 = beta*t_0*T_0\n",
    "v_1_min = v_1[0]\n",
    "v_1_max = v_1[-1]"
   ]
  },
  {
   "cell_type": "markdown",
   "metadata": {},
   "source": [
    "Define parameters and model with different v1 functional forms "
   ]
  },
  {
   "cell_type": "code",
   "execution_count": 43,
   "metadata": {},
   "outputs": [],
   "source": [
    "alpha_1 = 1#3e-4\n",
    "alpha_2 = 1.2\n",
    "fk_max = 5\n",
    "R_k = 0.5\n",
    "v_1 = 1.2e2\n",
    "mus = [2, 10, 20]\n",
    "v_2 = 14.4 *1e-1"
   ]
  },
  {
   "cell_type": "code",
   "execution_count": 44,
   "metadata": {},
   "outputs": [],
   "source": [
    "def kill_function(R):\n",
    "     f = fk_max*(R/(R + R_k))\n",
    "\n",
    "     return f\n"
   ]
  },
  {
   "cell_type": "code",
   "execution_count": 45,
   "metadata": {},
   "outputs": [],
   "source": [
    "def model_normal_v_1(t, z, gamma, mu, v_1=v_1):\n",
    "\n",
    "    dAdt = -alpha_1*(1 - z[1])*z[0]*z[2] + alpha_2*gamma*z[1]*z[2]\n",
    "    dRdt = (alpha_1/gamma)*(1 - z[1])*z[0] - alpha_2*z[1]\n",
    "    dSdt = -kill_function(z[1])*z[3]\n",
    "    dCdt = v_1*((mu/20) - z[3])*(z[2] - z[3]) - v_2*z[3] - kill_function(z[1])*z[3]\n",
    "    dzdt = [dAdt, dRdt, dSdt, dCdt]\n",
    "\n",
    "    return dzdt"
   ]
  },
  {
   "cell_type": "code",
   "execution_count": 46,
   "metadata": {},
   "outputs": [],
   "source": [
    "def model_linear_v_1(t, z, gamma, mu):\n",
    "\n",
    "    dAdt = -alpha_1*(1 - z[1])*z[0]*z[2] + alpha_2*gamma*z[1]*z[2]\n",
    "    dRdt = (alpha_1/gamma)*(1 - z[1])*z[0] - alpha_2*z[1]\n",
    "    dSdt = -kill_function(z[1])*z[3]\n",
    "    dCdt = (v_1_min + z[1]*(v_1_max - v_1_min))*((mu/20) - z[3])*(z[2] - z[3]) - v_2*z[3] - kill_function(z[1])*z[3]\n",
    "    dzdt = [dAdt, dRdt, dSdt, dCdt]\n",
    "\n",
    "    return dzdt"
   ]
  },
  {
   "cell_type": "code",
   "execution_count": 47,
   "metadata": {},
   "outputs": [],
   "source": [
    "R_a = 0.3\n",
    "def model_Hill_v_1(t, z, gamma, mu):\n",
    "\n",
    "    dAdt = -alpha_1*(1 - z[1])*z[0]*z[2] + alpha_2*gamma*z[1]*z[2]\n",
    "    dRdt = (alpha_1/gamma)*(1 - z[1])*z[0] - alpha_2*z[1]\n",
    "    dSdt = -kill_function(z[1])*z[3]\n",
    "    dCdt = (v_1_min + (((z[1]**2)*(v_1_max - v_1_min))/(z[1]**2 + R_a**2)))*((mu/20) - z[3])*(z[2] - z[3]) - v_2*z[3] - kill_function(z[1])*z[3]\n",
    "    dzdt = [dAdt, dRdt, dSdt, dCdt]\n",
    "\n",
    "    return dzdt"
   ]
  },
  {
   "cell_type": "code",
   "execution_count": 48,
   "metadata": {},
   "outputs": [
    {
     "name": "stdout",
     "output_type": "stream",
     "text": [
      "59.76 179.28\n"
     ]
    }
   ],
   "source": [
    "print(v_1_min, v_1_max)"
   ]
  },
  {
   "cell_type": "markdown",
   "metadata": {},
   "source": [
    "Define function to solve for C and plot C for over time for different functional forms of v1"
   ]
  },
  {
   "cell_type": "code",
   "execution_count": 49,
   "metadata": {},
   "outputs": [],
   "source": [
    "z0 = [1, 0, 1, 0]\n",
    "t= np.geomspace(0.000001, 1, 10000)\n",
    "t_span = [0.000001, 1]\n",
    "\n",
    "\n",
    "\n",
    "def solve_for_C(model, gamma, mu):\n",
    "    z = solve_ivp(model, t_span, z0, args = (gamma, mu), method ='Radau', t_eval = t)\n",
    "    C = z.y[3]\n",
    "\n",
    "    return C"
   ]
  },
  {
   "cell_type": "code",
   "execution_count": 50,
   "metadata": {},
   "outputs": [
    {
     "data": {
      "image/png": "[encoded data removed]",
      "text/plain": [
       "<Figure size 432x288 with 1 Axes>"
      ]
     },
     "metadata": {
      "needs_background": "light"
     },
     "output_type": "display_data"
    }
   ],
   "source": [
    "\n",
    "for mu in mus:\n",
    "    c_sol = solve_for_C(model_normal_v_1, 1, mu)\n",
    "    plt.plot(np.log(t), c_sol, label = '$\\mu =$' + str(mu))\n",
    "    c_sol = solve_for_C(model_linear_v_1, 1, mu)\n",
    "    plt.plot(np.log(t), c_sol, label = '$\\mu =$' + str(mu) + ' linear')\n",
    "    c_sol = solve_for_C(model_Hill_v_1, 1, mu)\n",
    "    plt.plot(np.log(t), c_sol, label = '$\\mu =$' + str(mu) + ' hill')\n",
    "\n",
    "plt.legend()\n",
    "plt.title('$ \\gamma = 1$')\n",
    "plt.xlabel('log(t)')\n",
    "plt.ylabel('C(t)')\n",
    "plt.show()"
   ]
  },
  {
   "cell_type": "markdown",
   "metadata": {},
   "source": [
    "Sensitivity of kill percentage to conjugation rate v1"
   ]
  },
  {
   "cell_type": "code",
   "execution_count": 51,
   "metadata": {},
   "outputs": [],
   "source": [
    "v_1_array = np.linspace(v_1_min, v_1_max, 50)\n",
    "gammas = [1, 1e-3, 1e-6]\n",
    "z0 = [1, 0, 1, 0] \n",
    "t = np.arange(0, 1.1, 0.1)\n",
    "t_span = [0, 1]\n",
    "Kill_percents = []\n",
    "\n",
    "def solve_for_S(model, gamma, mu, v_1):\n",
    "    z = solve_ivp(model, t_span, z0, args = (gamma, mu, v_1), method ='Radau', t_eval = t)\n",
    "    S = z.y[2]\n",
    "\n",
    "    return S\n",
    "\n",
    "for gamma in gammas:\n",
    "    sol = []\n",
    "    for v_1 in v_1_array:\n",
    "        S_array = solve_for_S(model_normal_v_1, gamma, 10, v_1)\n",
    "        kill_val = 1 - (S_array[-1]/S_array[0])\n",
    "        sol.append(kill_val)\n",
    "    Kill_percents.append(sol)"
   ]
  },
  {
   "cell_type": "code",
   "execution_count": 52,
   "metadata": {},
   "outputs": [
    {
     "data": {
      "image/png": "[encoded data removed]",
      "text/plain": [
       "<Figure size 432x288 with 1 Axes>"
      ]
     },
     "metadata": {
      "needs_background": "light"
     },
     "output_type": "display_data"
    }
   ],
   "source": [
    "vals = Kill_percents[2]\n",
    "plt.plot(v_1_array, vals)\n",
    "plt.ylabel('Kill percentage')\n",
    "plt.xlabel('$ v_1 $')\n",
    "plt.vlines(120, np.min(vals), np.max(vals), 'r', label='$v_1 = 120$')\n",
    "plt.title('$\\gamma = 1, \\mu = 10$')\n",
    "plt.legend(loc='lower right')\n",
    "plt.show()"
   ]
  }
 ],
 "metadata": {
  "interpreter": {
   "hash": "916dbcbb3f70747c44a77c7bcd40155683ae19c65e1c03b4aa3499c5328201f1"
  },
  "kernelspec": {
   "display_name": "Python 3.8.10 64-bit",
   "language": "python",
   "name": "python3"
  },
  "language_info": {
   "codemirror_mode": {
    "name": "ipython",
    "version": 3
   },
   "file_extension": ".py",
   "mimetype": "text/x-python",
   "name": "python",
   "nbconvert_exporter": "python",
   "pygments_lexer": "ipython3",
   "version": "3.8.10"
  },
  "orig_nbformat": 4
 },
 "nbformat": 4,
 "nbformat_minor": 2
}
