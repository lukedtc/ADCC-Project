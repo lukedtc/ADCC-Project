{
 "cells": [
  {
   "cell_type": "code",
   "execution_count": 86,
   "metadata": {},
   "outputs": [],
   "source": [
    "from scipy.integrate import solve_ivp\n",
    "import numpy as np\n",
    "import matplotlib.pyplot as plt\n",
    "from SALib.sample import saltelli\n",
    "from SALib.analyze import sobol"
   ]
  },
  {
   "cell_type": "markdown",
   "metadata": {},
   "source": [
    "Definition of ODEs"
   ]
  },
  {
   "cell_type": "code",
   "execution_count": 87,
   "metadata": {},
   "outputs": [],
   "source": [
    "# set beforehand mu, gamma and kill function params\n",
    "mu = 10\n",
    "gamma = 1\n",
    "fk_max = 5\n",
    "R_k = 0.5\n",
    "\n",
    "\n",
    "def model(t, z, alpha_1, alpha_2, v_1, v_2):\n",
    "\n",
    "    dAdt = -alpha_1*(1 - z[1])*z[0]*z[2] + alpha_2*gamma*z[1]*z[2]\n",
    "    dRdt = (alpha_1/gamma)*(1 - z[1])*z[0] - alpha_2*z[1]\n",
    "    dSdt = -(fk_max*(z[1]/(z[1] + R_k)))*z[3]\n",
    "    dCdt = v_1*((mu/20) - z[3])*(z[2] - z[3]) - v_2*z[3] - (fk_max*(z[1]/(z[1] + R_k)))*z[3]\n",
    "    dzdt = [dAdt, dRdt, dSdt, dCdt]\n",
    "\n",
    "    return dzdt\n",
    "\n",
    "# default param values\n",
    "alpha_1 = 1e-3\n",
    "alpha_2 = 1.2\n",
    "v_1 = 1.2e2\n",
    "v_2 = 14.4 *1e-1\n",
    "\n",
    "# initial condition and time steps/span\n",
    "z0 = [1, 0, 1, 0]\n",
    "t= np.geomspace(0.000001, 1, 1000)\n",
    "t_span = [0.000001, 1]\n",
    "\n",
    "# exampple solution calculation\n",
    "z = solve_ivp(model, t_span, z0, args =(alpha_1, alpha_2, v_1, v_2), method ='Radau', t_eval = t)"
   ]
  },
  {
   "cell_type": "markdown",
   "metadata": {},
   "source": [
    "Sobol analysis"
   ]
  },
  {
   "cell_type": "code",
   "execution_count": 88,
   "metadata": {},
   "outputs": [],
   "source": [
    "problem = {\n",
    "    'num_vars': 4,\n",
    "    'names': ['alpha_1', 'alpha_2', 'v_1', 'v_2'],\n",
    "    'bounds': np.column_stack((np.array([5.8e-6/0.5, alpha_2, v_1, v_2])*0.5, np.array([5.8e2/1.5, alpha_2, v_1, v_2])*1.5))\n",
    "}\n",
    "\n",
    "# generate samples\n",
    "vals = saltelli.sample(problem, 1024)\n",
    "\n",
    "# initialize matrix to store output\n",
    "Y = np.zeros([len(vals), 4, 1000])\n",
    "\n",
    "# run model\n",
    "for i in range(len(vals)):\n",
    "    sol = solve_ivp(model, t_span, z0, args =(vals[i][0], vals[i][1], vals[i][2], vals[i][3]), method ='Radau', t_eval = t)\n",
    "    Y[i][0][:] = sol.y[0]\n",
    "    Y[i][1][:] = sol.y[1]\n",
    "    Y[i][2][:] = sol.y[2]\n",
    "    Y[i][3][:] = sol.y[3]"
   ]
  },
  {
   "cell_type": "code",
   "execution_count": 89,
   "metadata": {},
   "outputs": [
    {
     "name": "stdout",
     "output_type": "stream",
     "text": [
      "               ST   ST_conf\n",
      "alpha_1  0.928955  0.090504\n",
      "alpha_2  0.005341  0.005813\n",
      "v_1      0.074705  0.073459\n",
      "v_2      0.013093  0.012574\n",
      "               S1   S1_conf\n",
      "alpha_1  0.926101  0.749828\n",
      "alpha_2  0.001938  0.003190\n",
      "v_1      0.076077  0.067568\n",
      "v_2      0.006304  0.015279\n",
      "                          S2   S2_conf\n",
      "(alpha_1, alpha_2)  0.018399  1.484033\n",
      "(alpha_1, v_1)      0.005932  1.500327\n",
      "(alpha_1, v_2)      0.004148  1.471908\n",
      "(alpha_2, v_1)     -0.000607  0.003488\n",
      "(alpha_2, v_2)     -0.000491  0.003036\n",
      "(v_1, v_2)         -0.011783  0.034494\n"
     ]
    }
   ],
   "source": [
    "Si = sobol.analyze(problem, Y[:, 2, -1], print_to_console=True)\n"
   ]
  },
  {
   "cell_type": "markdown",
   "metadata": {},
   "source": [
    "Plot for sobolev indicies over time "
   ]
  },
  {
   "cell_type": "code",
   "execution_count": 90,
   "metadata": {},
   "outputs": [
    {
     "name": "stderr",
     "output_type": "stream",
     "text": [
      "/home/sabsr3/.local/lib/python3.8/site-packages/SALib/analyze/sobol.py:96: RuntimeWarning: invalid value encountered in true_divide\n",
      "  Y = (Y - Y.mean()) / Y.std()\n"
     ]
    }
   ],
   "source": [
    "alpha_1_sobol = np.zeros(500)\n",
    "alpha_2_sobol = np.zeros(500)\n",
    "v_1_sobol = np.zeros(500)\n",
    "v_2_sobol = np.zeros(500)\n",
    "\n",
    "# calculate total order sobol indicies for alpha_1 at each time step\n",
    "for i in range(len(alpha_1_sobol)):\n",
    "    Si = sobol.analyze(problem, Y[:, 2, i])\n",
    "    alpha_1_sobol[i] = Si['ST'][0]\n",
    "    alpha_2_sobol[i] = Si['ST'][1]\n",
    "    v_1_sobol[i] = Si['ST'][2]\n",
    "    v_2_sobol[i] = Si['ST'][3]"
   ]
  },
  {
   "cell_type": "code",
   "execution_count": 93,
   "metadata": {},
   "outputs": [
    {
     "data": {
      "image/png": "[encoded data removed]",
      "text/plain": [
       "<Figure size 432x288 with 1 Axes>"
      ]
     },
     "metadata": {
      "needs_background": "light"
     },
     "output_type": "display_data"
    }
   ],
   "source": [
    "t= np.geomspace(0.000001, 1, 500)\n",
    "t = t[50:]\n",
    "plt.semilogx(t, alpha_1_sobol[50:], label = r'$\\alpha_1$')\n",
    "plt.semilogx(t, alpha_2_sobol[50:], label = r'$\\alpha_2$')\n",
    "plt.semilogx(t, v_1_sobol[50:], label = r'$\\nu_1$')\n",
    "plt.semilogx(t, v_2_sobol[50:], label = r'$\\nu_2$')\n",
    "plt.xlabel('log(t)')\n",
    "plt.title(r'Sobol indicies over time for S with $\\gamma = 1$')\n",
    "plt.legend(loc='best')\n",
    "plt.show()"
   ]
  }
 ],
 "metadata": {
  "kernelspec": {
   "display_name": "Python 3.10.8 64-bit",
   "language": "python",
   "name": "python3"
  },
  "language_info": {
   "codemirror_mode": {
    "name": "ipython",
    "version": 3
   },
   "file_extension": ".py",
   "mimetype": "text/x-python",
   "name": "python",
   "nbconvert_exporter": "python",
   "pygments_lexer": "ipython3",
   "version": "3.10.8"
  },
  "orig_nbformat": 4,
  "vscode": {
   "interpreter": {
    "hash": "b0fa6594d8f4cbf19f97940f81e996739fb7646882a419484c72d19e05852a7e"
   }
  }
 },
 "nbformat": 4,
 "nbformat_minor": 2
}
