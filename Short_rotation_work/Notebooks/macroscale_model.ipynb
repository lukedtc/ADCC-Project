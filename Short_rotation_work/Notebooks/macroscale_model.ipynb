{
 "cells": [
  {
   "cell_type": "code",
   "execution_count": 22,
   "metadata": {},
   "outputs": [],
   "source": [
    "import numpy as np\n",
    "import matplotlib.pyplot as plt\n",
    "from scipy.integrate import solve_ivp\n",
    "import seaborn as sns"
   ]
  },
  {
   "cell_type": "code",
   "execution_count": 23,
   "metadata": {},
   "outputs": [],
   "source": [
    "beta_on = 2e13\n",
    "beta_off = 1e-3\n",
    "t_0 = 1.44e4\n",
    "T_0 = 4.15e-16\n",
    "f_k1 = 1\n",
    "\n",
    "v_1 = beta_on*t_0*T_0\n",
    "v_20 = beta_off*t_0\n",
    "v_21 = (beta_off)**2*t_0"
   ]
  },
  {
   "cell_type": "code",
   "execution_count": 24,
   "metadata": {},
   "outputs": [],
   "source": [
    "def model(t, z, mu):\n",
    "\n",
    "    dS = -f_k1*(3*z[1]/4)\n",
    "    dC = v_1*(mu - z[1])*(z[0] - z[1]) - v_20*(z[1]/4) - v_21*(3*z[1]/4) - f_k1*(z[1]/2)\n",
    "    dz = [dS, dC]\n",
    "\n",
    "    return dz"
   ]
  },
  {
   "cell_type": "code",
   "execution_count": 25,
   "metadata": {},
   "outputs": [],
   "source": [
    "z_0 = [1, 0]\n",
    "mu = 20\n",
    "t= np.geomspace(0.00000001, 1, 1000)\n",
    "t_span = [0.00000001, 1]\n",
    "\n",
    "z = solve_ivp(model, t_span, z_0, args = (mu, ), method = 'Radau', t_eval = t )"
   ]
  },
  {
   "cell_type": "code",
   "execution_count": 26,
   "metadata": {},
   "outputs": [
    {
     "data": {
      "image/png": "[encoded data removed]",
      "text/plain": [
       "<Figure size 432x288 with 1 Axes>"
      ]
     },
     "metadata": {},
     "output_type": "display_data"
    }
   ],
   "source": [
    "S = z.y[0]\n",
    "C = z.y[1]\n",
    "\n",
    "sns.set_theme()\n",
    "\n",
    "plt.semilogx(t, S, label = 'S')\n",
    "plt.semilogx(t, C, label = 'C')\n",
    "plt.legend()\n",
    "plt.show()"
   ]
  }
 ],
 "metadata": {
  "interpreter": {
   "hash": "31f2aee4e71d21fbe5cf8b01ff0e069b9275f58929596ceb00d14d90e3e16cd6"
  },
  "kernelspec": {
   "display_name": "Python 3.8.10 64-bit",
   "language": "python",
   "name": "python3"
  },
  "language_info": {
   "codemirror_mode": {
    "name": "ipython",
    "version": 3
   },
   "file_extension": ".py",
   "mimetype": "text/x-python",
   "name": "python",
   "nbconvert_exporter": "python",
   "pygments_lexer": "ipython3",
   "version": "3.8.10"
  },
  "orig_nbformat": 4
 },
 "nbformat": 4,
 "nbformat_minor": 2
}
