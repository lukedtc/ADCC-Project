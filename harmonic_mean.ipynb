{
 "cells": [
  {
   "cell_type": "code",
   "execution_count": 152,
   "metadata": {},
   "outputs": [],
   "source": [
    "from scipy.constants import N_A\n",
    "import matplotlib.pyplot as plt\n",
    "import numpy as np\n",
    "import math"
   ]
  },
  {
   "cell_type": "code",
   "execution_count": 153,
   "metadata": {},
   "outputs": [
    {
     "name": "stdout",
     "output_type": "stream",
     "text": [
      "3.2647526491891568\n",
      "0.000994718394324346\n",
      "0.0019888308234146212\n"
     ]
    }
   ],
   "source": [
    "tumour_cell_radius = 8e-6 # in m\n",
    "tumour_cell_surface_area = 4*math.pi*((tumour_cell_radius)**2)\n",
    "r_ab = 1.25e-8\n",
    "\n",
    "def harmonic_rate(rtot, kon, r_ab, D):\n",
    "\n",
    "    reaction_volume = (2/3)*math.pi*((r_ab)**3)\n",
    "    target_effective_conc =(rtot)*(tumour_cell_surface_area)*(1/N_A)/(reaction_volume)\n",
    "    k_react = target_effective_conc*kon\n",
    "    print(k_react)\n",
    "\n",
    "    r_ab1 = r_ab*100 # convert from m to cm\n",
    "    tumour_cell_radius1 = tumour_cell_radius*100 \n",
    "    k_diff = 4*D/(math.pi*((tumour_cell_radius1)**2))\n",
    "    print(k_diff)\n",
    "    \n",
    "\n",
    "    return (2*k_react*k_diff)/(k_diff + k_react)\n",
    "\n",
    "rtot = 1e5\n",
    "kon = 1e5\n",
    "D = 5e-10 #cm^2s^-1\n",
    "print(harmonic_rate(rtot, kon, r_ab, D))"
   ]
  }
 ],
 "metadata": {
  "kernelspec": {
   "display_name": "Python 3",
   "language": "python",
   "name": "python3"
  },
  "language_info": {
   "codemirror_mode": {
    "name": "ipython",
    "version": 3
   },
   "file_extension": ".py",
   "mimetype": "text/x-python",
   "name": "python",
   "nbconvert_exporter": "python",
   "pygments_lexer": "ipython3",
   "version": "3.10.9"
  },
  "orig_nbformat": 4,
  "vscode": {
   "interpreter": {
    "hash": "b0fa6594d8f4cbf19f97940f81e996739fb7646882a419484c72d19e05852a7e"
   }
  }
 },
 "nbformat": 4,
 "nbformat_minor": 2
}
