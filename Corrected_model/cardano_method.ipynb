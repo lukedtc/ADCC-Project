{
 "cells": [
  {
   "cell_type": "code",
   "execution_count": 375,
   "metadata": {},
   "outputs": [],
   "source": [
    "from cardano_method import CubicEquation\n",
    "from scipy.constants import N_A\n",
    "import math\n",
    "import numpy as np\n",
    "from scipy.optimize import fsolve\n",
    "import matplotlib.pyplot as plt"
   ]
  },
  {
   "cell_type": "code",
   "execution_count": 376,
   "metadata": {},
   "outputs": [],
   "source": [
    "Target_cell_number = 2e5\n",
    "well_size = 150e-6\n",
    "sigma = well_size*N_A/Target_cell_number\n",
    "tumour_cell_radius = 8e-6\n",
    "tumour_cell_surface_area = 4*math.pi*((tumour_cell_radius)**2)"
   ]
  },
  {
   "cell_type": "code",
   "execution_count": 377,
   "metadata": {},
   "outputs": [],
   "source": [
    "def stst_cubic(kon, koff, D, Ainit, rtot):\n",
    "    k1 = kon/sigma\n",
    "    k2 = 4*D/tumour_cell_surface_area\n",
    "    K1 = k1/koff\n",
    "    K2 = k2/koff\n",
    "    Atot = Ainit*sigma\n",
    "\n",
    "    a = K2*(K1-K2)\n",
    "    b = 3*(K1-K2)-2*K1*K2*Atot\n",
    "    c = K1*(K2*rtot*(2*Atot-rtot) - (Atot + rtot)) - 1\n",
    "    d = 2*K1*Atot*rtot\n",
    "\n",
    "    return [a, b, c, d]\n",
    "\n",
    "def stst(x, kon, koff, D, Ainit, rtot):\n",
    "    k1 = kon/sigma\n",
    "    k2 = 4*D/tumour_cell_surface_area\n",
    "    K1 = k1/koff\n",
    "    K2 = k2/koff\n",
    "    Atot = Ainit*sigma\n",
    "\n",
    "    a = 2*K1*rtot*Atot\n",
    "    b = K1*(K2*rtot*(2*Atot-rtot) - (Atot + rtot)) - 1\n",
    "    c = 3*K1 - 3*K2 - 2*K1*K2*Atot \n",
    "    d = K1*K2 - (K2**2) \n",
    "    print(a, b, c, d)\n",
    "    return a*(x**3) + b*(x**2) + c*x + d\n",
    "\n",
    "def cubic_discr(a, b, c, d):\n",
    "    \n",
    "    return 18*a*b*c*d - 4*((b**3)*d) + (b*c)**2 - 4*a*(c**3) - 27*((a*d)**2)"
   ]
  },
  {
   "cell_type": "code",
   "execution_count": 378,
   "metadata": {},
   "outputs": [
    {
     "name": "stdout",
     "output_type": "stream",
     "text": [
      "[(0.261228+0j), (-0.432408+0.350044j), (-0.432408-0.350044j)]\n"
     ]
    }
   ],
   "source": [
    "kon = 1e5\n",
    "koff = 1e-4\n",
    "D = 1e-13\n",
    "Ainit = 1e-12\n",
    "rtot = 1e3\n",
    "\n",
    "a = CubicEquation(stst_cubic(kon, koff, D, Ainit, rtot))\n",
    "\n",
    "print(a.answers)"
   ]
  },
  {
   "cell_type": "code",
   "execution_count": 379,
   "metadata": {},
   "outputs": [
    {
     "name": "stdout",
     "output_type": "stream",
     "text": [
      "[-24.73660608838842, -14.930716456652162, -2.0678218062595457, 2.0]\n"
     ]
    }
   ],
   "source": [
    "coeffs = stst_cubic(kon, koff, D, Ainit, rtot)\n",
    "a, b, c, d = coeffs\n",
    "\n",
    "print(coeffs)"
   ]
  }
 ],
 "metadata": {
  "kernelspec": {
   "display_name": "Python 3",
   "language": "python",
   "name": "python3"
  },
  "language_info": {
   "codemirror_mode": {
    "name": "ipython",
    "version": 3
   },
   "file_extension": ".py",
   "mimetype": "text/x-python",
   "name": "python",
   "nbconvert_exporter": "python",
   "pygments_lexer": "ipython3",
   "version": "3.10.11"
  }
 },
 "nbformat": 4,
 "nbformat_minor": 2
}
