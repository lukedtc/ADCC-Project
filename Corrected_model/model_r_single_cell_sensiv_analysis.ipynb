{
 "cells": [
  {
   "cell_type": "code",
   "execution_count": 9,
   "metadata": {},
   "outputs": [],
   "source": [
    "import numpy as np\n",
    "from scipy.integrate import solve_ivp\n",
    "from SALib.sample import saltelli, sobol, fast_sampler\n",
    "from SALib.analyze import sobol, fast\n",
    "import seaborn as sns\n",
    "import matplotlib.pyplot as plt\n",
    "import math\n",
    "import SALib\n",
    "from scipy.optimize import fsolve\n",
    "from scipy.constants import N_A"
   ]
  },
  {
   "cell_type": "code",
   "execution_count": 10,
   "metadata": {},
   "outputs": [],
   "source": [
    "Target_cell_number = 2e5\n",
    "well_size = 150e-6\n",
    "r_ab = 1.25e-6 # in cm\n",
    "t_end = 60*60*100000000\n",
    "t = np.geomspace(1e-10, t_end, 20)\n",
    "tspan = [1e-10, t_end]\n",
    "z0 = [0, 0, 0]\n",
    "z01 = [0, 0]\n",
    "T_cell_radius = 5e-4 #cm\n",
    "T_cell_surface_area = 4*math.pi*((T_cell_radius)**2)\n",
    "tumour_cell_radius = 8e-6\n",
    "tumour_cell_surface_area = 4*math.pi*((tumour_cell_radius)**2)"
   ]
  },
  {
   "cell_type": "code",
   "execution_count": 11,
   "metadata": {},
   "outputs": [],
   "source": [
    "sigma = well_size*N_A/Target_cell_number\n",
    "\n",
    "def A1_steady_state(x, Ainit, k1, koff, k2, rtot, dummy):\n",
    "    k1 = k1/sigma\n",
    "    Atot = sigma*Ainit\n",
    "    express = 2*k1*(rtot - x - 2*(k2*x*(rtot-x)/(2*(koff + k2*x))))*(Atot - x - (k2*x*(rtot-x)/(2*(koff + k2*x)))) -koff*x - k2*x*(rtot - x - 2*(k2*x*(rtot-x)/(2*(koff + k2*x)))) +2*koff*(k2*x*(rtot-x)/(2*(koff + k2*x)))\n",
    "\n",
    "    return express\n",
    "\n",
    "def A2_steady_state(x, k2, koff, rtot, dummy):\n",
    "    express = k2*x*(rtot-x)/(2*(koff + k2*x))\n",
    "\n",
    "    return express\n",
    "\n",
    "problem1 = {\n",
    "    'num_vars': 5,\n",
    "    'names': ['rtot', 'kon', 'r_ab', 'koff', 'dummy'],\n",
    "    'bounds': [[4, 6],\n",
    "               [4, 6],\n",
    "               [1e-8, 5e-8],\n",
    "               [-6, -4],\n",
    "               [1, 1000]]\n",
    "}"
   ]
  },
  {
   "cell_type": "code",
   "execution_count": 12,
   "metadata": {},
   "outputs": [],
   "source": [
    "vals = SALib.sample.sobol.sample(problem1, 65536)\n",
    "Y_ag1 = np.zeros(len(vals))\n",
    "Y_ag2 = np.zeros(len(vals))\n",
    "Y_ab = np.zeros(len(vals))\n",
    "indicies_ag1 = []\n",
    "indicies_ag2 = []\n",
    "indicies_ab = []\n",
    "A0s = [1e-11, 1e-10, 1e-9, 1e-8, 1e-7, 1e-6, 1e-5]\n",
    "\n",
    "Y = np.zeros(len(vals))\n",
    "indicies = []\n",
    "indicies_1 = []"
   ]
  },
  {
   "cell_type": "code",
   "execution_count": 13,
   "metadata": {},
   "outputs": [
    {
     "data": {
      "text/plain": [
       "262144"
      ]
     },
     "execution_count": 13,
     "metadata": {},
     "output_type": "execute_result"
    }
   ],
   "source": [
    "16384*16"
   ]
  },
  {
   "cell_type": "code",
   "execution_count": 14,
   "metadata": {},
   "outputs": [
    {
     "name": "stdout",
     "output_type": "stream",
     "text": [
      "1e-11\n",
      "             ST   ST_conf\n",
      "rtot   0.996248  0.008320\n",
      "kon    0.014376  0.000894\n",
      "r_ab   0.000681  0.000055\n",
      "koff   0.014348  0.000960\n",
      "dummy  0.000000  0.000000\n",
      "             S1   S1_conf\n",
      "rtot   0.978540  0.012471\n",
      "kon    0.001078  0.001171\n",
      "r_ab   0.000037  0.000288\n",
      "koff   0.001056  0.001173\n",
      "dummy  0.000000  0.000000\n",
      "                     S2   S2_conf\n",
      "(rtot, kon)    0.005680  0.020265\n",
      "(rtot, r_ab)   0.000116  0.020201\n",
      "(rtot, koff)   0.005715  0.020022\n",
      "(rtot, dummy) -0.000026  0.020196\n",
      "(kon, r_ab)    0.000138  0.001877\n",
      "(kon, koff)    0.001426  0.001758\n",
      "(kon, dummy)   0.000067  0.001878\n",
      "(r_ab, koff)   0.000015  0.000448\n",
      "(r_ab, dummy) -0.000028  0.000468\n",
      "(koff, dummy)  0.000175  0.001713\n",
      "1e-10\n",
      "             ST   ST_conf\n",
      "rtot   0.995642  0.007272\n",
      "kon    0.005514  0.000240\n",
      "r_ab   0.000316  0.000020\n",
      "koff   0.005515  0.000241\n",
      "dummy  0.000000  0.000000\n",
      "             S1   S1_conf\n",
      "rtot   0.991810  0.008140\n",
      "kon    0.001308  0.000824\n",
      "r_ab   0.000031  0.000184\n",
      "koff   0.001313  0.000635\n",
      "dummy  0.000000  0.000000\n",
      "                     S2   S2_conf\n",
      "(rtot, kon)    0.001206  0.007857\n",
      "(rtot, r_ab)   0.000032  0.007845\n",
      "(rtot, koff)   0.001197  0.007928\n",
      "(rtot, dummy) -0.000010  0.007824\n",
      "(kon, r_ab)    0.000102  0.001320\n",
      "(kon, koff)    0.001551  0.001282\n",
      "(kon, dummy)   0.000054  0.001312\n",
      "(r_ab, koff)   0.000061  0.000260\n",
      "(r_ab, dummy)  0.000015  0.000270\n",
      "(koff, dummy)  0.000028  0.000979\n",
      "1e-09\n"
     ]
    },
    {
     "name": "stderr",
     "output_type": "stream",
     "text": [
      "/opt/homebrew/lib/python3.11/site-packages/scipy/optimize/_minpack_py.py:178: RuntimeWarning: The iteration is not making good progress, as measured by the \n",
      "  improvement from the last ten iterations.\n",
      "  warnings.warn(msg, RuntimeWarning)\n"
     ]
    },
    {
     "name": "stdout",
     "output_type": "stream",
     "text": [
      "             ST   ST_conf\n",
      "rtot   0.523265  0.015467\n",
      "kon    0.412470  0.019064\n",
      "r_ab   0.027064  0.001892\n",
      "koff   0.412824  0.016689\n",
      "dummy  0.000000  0.000000\n",
      "             S1   S1_conf\n",
      "rtot   0.402428  0.021328\n",
      "kon    0.135068  0.009747\n",
      "r_ab   0.004051  0.001873\n",
      "koff   0.136540  0.008406\n",
      "dummy  0.000000  0.000000\n",
      "                     S2   S2_conf\n",
      "(rtot, kon)    0.037959  0.030819\n",
      "(rtot, r_ab)   0.000680  0.031354\n",
      "(rtot, koff)   0.035618  0.033747\n",
      "(rtot, dummy) -0.000300  0.031311\n",
      "(kon, r_ab)    0.009661  0.014768\n",
      "(kon, koff)    0.182747  0.022499\n",
      "(kon, dummy)   0.003952  0.014064\n",
      "(r_ab, koff)   0.005867  0.003992\n",
      "(r_ab, dummy)  0.000367  0.003330\n",
      "(koff, dummy)  0.002014  0.012646\n",
      "1e-08\n"
     ]
    },
    {
     "name": "stderr",
     "output_type": "stream",
     "text": [
      "/opt/homebrew/lib/python3.11/site-packages/scipy/optimize/_minpack_py.py:178: RuntimeWarning: The iteration is not making good progress, as measured by the \n",
      "  improvement from the last ten iterations.\n",
      "  warnings.warn(msg, RuntimeWarning)\n"
     ]
    },
    {
     "name": "stdout",
     "output_type": "stream",
     "text": [
      "             ST   ST_conf\n",
      "rtot   0.309444  0.015633\n",
      "kon    0.655903  0.030249\n",
      "r_ab   0.042085  0.003221\n",
      "koff   0.656566  0.028936\n",
      "dummy  0.000000  0.000000\n",
      "             S1   S1_conf\n",
      "rtot   0.055015  0.006885\n",
      "kon    0.197197  0.013449\n",
      "r_ab   0.005844  0.002408\n",
      "koff   0.197037  0.014118\n",
      "dummy  0.000000  0.000000\n",
      "                     S2   S2_conf\n",
      "(rtot, kon)    0.073390  0.019893\n",
      "(rtot, r_ab)   0.000739  0.012492\n",
      "(rtot, koff)   0.072206  0.019863\n",
      "(rtot, dummy) -0.000994  0.012212\n",
      "(kon, r_ab)    0.011944  0.023964\n",
      "(kon, koff)    0.265396  0.038910\n",
      "(kon, dummy)   0.003732  0.022931\n",
      "(r_ab, koff)   0.007740  0.006109\n",
      "(r_ab, dummy) -0.000063  0.004487\n",
      "(koff, dummy)  0.002912  0.022792\n",
      "1e-07\n"
     ]
    },
    {
     "name": "stderr",
     "output_type": "stream",
     "text": [
      "/opt/homebrew/lib/python3.11/site-packages/scipy/optimize/_minpack_py.py:178: RuntimeWarning: The iteration is not making good progress, as measured by the \n",
      "  improvement from the last ten iterations.\n",
      "  warnings.warn(msg, RuntimeWarning)\n"
     ]
    },
    {
     "name": "stdout",
     "output_type": "stream",
     "text": [
      "             ST   ST_conf\n",
      "rtot   0.286840  0.016577\n",
      "kon    0.660439  0.030965\n",
      "r_ab   0.035870  0.002497\n",
      "koff   0.661135  0.027934\n",
      "dummy  0.000000  0.000000\n",
      "             S1   S1_conf\n",
      "rtot   0.051028  0.006137\n",
      "kon    0.204496  0.013272\n",
      "r_ab   0.005209  0.002586\n",
      "koff   0.204379  0.012746\n",
      "dummy  0.000000  0.000000\n",
      "                     S2   S2_conf\n",
      "(rtot, kon)    0.068294  0.015197\n",
      "(rtot, r_ab)   0.000067  0.009847\n",
      "(rtot, koff)   0.067214  0.018567\n",
      "(rtot, dummy) -0.001119  0.009924\n",
      "(kon, r_ab)    0.010829  0.023159\n",
      "(kon, koff)    0.276484  0.035946\n",
      "(kon, dummy)   0.003517  0.022262\n",
      "(r_ab, koff)   0.006992  0.006074\n",
      "(r_ab, dummy) -0.000030  0.004780\n",
      "(koff, dummy)  0.002547  0.022275\n",
      "1e-06\n"
     ]
    },
    {
     "name": "stderr",
     "output_type": "stream",
     "text": [
      "/opt/homebrew/lib/python3.11/site-packages/scipy/optimize/_minpack_py.py:178: RuntimeWarning: The iteration is not making good progress, as measured by the \n",
      "  improvement from the last ten iterations.\n",
      "  warnings.warn(msg, RuntimeWarning)\n"
     ]
    },
    {
     "name": "stdout",
     "output_type": "stream",
     "text": [
      "             ST   ST_conf\n",
      "rtot   0.209173  0.010130\n",
      "kon    0.671822  0.025622\n",
      "r_ab   0.021904  0.001446\n",
      "koff   0.672461  0.030424\n",
      "dummy  0.000000  0.000000\n",
      "             S1   S1_conf\n",
      "rtot   0.038007  0.004221\n",
      "kon    0.230193  0.013338\n",
      "r_ab   0.003643  0.001816\n",
      "koff   0.230192  0.012691\n",
      "dummy  0.000000  0.000000\n",
      "                     S2   S2_conf\n",
      "(rtot, kon)    0.050271  0.012081\n",
      "(rtot, r_ab)  -0.001070  0.007546\n",
      "(rtot, koff)   0.049620  0.012724\n",
      "(rtot, dummy) -0.001312  0.007399\n",
      "(kon, r_ab)    0.007552  0.021486\n",
      "(kon, koff)    0.310751  0.038592\n",
      "(kon, dummy)   0.002556  0.021165\n",
      "(r_ab, koff)   0.004990  0.004470\n",
      "(r_ab, dummy)  0.000046  0.003465\n",
      "(koff, dummy)  0.001379  0.018777\n",
      "1e-05\n",
      "             ST   ST_conf\n",
      "rtot   0.082327  0.004178\n",
      "kon    0.689743  0.019487\n",
      "r_ab   0.008522  0.000532\n",
      "koff   0.690273  0.023663\n",
      "dummy  0.000000  0.000000\n",
      "             S1   S1_conf\n",
      "rtot   0.015239  0.002582\n",
      "kon    0.271648  0.011600\n",
      "r_ab   0.001432  0.000851\n",
      "koff   0.271824  0.013508\n",
      "dummy  0.000000  0.000000\n",
      "                     S2   S2_conf\n",
      "(rtot, kon)    0.019536  0.007982\n",
      "(rtot, r_ab)  -0.000941  0.004663\n",
      "(rtot, koff)   0.019360  0.008419\n",
      "(rtot, dummy) -0.001002  0.004714\n",
      "(kon, r_ab)    0.003126  0.020391\n",
      "(kon, koff)    0.366483  0.039308\n",
      "(kon, dummy)   0.001195  0.020237\n",
      "(r_ab, koff)   0.001850  0.002377\n",
      "(r_ab, dummy)  0.000047  0.001567\n",
      "(koff, dummy)  0.000358  0.020642\n"
     ]
    }
   ],
   "source": [
    "for Ainit in A0s:\n",
    "    print(Ainit)\n",
    "    for i, params in enumerate(vals):\n",
    "      \n",
    "        rtot = params[0]\n",
    "        rtot = 10**rtot\n",
    "        kon = params[1]\n",
    "        kon = 10**kon\n",
    "        r_ab = params[2]\n",
    "        koff = params[3]\n",
    "        koff = 10**koff\n",
    "        dummy = params[4]\n",
    "\n",
    "        reaction_volume = (2*1e3*math.pi*(r_ab**3))/3\n",
    "        target_effective_conc =(rtot)*((math.pi*(r_ab**2))/(tumour_cell_surface_area))*(1/N_A)/(reaction_volume)\n",
    "        k2 = target_effective_conc*kon/rtot  \n",
    "        \n",
    "        if Ainit < 1e-8:\n",
    "            guess = 0\n",
    "        else:\n",
    "            guess = 0\n",
    "\n",
    "        A1_st = fsolve(A1_steady_state, [guess], args=(Ainit, kon, koff, k2, rtot, dummy))\n",
    "        A2_st = A2_steady_state(A1_st, k2, koff, rtot, dummy)\n",
    "        if (A1_st < 0) or (A2_st < 0) :\n",
    "            print('negative')\n",
    "        \n",
    "        if ((A1_st + 2*A2_st) > rtot):\n",
    "            print('blown up')\n",
    "        Ag = (A1_st + 2*A2_st)/rtot\n",
    "        Y[i] = Ag\n",
    "    \n",
    "    Si = sobol.analyze(problem1, Y, print_to_console=True)\n",
    "    indicies.append(Si['ST'])\n",
    "    indicies_1.append(Si['S1'])\n"
   ]
  },
  {
   "cell_type": "code",
   "execution_count": 15,
   "metadata": {},
   "outputs": [
    {
     "name": "stderr",
     "output_type": "stream",
     "text": [
      "/var/folders/fj/3c6fc0c93lg7p91tnylb8zj80000gn/T/ipykernel_46529/952455350.py:27: MatplotlibDeprecationWarning: The get_cmap function was deprecated in Matplotlib 3.7 and will be removed two minor releases later. Use ``matplotlib.colormaps[name]`` or ``matplotlib.colormaps.get_cmap(obj)`` instead.\n",
      "  cm = plt.cm.get_cmap('Dark2')\n",
      "The PostScript backend does not support transparency; partially transparent artists will be rendered opaque.\n"
     ]
    },
    {
     "name": "stdout",
     "output_type": "stream",
     "text": [
      "7\n"
     ]
    },
    {
     "data": {
      "image/png": "[encoded data removed]",
      "text/plain": [
       "<Figure size 1200x800 with 1 Axes>"
      ]
     },
     "metadata": {},
     "output_type": "display_data"
    }
   ],
   "source": [
    "\n",
    "kon_si = np.zeros(len(A0s))\n",
    "koff_si = np.zeros(len(A0s))\n",
    "rab_si = np.zeros(len(A0s))\n",
    "rtot_si = np.zeros(len(A0s))\n",
    "dummy_si = np.zeros(len(A0s))\n",
    "\n",
    "\n",
    "for i in range(len(indicies)):\n",
    "    vals = indicies[i]\n",
    "    rtot_si[i] = vals[0]\n",
    "    kon_si[i] = vals[1]\n",
    "    rab_si[i] = vals[2]\n",
    "    koff_si[i] = vals[3]\n",
    "    dummy_si[i] = vals[4]\n",
    "\n",
    "print(len(indicies))\n",
    "ab_conc = ( r'$10^{-11}$', r'$10^{-10}$', r'$10^{-9}$', r'$10^{-8}$', r'$10^{-7}$', r'$10^{-6}$', r'$10^{-5}$')\n",
    "\n",
    "\n",
    "sns.set_theme()\n",
    "sns.set_context(\"talk\")\n",
    "\n",
    "width = 0.5\n",
    "fig, ax = plt.subplots(figsize=(12,8))\n",
    "bottom = np.zeros(7)\n",
    "\n",
    "cm = plt.cm.get_cmap('Dark2')\n",
    "ax.bar(ab_conc, kon_si, width, label=r'$k^{on}$', bottom= bottom, color=cm(0))\n",
    "bottom+= kon_si\n",
    "ax.bar(ab_conc, koff_si, width, label=r'$k^{off}$', bottom= bottom, color=cm(1))\n",
    "bottom+= koff_si\n",
    "ax.bar(ab_conc, rtot_si, width, label=r'$r^{tot}$', bottom= bottom, color=cm(2))\n",
    "bottom+= rtot_si\n",
    "ax.bar(ab_conc, rab_si, width, label=r'$r^{Ab}$', bottom= bottom, color=cm(5))\n",
    "bottom+= rab_si\n",
    "ax.bar(ab_conc, dummy_si, width, label='dummy variable', bottom=bottom, color=cm(4))\n",
    "ax.legend(loc='best')\n",
    "ax.set_xlabel('Antibody Concentration (M)')\n",
    "ax.set_ylabel('Total Order Sobol Indicies')\n",
    "plt.savefig('/Users/lukeheirene/ADCC-Project/Figures/model_r_receptor_occupancy_total_order_sensiv_analysis.eps')"
   ]
  },
  {
   "cell_type": "code",
   "execution_count": 16,
   "metadata": {},
   "outputs": [
    {
     "data": {
      "text/plain": [
       "6.227021501901925e-07"
      ]
     },
     "execution_count": 16,
     "metadata": {},
     "output_type": "execute_result"
    }
   ],
   "source": [
    "3*1e6/(8*N_A*1e3*1e-15)"
   ]
  }
 ],
 "metadata": {
  "kernelspec": {
   "display_name": "Python 3",
   "language": "python",
   "name": "python3"
  },
  "language_info": {
   "codemirror_mode": {
    "name": "ipython",
    "version": 3
   },
   "file_extension": ".py",
   "mimetype": "text/x-python",
   "name": "python",
   "nbconvert_exporter": "python",
   "pygments_lexer": "ipython3",
   "version": "3.11.3"
  },
  "orig_nbformat": 4,
  "vscode": {
   "interpreter": {
    "hash": "b0fa6594d8f4cbf19f97940f81e996739fb7646882a419484c72d19e05852a7e"
   }
  }
 },
 "nbformat": 4,
 "nbformat_minor": 2
}
