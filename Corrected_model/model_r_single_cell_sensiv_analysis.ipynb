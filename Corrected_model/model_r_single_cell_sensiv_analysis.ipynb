{
 "cells": [
  {
   "cell_type": "code",
   "execution_count": 79,
   "metadata": {},
   "outputs": [],
   "source": [
    "import numpy as np\n",
    "from scipy.integrate import solve_ivp\n",
    "from SALib.sample import saltelli, sobol, fast_sampler\n",
    "from SALib.analyze import sobol, fast\n",
    "import seaborn as sns\n",
    "import matplotlib.pyplot as plt\n",
    "import math\n",
    "import SALib\n",
    "from scipy.optimize import fsolve\n",
    "from scipy.constants import N_A"
   ]
  },
  {
   "cell_type": "code",
   "execution_count": 80,
   "metadata": {},
   "outputs": [],
   "source": [
    "Target_cell_number = 2e5\n",
    "well_size = 150e-6\n",
    "r_ab = 1.25e-6 # in cm\n",
    "t_end = 60*60*100000000\n",
    "t = np.geomspace(1e-10, t_end, 20)\n",
    "tspan = [1e-10, t_end]\n",
    "z0 = [0, 0, 0]\n",
    "z01 = [0, 0]\n",
    "T_cell_radius = 5e-4 #cm\n",
    "T_cell_surface_area = 4*math.pi*((T_cell_radius)**2)\n",
    "tumour_cell_radius = 8e-6\n",
    "tumour_cell_surface_area = 4*math.pi*((tumour_cell_radius)**2)"
   ]
  },
  {
   "cell_type": "code",
   "execution_count": 81,
   "metadata": {},
   "outputs": [],
   "source": [
    "sigma = well_size*N_A/Target_cell_number\n",
    "\n",
    "def A1_steady_state(x, Ainit, k1, koff, k2, rtot, dummy):\n",
    "    k1 = k1/sigma\n",
    "    Atot = sigma*Ainit\n",
    "    express = 2*k1*(rtot - x - 2*(k2*x*(rtot-x)/(2*(koff + k2*x))))*(Atot - x - (k2*x*(rtot-x)/(2*(koff + k2*x)))) -koff*x - k2*x*(rtot - x - 2*(k2*x*(rtot-x)/(2*(koff + k2*x)))) +2*koff*(k2*x*(rtot-x)/(2*(koff + k2*x)))\n",
    "\n",
    "    return express\n",
    "\n",
    "def A2_steady_state(x, k2, koff, rtot, dummy):\n",
    "    express = k2*x*(rtot-x)/(2*(koff + k2*x))\n",
    "\n",
    "    return express\n",
    "\n",
    "problem1 = {\n",
    "    'num_vars': 5,\n",
    "    'names': ['rtot', 'kon', 'r_ab', 'koff', 'dummy'],\n",
    "    'bounds': [[4, 6],\n",
    "               [4, 6],\n",
    "               [1e-8, 5e-8],\n",
    "               [-6, -4],\n",
    "               [1, 1000]]\n",
    "}"
   ]
  },
  {
   "cell_type": "code",
   "execution_count": 82,
   "metadata": {},
   "outputs": [],
   "source": [
    "vals = SALib.sample.sobol.sample(problem1, 65536)\n",
    "Y_ag1 = np.zeros(len(vals))\n",
    "Y_ag2 = np.zeros(len(vals))\n",
    "Y_ab = np.zeros(len(vals))\n",
    "indicies_ag1 = []\n",
    "indicies_ag2 = []\n",
    "indicies_ab = []\n",
    "A0s = [1e-11, 1e-10, 1e-9, 1e-8, 1e-7, 1e-6, 1e-5]\n",
    "\n",
    "Y = np.zeros(len(vals))\n",
    "indicies = []\n",
    "indicies_1 = []"
   ]
  },
  {
   "cell_type": "code",
   "execution_count": 83,
   "metadata": {},
   "outputs": [
    {
     "data": {
      "text/plain": [
       "262144"
      ]
     },
     "execution_count": 83,
     "metadata": {},
     "output_type": "execute_result"
    }
   ],
   "source": [
    "16384*16"
   ]
  },
  {
   "cell_type": "code",
   "execution_count": 84,
   "metadata": {},
   "outputs": [
    {
     "name": "stdout",
     "output_type": "stream",
     "text": [
      "1e-11\n",
      "             ST   ST_conf\n",
      "rtot   0.778011  0.040342\n",
      "kon    0.589899  0.034029\n",
      "r_ab   0.032628  0.002845\n",
      "koff   0.591750  0.034494\n",
      "dummy  0.000000  0.000000\n",
      "             S1   S1_conf\n",
      "rtot   0.144491  0.016781\n",
      "kon    0.060609  0.013520\n",
      "r_ab   0.001764  0.001645\n",
      "koff   0.060924  0.012501\n",
      "dummy  0.000000  0.000000\n",
      "                     S2   S2_conf\n",
      "(rtot, kon)    0.188817  0.042556\n",
      "(rtot, r_ab)   0.006647  0.029395\n",
      "(rtot, koff)   0.188324  0.042203\n",
      "(rtot, dummy)  0.001651  0.029039\n",
      "(kon, r_ab)    0.000596  0.021223\n",
      "(kon, koff)    0.091289  0.032440\n",
      "(kon, dummy)  -0.001916  0.020455\n",
      "(r_ab, koff)   0.002868  0.004469\n",
      "(r_ab, dummy)  0.000644  0.003392\n",
      "(koff, dummy) -0.000359  0.020364\n",
      "1e-10\n",
      "             ST   ST_conf\n",
      "rtot   0.999084  0.007918\n",
      "kon    0.001339  0.000072\n",
      "r_ab   0.000072  0.000005\n",
      "koff   0.001338  0.000076\n",
      "dummy  0.000000  0.000000\n",
      "             S1   S1_conf\n",
      "rtot   0.998014  0.008774\n",
      "kon    0.000276  0.000355\n",
      "r_ab   0.000010  0.000077\n",
      "koff   0.000268  0.000367\n",
      "dummy  0.000000  0.000000\n",
      "                     S2   S2_conf\n",
      "(rtot, kon)    0.000343  0.008340\n",
      "(rtot, r_ab)  -0.000005  0.008287\n",
      "(rtot, koff)   0.000349  0.008389\n",
      "(rtot, dummy) -0.000008  0.008296\n",
      "(kon, r_ab)    0.000022  0.000561\n",
      "(kon, koff)    0.000343  0.000562\n",
      "(kon, dummy)   0.000013  0.000561\n",
      "(r_ab, koff)   0.000008  0.000128\n",
      "(r_ab, dummy) -0.000001  0.000127\n",
      "(koff, dummy)  0.000051  0.000533\n",
      "1e-09\n"
     ]
    },
    {
     "name": "stderr",
     "output_type": "stream",
     "text": [
      "/opt/homebrew/lib/python3.11/site-packages/scipy/optimize/_minpack_py.py:178: RuntimeWarning: The iteration is not making good progress, as measured by the \n",
      "  improvement from the last ten iterations.\n",
      "  warnings.warn(msg, RuntimeWarning)\n"
     ]
    },
    {
     "name": "stdout",
     "output_type": "stream",
     "text": [
      "             ST       ST_conf\n",
      "rtot   0.999978  7.796387e-03\n",
      "kon    0.000040  2.947245e-06\n",
      "r_ab   0.000003  3.317788e-07\n",
      "koff   0.000040  2.870386e-06\n",
      "dummy  0.000000  0.000000e+00\n",
      "                 S1   S1_conf\n",
      "rtot   9.999470e-01  0.011943\n",
      "kon    8.031926e-06  0.000068\n",
      "r_ab  -4.708154e-08  0.000017\n",
      "koff   8.331584e-06  0.000071\n",
      "dummy  0.000000e+00  0.000000\n",
      "                     S2   S2_conf\n",
      "(rtot, kon)    0.000006  0.018182\n",
      "(rtot, r_ab)  -0.000004  0.018186\n",
      "(rtot, koff)   0.000007  0.018184\n",
      "(rtot, dummy) -0.000005  0.018191\n",
      "(kon, r_ab)    0.000004  0.000100\n",
      "(kon, koff)    0.000014  0.000100\n",
      "(kon, dummy)   0.000004  0.000100\n",
      "(r_ab, koff)   0.000002  0.000022\n",
      "(r_ab, dummy)  0.000002  0.000022\n",
      "(koff, dummy) -0.000035  0.000114\n",
      "1e-08\n"
     ]
    },
    {
     "name": "stderr",
     "output_type": "stream",
     "text": [
      "/opt/homebrew/lib/python3.11/site-packages/scipy/optimize/_minpack_py.py:178: RuntimeWarning: The iteration is not making good progress, as measured by the \n",
      "  improvement from the last ten iterations.\n",
      "  warnings.warn(msg, RuntimeWarning)\n"
     ]
    },
    {
     "name": "stdout",
     "output_type": "stream",
     "text": [
      "             ST       ST_conf\n",
      "rtot   0.999983  8.596867e-03\n",
      "kon    0.000001  5.830780e-08\n",
      "r_ab   0.000023  3.921400e-07\n",
      "koff   0.000001  6.628681e-08\n",
      "dummy  0.000000  0.000000e+00\n",
      "                 S1   S1_conf\n",
      "rtot   9.999761e-01  0.013318\n",
      "kon    4.772906e-07  0.000011\n",
      "r_ab   1.562859e-05  0.000051\n",
      "koff   3.309784e-07  0.000012\n",
      "dummy  0.000000e+00  0.000000\n",
      "                         S2   S2_conf\n",
      "(rtot, kon)   -7.190094e-08  0.018596\n",
      "(rtot, r_ab)   6.885558e-06  0.018592\n",
      "(rtot, koff)   6.568153e-08  0.018596\n",
      "(rtot, dummy)  8.586362e-09  0.018596\n",
      "(kon, r_ab)    1.508805e-07  0.000016\n",
      "(kon, koff)    5.782271e-07  0.000016\n",
      "(kon, dummy)   1.353601e-07  0.000016\n",
      "(r_ab, koff)   4.308363e-07  0.000069\n",
      "(r_ab, dummy)  4.202039e-07  0.000069\n",
      "(koff, dummy)  2.060772e-09  0.000018\n",
      "1e-07\n"
     ]
    },
    {
     "name": "stderr",
     "output_type": "stream",
     "text": [
      "/opt/homebrew/lib/python3.11/site-packages/scipy/optimize/_minpack_py.py:178: RuntimeWarning: The iteration is not making good progress, as measured by the \n",
      "  improvement from the last ten iterations.\n",
      "  warnings.warn(msg, RuntimeWarning)\n"
     ]
    },
    {
     "name": "stdout",
     "output_type": "stream",
     "text": [
      "                 ST       ST_conf\n",
      "rtot   9.998584e-01  7.841153e-03\n",
      "kon    1.043460e-07  4.868516e-09\n",
      "r_ab   2.116574e-04  3.912436e-06\n",
      "koff   1.042298e-07  5.043611e-09\n",
      "dummy  0.000000e+00  0.000000e+00\n",
      "                 S1   S1_conf\n",
      "rtot   9.997883e-01  0.012095\n",
      "kon    7.437252e-08  0.000003\n",
      "r_ab   1.414863e-04  0.000153\n",
      "koff   2.850883e-08  0.000004\n",
      "dummy  0.000000e+00  0.000000\n",
      "                         S2   S2_conf\n",
      "(rtot, kon)   -8.281672e-08  0.018825\n",
      "(rtot, r_ab)   7.014671e-05  0.018828\n",
      "(rtot, koff)  -4.365398e-08  0.018827\n",
      "(rtot, dummy) -3.336975e-08  0.018826\n",
      "(kon, r_ab)    4.041614e-08  0.000005\n",
      "(kon, koff)    7.913102e-08  0.000005\n",
      "(kon, dummy)   3.873891e-08  0.000005\n",
      "(r_ab, koff)   7.498436e-08  0.000251\n",
      "(r_ab, dummy)  7.588618e-08  0.000251\n",
      "(koff, dummy)  8.846028e-10  0.000005\n",
      "1e-06\n"
     ]
    },
    {
     "name": "stderr",
     "output_type": "stream",
     "text": [
      "/opt/homebrew/lib/python3.11/site-packages/scipy/optimize/_minpack_py.py:178: RuntimeWarning: The iteration is not making good progress, as measured by the \n",
      "  improvement from the last ten iterations.\n",
      "  warnings.warn(msg, RuntimeWarning)\n"
     ]
    },
    {
     "name": "stdout",
     "output_type": "stream",
     "text": [
      "                 ST       ST_conf\n",
      "rtot   9.992148e-01  7.773062e-03\n",
      "kon    8.634453e-09  4.263295e-10\n",
      "r_ab   1.334076e-03  2.409585e-05\n",
      "koff   8.624724e-09  4.214304e-10\n",
      "dummy  0.000000e+00  0.000000e+00\n",
      "                 S1       S1_conf\n",
      "rtot   9.986660e-01  1.105625e-02\n",
      "kon    1.446911e-08  1.068529e-06\n",
      "r_ab   7.852400e-04  4.379942e-04\n",
      "koff   3.377129e-09  9.691495e-07\n",
      "dummy  0.000000e+00  0.000000e+00\n",
      "                         S2   S2_conf\n",
      "(rtot, kon)   -1.439221e-07  0.018887\n",
      "(rtot, r_ab)   5.487290e-04  0.018872\n",
      "(rtot, koff)  -1.376909e-07  0.018887\n",
      "(rtot, dummy) -1.317495e-07  0.018887\n",
      "(kon, r_ab)    1.203278e-08  0.000002\n",
      "(kon, koff)    1.502960e-08  0.000002\n",
      "(kon, dummy)   1.174726e-08  0.000002\n",
      "(r_ab, koff)  -1.036978e-07  0.000674\n",
      "(r_ab, dummy) -1.019347e-07  0.000674\n",
      "(koff, dummy) -1.335028e-09  0.000001\n",
      "1e-05\n",
      "                 ST       ST_conf\n",
      "rtot   9.983270e-01  8.252637e-03\n",
      "kon    5.089891e-10  2.493332e-11\n",
      "r_ab   3.767498e-03  6.786602e-05\n",
      "koff   5.083608e-10  2.946414e-11\n",
      "dummy  0.000000e+00  0.000000e+00\n",
      "                 S1       S1_conf\n",
      "rtot   9.962328e-01  1.343266e-02\n",
      "kon    2.696703e-09  2.496399e-07\n",
      "r_ab   1.673177e-03  5.736229e-04\n",
      "koff   1.463243e-09  2.238790e-07\n",
      "dummy  0.000000e+00  0.000000e+00\n",
      "                         S2       S2_conf\n",
      "(rtot, kon)   -4.174084e-07  1.990904e-02\n",
      "(rtot, r_ab)   2.093959e-03  2.004190e-02\n",
      "(rtot, koff)  -4.185516e-07  1.990904e-02\n",
      "(rtot, dummy) -4.161150e-07  1.990908e-02\n",
      "(kon, r_ab)    3.283624e-09  4.201681e-07\n",
      "(kon, koff)    3.424298e-09  4.186663e-07\n",
      "(kon, dummy)   3.249209e-09  4.186732e-07\n",
      "(r_ab, koff)  -2.668885e-07  1.131987e-03\n",
      "(r_ab, dummy) -2.655872e-07  1.131989e-03\n",
      "(koff, dummy) -3.192198e-09  3.725877e-07\n"
     ]
    }
   ],
   "source": [
    "for Ainit in A0s:\n",
    "    print(Ainit)\n",
    "    for i, params in enumerate(vals):\n",
    "      \n",
    "        rtot = params[0]\n",
    "        rtot = 10**rtot\n",
    "        kon = params[1]\n",
    "        kon = 10**kon\n",
    "        r_ab = params[2]\n",
    "        koff = params[3]\n",
    "        koff = 10**koff\n",
    "        dummy = params[4]\n",
    "\n",
    "        reaction_volume = (2*1e3*math.pi*(r_ab**3))/3\n",
    "        target_effective_conc =(rtot)*((math.pi*(r_ab**2))/(tumour_cell_surface_area))*(1/N_A)/(reaction_volume)\n",
    "        k2 = target_effective_conc*kon/rtot  \n",
    "        \n",
    "        if Ainit < 1e-8:\n",
    "            guess = 0\n",
    "        else:\n",
    "            guess = 0\n",
    "\n",
    "        A1_st = fsolve(A1_steady_state, [guess], args=(Ainit, kon, koff, k2, rtot, dummy))\n",
    "        A2_st = A2_steady_state(A1_st, k2, koff, rtot, dummy)\n",
    "        if (A1_st < 0) or (A2_st < 0) :\n",
    "            print('negative')\n",
    "        \n",
    "        if ((A1_st + 2*A2_st) > rtot):\n",
    "            print('blown up')\n",
    "        Ag = (A1_st + A2_st)\n",
    "        Y[i] = Ag\n",
    "    \n",
    "    Si = sobol.analyze(problem1, Y, print_to_console=True)\n",
    "    indicies.append(Si['ST'])\n",
    "    indicies_1.append(Si['S1'])\n"
   ]
  },
  {
   "cell_type": "code",
   "execution_count": 85,
   "metadata": {},
   "outputs": [
    {
     "name": "stdout",
     "output_type": "stream",
     "text": [
      "7\n"
     ]
    },
    {
     "name": "stderr",
     "output_type": "stream",
     "text": [
      "/var/folders/fj/3c6fc0c93lg7p91tnylb8zj80000gn/T/ipykernel_37115/2877542889.py:27: MatplotlibDeprecationWarning: The get_cmap function was deprecated in Matplotlib 3.7 and will be removed two minor releases later. Use ``matplotlib.colormaps[name]`` or ``matplotlib.colormaps.get_cmap(obj)`` instead.\n",
      "  cm = plt.cm.get_cmap('Dark2')\n"
     ]
    },
    {
     "data": {
      "image/png": "[encoded data removed]",
      "text/plain": [
       "<Figure size 1200x800 with 1 Axes>"
      ]
     },
     "metadata": {},
     "output_type": "display_data"
    }
   ],
   "source": [
    "\n",
    "kon_si = np.zeros(len(A0s))\n",
    "koff_si = np.zeros(len(A0s))\n",
    "rab_si = np.zeros(len(A0s))\n",
    "rtot_si = np.zeros(len(A0s))\n",
    "dummy_si = np.zeros(len(A0s))\n",
    "\n",
    "\n",
    "for i in range(len(indicies)):\n",
    "    vals = indicies[i]\n",
    "    rtot_si[i] = vals[0]\n",
    "    kon_si[i] = vals[1]\n",
    "    rab_si[i] = vals[2]\n",
    "    koff_si[i] = vals[3]\n",
    "    dummy_si[i] = vals[4]\n",
    "\n",
    "print(len(indicies))\n",
    "ab_conc = ( r'$10^{-11}$', r'$10^{-10}$', r'$10^{-9}$', r'$10^{-8}$', r'$10^{-7}$', r'$10^{-6}$', r'$10^{-5}$')\n",
    "\n",
    "\n",
    "sns.set_theme()\n",
    "sns.set_context(\"talk\")\n",
    "\n",
    "width = 0.5\n",
    "fig, ax = plt.subplots(figsize=(12,8))\n",
    "bottom = np.zeros(7)\n",
    "\n",
    "cm = plt.cm.get_cmap('Dark2')\n",
    "ax.bar(ab_conc, kon_si, width, label=r'$k^{on}$', bottom= bottom, color=cm(0))\n",
    "bottom+= kon_si\n",
    "ax.bar(ab_conc, koff_si, width, label=r'$k^{off}$', bottom= bottom, color=cm(1))\n",
    "bottom+= koff_si\n",
    "ax.bar(ab_conc, rtot_si, width, label=r'$r^{tot}$', bottom= bottom, color=cm(2))\n",
    "bottom+= rtot_si\n",
    "ax.bar(ab_conc, rab_si, width, label=r'$r^{Ab}$', bottom= bottom, color=cm(5))\n",
    "bottom+= rab_si\n",
    "ax.bar(ab_conc, dummy_si, width, label='dummy variable', bottom=bottom, color=cm(4))\n",
    "ax.legend(loc='best')\n",
    "ax.set_xlabel('Antibody Concentration (M)')\n",
    "ax.set_ylabel('Total Order Sobol Indicies')\n",
    "plt.savefig('/Users/lukeheirene/ADCC-Project/Figures/model_r_bound_antibody_total_order_sensiv_analysis.png')"
   ]
  },
  {
   "cell_type": "code",
   "execution_count": 86,
   "metadata": {},
   "outputs": [
    {
     "data": {
      "text/plain": [
       "6.227021501901925e-07"
      ]
     },
     "execution_count": 86,
     "metadata": {},
     "output_type": "execute_result"
    }
   ],
   "source": [
    "3*1e6/(8*N_A*1e3*1e-15)"
   ]
  }
 ],
 "metadata": {
  "kernelspec": {
   "display_name": "Python 3",
   "language": "python",
   "name": "python3"
  },
  "language_info": {
   "codemirror_mode": {
    "name": "ipython",
    "version": 3
   },
   "file_extension": ".py",
   "mimetype": "text/x-python",
   "name": "python",
   "nbconvert_exporter": "python",
   "pygments_lexer": "ipython3",
   "version": "3.11.3"
  },
  "orig_nbformat": 4,
  "vscode": {
   "interpreter": {
    "hash": "b0fa6594d8f4cbf19f97940f81e996739fb7646882a419484c72d19e05852a7e"
   }
  }
 },
 "nbformat": 4,
 "nbformat_minor": 2
}
